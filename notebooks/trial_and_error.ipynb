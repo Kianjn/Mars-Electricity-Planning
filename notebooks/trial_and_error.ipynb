{
 "cells": [
  {
   "cell_type": "code",
   "execution_count": 1,
   "id": "9a6342d2-a8dd-4ac7-b92c-929b7b09aa13",
   "metadata": {},
   "outputs": [],
   "source": [
    "import pypsa"
   ]
  },
  {
   "cell_type": "code",
   "execution_count": 3,
   "id": "a284e98d-1087-47af-949c-dbfb38566d7d",
   "metadata": {},
   "outputs": [
    {
     "data": {
      "text/plain": [
       "Empty PyPSA Network\n",
       "Components: none\n",
       "Snapshots: 1"
      ]
     },
     "execution_count": 3,
     "metadata": {},
     "output_type": "execute_result"
    }
   ],
   "source": [
    "n = pypsa.Network()\n",
    "n"
   ]
  },
  {
   "cell_type": "code",
   "execution_count": null,
   "id": "aacf262a-8b0e-41ab-bd59-1d686d0d51a8",
   "metadata": {},
   "outputs": [],
   "source": []
  }
 ],
 "metadata": {
  "kernelspec": {
   "display_name": "Python 3 (ipykernel)",
   "language": "python",
   "name": "python3"
  },
  "language_info": {
   "codemirror_mode": {
    "name": "ipython",
    "version": 3
   },
   "file_extension": ".py",
   "mimetype": "text/x-python",
   "name": "python",
   "nbconvert_exporter": "python",
   "pygments_lexer": "ipython3",
   "version": "3.9.18"
  }
 },
 "nbformat": 4,
 "nbformat_minor": 5
}
