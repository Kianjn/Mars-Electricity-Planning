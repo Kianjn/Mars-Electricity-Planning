{
 "cells": [
  {
   "cell_type": "code",
   "execution_count": 85,
   "id": "9a6342d2-a8dd-4ac7-b92c-929b7b09aa13",
   "metadata": {},
   "outputs": [],
   "source": [
    "import pypsa\n",
    "import pandas as pd"
   ]
  },
  {
   "cell_type": "code",
   "execution_count": 86,
   "id": "a284e98d-1087-47af-949c-dbfb38566d7d",
   "metadata": {},
   "outputs": [
    {
     "data": {
      "text/plain": [
       "Empty PyPSA Network\n",
       "Components: none\n",
       "Snapshots: 1"
      ]
     },
     "execution_count": 86,
     "metadata": {},
     "output_type": "execute_result"
    }
   ],
   "source": [
    "n = pypsa.Network()\n",
    "n"
   ]
  },
  {
   "cell_type": "code",
   "execution_count": 87,
   "id": "457d3104-da10-4190-b193-a32219ba50c9",
   "metadata": {},
   "outputs": [
    {
     "data": {
      "text/plain": [
       "Index(['heat'], dtype='object')"
      ]
     },
     "execution_count": 87,
     "metadata": {},
     "output_type": "execute_result"
    }
   ],
   "source": [
    "n.add('Bus', 'electricity')\n",
    "n.add('Bus', 'heat')"
   ]
  },
  {
   "cell_type": "code",
   "execution_count": 127,
   "id": "9ef28a36-ada5-44ec-a99c-491f9e41771e",
   "metadata": {},
   "outputs": [],
   "source": [
    "snapshots = pd.date_range(start=\"2040-01-01\", end=\"2099-12-31\", freq=\"D\")\n",
    "n.set_snapshots(snapshots)\n",
    "\n",
    "url1 = '/Users/kian/GitHub/Mars-Electricity-Planning/data/Mars_Electricity_Demand_Daily_2040_2100.csv'\n",
    "url2 = '/Users/kian/GitHub/Mars-Electricity-Planning/data/Mars_Heat_Demand_Daily_2040_2100.csv'\n",
    "elec = pd.read_csv(url1)\n",
    "heat = pd.read_csv(url2)\n",
    "elec = elec[\"Demand (kW)\"]\n",
    "heat = heat[\"Demand (kW)\"]\n",
    "\n",
    "# Reindex to match snapshots\n",
    "elec.index = snapshots\n",
    "heat.index = snapshots"
   ]
  },
  {
   "cell_type": "code",
   "execution_count": 125,
   "id": "16633532-f856-4e63-a845-0064c0228fde",
   "metadata": {},
   "outputs": [
    {
     "data": {
      "text/plain": [
       "Index(['heat demand'], dtype='object', name='Load')"
      ]
     },
     "execution_count": 125,
     "metadata": {},
     "output_type": "execute_result"
    }
   ],
   "source": [
    "n.add(\n",
    "    'Load',\n",
    "    'power demand',\n",
    "    bus = 'electricity',\n",
    "    p_set = elec,\n",
    "    overwrite = True\n",
    ")\n",
    "n.add(\n",
    "    'Load',\n",
    "    'heat demand',\n",
    "    bus = 'heat',\n",
    "    p_set = heat,\n",
    "    overwrite = True\n",
    ")"
   ]
  },
  {
   "cell_type": "code",
   "execution_count": 126,
   "id": "182493e7-0076-49c4-ad5e-44081e909cf6",
   "metadata": {},
   "outputs": [
    {
     "data": {
      "text/plain": [
       "<Axes: xlabel='snapshot', ylabel='kW'>"
      ]
     },
     "execution_count": 126,
     "metadata": {},
     "output_type": "execute_result"
    },
    {
     "data": {
      "image/png": "[encoded data removed]",
      "text/plain": [
       "<Figure size 600x200 with 1 Axes>"
      ]
     },
     "metadata": {},
     "output_type": "display_data"
    }
   ],
   "source": [
    "n.loads_t.p_set.plot(figsize = (6, 2), ylabel = 'kW')"
   ]
  },
  {
   "cell_type": "code",
   "execution_count": null,
   "id": "329acbb9-8548-4672-9de5-412dfe48289e",
   "metadata": {},
   "outputs": [],
   "source": [
    "carriers = [\n",
    "    'solar', 'nuclear', 'geothermal', 'heater', 'hydrogen storage', 'battery storage'\n",
    "]\n",
    "colors = ['gold', 'dodgerblue', 'brown', 'gold', 'indianred', 'magenta']\n",
    "\n",
    "n.add(\n",
    "    'Carrier',\n",
    "    carriers,\n",
    "    color = colors,\n",
    ")"
   ]
  }
 ],
 "metadata": {
  "kernelspec": {
   "display_name": "Python 3 (ipykernel)",
   "language": "python",
   "name": "python3"
  },
  "language_info": {
   "codemirror_mode": {
    "name": "ipython",
    "version": 3
   },
   "file_extension": ".py",
   "mimetype": "text/x-python",
   "name": "python",
   "nbconvert_exporter": "python",
   "pygments_lexer": "ipython3",
   "version": "3.9.18"
  }
 },
 "nbformat": 4,
 "nbformat_minor": 5
}
