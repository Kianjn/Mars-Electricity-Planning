{
 "cells": [
  {
   "cell_type": "code",
   "execution_count": 45,
   "id": "e117f08e-4c6b-4b4c-9e1b-45b131d1bc87",
   "metadata": {},
   "outputs": [],
   "source": [
    "import pypsa\n",
    "import pandas as pd"
   ]
  },
  {
   "cell_type": "code",
   "execution_count": 46,
   "id": "5382e5ca-3ef0-4811-a459-da0471fa88a5",
   "metadata": {},
   "outputs": [
    {
     "name": "stderr",
     "output_type": "stream",
     "text": [
      "INFO:pypsa.io:Imported network network.nc has buses, carriers, generators, links, loads, storage_units\n"
     ]
    }
   ],
   "source": [
    "# Load the network\n",
    "n = pypsa.Network(\"network.nc\")"
   ]
  },
  {
   "cell_type": "code",
   "execution_count": 48,
   "id": "f02ac732-0706-4d2e-921f-d2c87d1352a0",
   "metadata": {},
   "outputs": [
    {
     "name": "stderr",
     "output_type": "stream",
     "text": [
      "WARNING:pypsa.consistency:The following buses have carriers which are not defined:\n",
      "Index(['electricity', 'heat', 'nuclear', 'geothermal'], dtype='object', name='Bus')\n",
      "WARNING:pypsa.consistency:The following buses have carriers which are not defined:\n",
      "Index(['electricity', 'heat', 'nuclear', 'geothermal'], dtype='object', name='Bus')\n"
     ]
    },
    {
     "name": "stdout",
     "output_type": "stream",
     "text": [
      "Running initial optimization without constraints...\n"
     ]
    },
    {
     "name": "stderr",
     "output_type": "stream",
     "text": [
      "INFO:linopy.model: Solve problem using Gurobi solver\n",
      "INFO:linopy.model:Solver logs written to `initial_solver_log.txt`.\n",
      "INFO:linopy.io:Writing objective.\n",
      "Writing constraints.: 100%|\u001b[38;2;128;191;255m█████████████████████\u001b[0m| 18/18 [00:08<00:00,  2.21it/s]\u001b[0m\n",
      "Writing continuous variables.: 100%|\u001b[38;2;128;191;255m██████████████\u001b[0m| 8/8 [00:01<00:00,  6.46it/s]\u001b[0m\n",
      "INFO:linopy.io: Writing time: 9.81s\n"
     ]
    },
    {
     "name": "stdout",
     "output_type": "stream",
     "text": [
      "Set parameter Username\n"
     ]
    },
    {
     "name": "stderr",
     "output_type": "stream",
     "text": [
      "INFO:gurobipy:Set parameter Username\n"
     ]
    },
    {
     "name": "stdout",
     "output_type": "stream",
     "text": [
      "Academic license - for non-commercial use only - expires 2025-11-18\n"
     ]
    },
    {
     "name": "stderr",
     "output_type": "stream",
     "text": [
      "INFO:gurobipy:Academic license - for non-commercial use only - expires 2025-11-18\n"
     ]
    },
    {
     "name": "stdout",
     "output_type": "stream",
     "text": [
      "Read LP format model from file /private/var/folders/4n/6ydjnj8d16x_m4by160ndjw80000gn/T/linopy-problem-u_7r6eev.lp\n"
     ]
    },
    {
     "name": "stderr",
     "output_type": "stream",
     "text": [
      "INFO:gurobipy:Read LP format model from file /private/var/folders/4n/6ydjnj8d16x_m4by160ndjw80000gn/T/linopy-problem-u_7r6eev.lp\n"
     ]
    },
    {
     "name": "stdout",
     "output_type": "stream",
     "text": [
      "Reading time = 3.59 seconds\n"
     ]
    },
    {
     "name": "stderr",
     "output_type": "stream",
     "text": [
      "INFO:gurobipy:Reading time = 3.59 seconds\n"
     ]
    },
    {
     "name": "stdout",
     "output_type": "stream",
     "text": [
      "obj: 4558326 rows, 1753206 columns, 8846361 nonzeros\n"
     ]
    },
    {
     "name": "stderr",
     "output_type": "stream",
     "text": [
      "INFO:gurobipy:obj: 4558326 rows, 1753206 columns, 8846361 nonzeros\n"
     ]
    },
    {
     "name": "stdout",
     "output_type": "stream",
     "text": [
      "Set parameter LogFile to value \"/Users/kian/GitHub/Mars-Electricity-Planning/notebooks/initial_solver_log.txt\"\n"
     ]
    },
    {
     "name": "stderr",
     "output_type": "stream",
     "text": [
      "INFO:gurobipy:Set parameter LogFile to value \"/Users/kian/GitHub/Mars-Electricity-Planning/notebooks/initial_solver_log.txt\"\n"
     ]
    },
    {
     "name": "stdout",
     "output_type": "stream",
     "text": [
      "Gurobi Optimizer version 12.0.0 build v12.0.0rc1 (mac64[arm] - Darwin 24.2.0 24C101)\n"
     ]
    },
    {
     "name": "stderr",
     "output_type": "stream",
     "text": [
      "INFO:gurobipy:Gurobi Optimizer version 12.0.0 build v12.0.0rc1 (mac64[arm] - Darwin 24.2.0 24C101)\n"
     ]
    },
    {
     "name": "stdout",
     "output_type": "stream",
     "text": [
      "\n"
     ]
    },
    {
     "name": "stderr",
     "output_type": "stream",
     "text": [
      "INFO:gurobipy:\n"
     ]
    },
    {
     "name": "stdout",
     "output_type": "stream",
     "text": [
      "CPU model: Apple M3\n"
     ]
    },
    {
     "name": "stderr",
     "output_type": "stream",
     "text": [
      "INFO:gurobipy:CPU model: Apple M3\n"
     ]
    },
    {
     "name": "stdout",
     "output_type": "stream",
     "text": [
      "Thread count: 8 physical cores, 8 logical processors, using up to 8 threads\n"
     ]
    },
    {
     "name": "stderr",
     "output_type": "stream",
     "text": [
      "INFO:gurobipy:Thread count: 8 physical cores, 8 logical processors, using up to 8 threads\n"
     ]
    },
    {
     "name": "stdout",
     "output_type": "stream",
     "text": [
      "\n"
     ]
    },
    {
     "name": "stderr",
     "output_type": "stream",
     "text": [
      "INFO:gurobipy:\n"
     ]
    },
    {
     "name": "stdout",
     "output_type": "stream",
     "text": [
      "Optimize a model with 4558326 rows, 1753206 columns and 8846361 nonzeros\n"
     ]
    },
    {
     "name": "stderr",
     "output_type": "stream",
     "text": [
      "INFO:gurobipy:Optimize a model with 4558326 rows, 1753206 columns and 8846361 nonzeros\n"
     ]
    },
    {
     "name": "stdout",
     "output_type": "stream",
     "text": [
      "Model fingerprint: 0xf78df7ee\n"
     ]
    },
    {
     "name": "stderr",
     "output_type": "stream",
     "text": [
      "INFO:gurobipy:Model fingerprint: 0xf78df7ee\n"
     ]
    },
    {
     "name": "stdout",
     "output_type": "stream",
     "text": [
      "Coefficient statistics:\n"
     ]
    },
    {
     "name": "stderr",
     "output_type": "stream",
     "text": [
      "INFO:gurobipy:Coefficient statistics:\n"
     ]
    },
    {
     "name": "stdout",
     "output_type": "stream",
     "text": [
      "  Matrix range     [2e-01, 2e+02]\n"
     ]
    },
    {
     "name": "stderr",
     "output_type": "stream",
     "text": [
      "INFO:gurobipy:  Matrix range     [2e-01, 2e+02]\n"
     ]
    },
    {
     "name": "stdout",
     "output_type": "stream",
     "text": [
      "  Objective range  [3e-03, 6e+04]\n"
     ]
    },
    {
     "name": "stderr",
     "output_type": "stream",
     "text": [
      "INFO:gurobipy:  Objective range  [3e-03, 6e+04]\n"
     ]
    },
    {
     "name": "stdout",
     "output_type": "stream",
     "text": [
      "  Bounds range     [0e+00, 0e+00]\n"
     ]
    },
    {
     "name": "stderr",
     "output_type": "stream",
     "text": [
      "INFO:gurobipy:  Bounds range     [0e+00, 0e+00]\n"
     ]
    },
    {
     "name": "stdout",
     "output_type": "stream",
     "text": [
      "  RHS range        [4e+01, 2e+04]\n"
     ]
    },
    {
     "name": "stderr",
     "output_type": "stream",
     "text": [
      "INFO:gurobipy:  RHS range        [4e+01, 2e+04]\n"
     ]
    },
    {
     "name": "stdout",
     "output_type": "stream",
     "text": [
      "Presolve removed 2900091 rows and 620928 columns\n"
     ]
    },
    {
     "name": "stderr",
     "output_type": "stream",
     "text": [
      "INFO:gurobipy:Presolve removed 2900091 rows and 620928 columns\n"
     ]
    },
    {
     "name": "stdout",
     "output_type": "stream",
     "text": [
      "Presolve time: 1.62s\n"
     ]
    },
    {
     "name": "stderr",
     "output_type": "stream",
     "text": [
      "INFO:gurobipy:Presolve time: 1.62s\n"
     ]
    },
    {
     "name": "stdout",
     "output_type": "stream",
     "text": [
      "Presolved: 1658235 rows, 1132278 columns, 4448745 nonzeros\n"
     ]
    },
    {
     "name": "stderr",
     "output_type": "stream",
     "text": [
      "INFO:gurobipy:Presolved: 1658235 rows, 1132278 columns, 4448745 nonzeros\n"
     ]
    },
    {
     "name": "stdout",
     "output_type": "stream",
     "text": [
      "\n"
     ]
    },
    {
     "name": "stderr",
     "output_type": "stream",
     "text": [
      "INFO:gurobipy:\n"
     ]
    },
    {
     "name": "stdout",
     "output_type": "stream",
     "text": [
      "Concurrent LP optimizer: primal simplex, dual simplex, and barrier\n"
     ]
    },
    {
     "name": "stderr",
     "output_type": "stream",
     "text": [
      "INFO:gurobipy:Concurrent LP optimizer: primal simplex, dual simplex, and barrier\n"
     ]
    },
    {
     "name": "stdout",
     "output_type": "stream",
     "text": [
      "Showing barrier log only...\n"
     ]
    },
    {
     "name": "stderr",
     "output_type": "stream",
     "text": [
      "INFO:gurobipy:Showing barrier log only...\n"
     ]
    },
    {
     "name": "stdout",
     "output_type": "stream",
     "text": [
      "\n"
     ]
    },
    {
     "name": "stderr",
     "output_type": "stream",
     "text": [
      "INFO:gurobipy:\n"
     ]
    },
    {
     "name": "stdout",
     "output_type": "stream",
     "text": [
      "Ordering time: 0.61s\n"
     ]
    },
    {
     "name": "stderr",
     "output_type": "stream",
     "text": [
      "INFO:gurobipy:Ordering time: 0.61s\n"
     ]
    },
    {
     "name": "stdout",
     "output_type": "stream",
     "text": [
      "\n"
     ]
    },
    {
     "name": "stderr",
     "output_type": "stream",
     "text": [
      "INFO:gurobipy:\n"
     ]
    },
    {
     "name": "stdout",
     "output_type": "stream",
     "text": [
      "Barrier statistics:\n"
     ]
    },
    {
     "name": "stderr",
     "output_type": "stream",
     "text": [
      "INFO:gurobipy:Barrier statistics:\n"
     ]
    },
    {
     "name": "stdout",
     "output_type": "stream",
     "text": [
      " Dense cols : 3\n"
     ]
    },
    {
     "name": "stderr",
     "output_type": "stream",
     "text": [
      "INFO:gurobipy: Dense cols : 3\n"
     ]
    },
    {
     "name": "stdout",
     "output_type": "stream",
     "text": [
      " AA' NZ     : 4.018e+06\n"
     ]
    },
    {
     "name": "stderr",
     "output_type": "stream",
     "text": [
      "INFO:gurobipy: AA' NZ     : 4.018e+06\n"
     ]
    },
    {
     "name": "stdout",
     "output_type": "stream",
     "text": [
      " Factor NZ  : 2.030e+07 (roughly 1.3 GB of memory)\n"
     ]
    },
    {
     "name": "stderr",
     "output_type": "stream",
     "text": [
      "INFO:gurobipy: Factor NZ  : 2.030e+07 (roughly 1.3 GB of memory)\n"
     ]
    },
    {
     "name": "stdout",
     "output_type": "stream",
     "text": [
      " Factor Ops : 2.610e+08 (less than 1 second per iteration)\n"
     ]
    },
    {
     "name": "stderr",
     "output_type": "stream",
     "text": [
      "INFO:gurobipy: Factor Ops : 2.610e+08 (less than 1 second per iteration)\n"
     ]
    },
    {
     "name": "stdout",
     "output_type": "stream",
     "text": [
      " Threads    : 1\n"
     ]
    },
    {
     "name": "stderr",
     "output_type": "stream",
     "text": [
      "INFO:gurobipy: Threads    : 1\n"
     ]
    },
    {
     "name": "stdout",
     "output_type": "stream",
     "text": [
      "\n"
     ]
    },
    {
     "name": "stderr",
     "output_type": "stream",
     "text": [
      "INFO:gurobipy:\n"
     ]
    },
    {
     "name": "stdout",
     "output_type": "stream",
     "text": [
      "                  Objective                Residual\n"
     ]
    },
    {
     "name": "stderr",
     "output_type": "stream",
     "text": [
      "INFO:gurobipy:                  Objective                Residual\n"
     ]
    },
    {
     "name": "stdout",
     "output_type": "stream",
     "text": [
      "Iter       Primal          Dual         Primal    Dual     Compl     Time\n"
     ]
    },
    {
     "name": "stderr",
     "output_type": "stream",
     "text": [
      "INFO:gurobipy:Iter       Primal          Dual         Primal    Dual     Compl     Time\n"
     ]
    },
    {
     "name": "stdout",
     "output_type": "stream",
     "text": [
      "   0   8.40475454e+08  8.84126249e+06  1.61e+05 0.00e+00  2.36e+05     5s\n"
     ]
    },
    {
     "name": "stderr",
     "output_type": "stream",
     "text": [
      "INFO:gurobipy:   0   8.40475454e+08  8.84126249e+06  1.61e+05 0.00e+00  2.36e+05     5s\n"
     ]
    },
    {
     "name": "stdout",
     "output_type": "stream",
     "text": [
      "   1   1.90935768e+09 -6.31111365e+08  1.59e+04 1.87e-01  5.40e+04     5s\n"
     ]
    },
    {
     "name": "stderr",
     "output_type": "stream",
     "text": [
      "INFO:gurobipy:   1   1.90935768e+09 -6.31111365e+08  1.59e+04 1.87e-01  5.40e+04     5s\n"
     ]
    },
    {
     "name": "stdout",
     "output_type": "stream",
     "text": [
      "   2   2.02980951e+09 -6.97488251e+07  8.44e-10 6.30e-03  2.65e+03     6s\n"
     ]
    },
    {
     "name": "stderr",
     "output_type": "stream",
     "text": [
      "INFO:gurobipy:   2   2.02980951e+09 -6.97488251e+07  8.44e-10 6.30e-03  2.65e+03     6s\n"
     ]
    },
    {
     "name": "stdout",
     "output_type": "stream",
     "text": [
      "   3   1.08468946e+09  8.47280428e+07  1.11e-06 3.67e-04  5.16e+02     6s\n"
     ]
    },
    {
     "name": "stderr",
     "output_type": "stream",
     "text": [
      "INFO:gurobipy:   3   1.08468946e+09  8.47280428e+07  1.11e-06 3.67e-04  5.16e+02     6s\n"
     ]
    },
    {
     "name": "stdout",
     "output_type": "stream",
     "text": [
      "   4   8.04910487e+08  1.29294743e+08  7.42e-07 4.01e-05  3.09e+02     7s\n"
     ]
    },
    {
     "name": "stderr",
     "output_type": "stream",
     "text": [
      "INFO:gurobipy:   4   8.04910487e+08  1.29294743e+08  7.42e-07 4.01e-05  3.09e+02     7s\n"
     ]
    },
    {
     "name": "stdout",
     "output_type": "stream",
     "text": [
      "   5   6.85218940e+08  1.51184026e+08  1.53e-06 2.92e-05  2.41e+02     8s\n"
     ]
    },
    {
     "name": "stderr",
     "output_type": "stream",
     "text": [
      "INFO:gurobipy:   5   6.85218940e+08  1.51184026e+08  1.53e-06 2.92e-05  2.41e+02     8s\n"
     ]
    },
    {
     "name": "stdout",
     "output_type": "stream",
     "text": [
      "   6   5.42564669e+08  1.79431089e+08  4.88e-06 1.22e-05  1.62e+02     8s\n"
     ]
    },
    {
     "name": "stderr",
     "output_type": "stream",
     "text": [
      "INFO:gurobipy:   6   5.42564669e+08  1.79431089e+08  4.88e-06 1.22e-05  1.62e+02     8s\n"
     ]
    },
    {
     "name": "stdout",
     "output_type": "stream",
     "text": [
      "   7   5.22736571e+08  1.96003724e+08  4.70e-06 5.73e-06  1.45e+02     9s\n"
     ]
    },
    {
     "name": "stderr",
     "output_type": "stream",
     "text": [
      "INFO:gurobipy:   7   5.22736571e+08  1.96003724e+08  4.70e-06 5.73e-06  1.45e+02     9s\n"
     ]
    },
    {
     "name": "stdout",
     "output_type": "stream",
     "text": [
      "   8   5.11678593e+08  2.06404465e+08  4.55e-06 3.41e-06  1.36e+02     9s\n"
     ]
    },
    {
     "name": "stderr",
     "output_type": "stream",
     "text": [
      "INFO:gurobipy:   8   5.11678593e+08  2.06404465e+08  4.55e-06 3.41e-06  1.36e+02     9s\n"
     ]
    },
    {
     "name": "stdout",
     "output_type": "stream",
     "text": [
      "   9   4.69547481e+08  2.22923557e+08  4.17e-06 7.96e-12  1.10e+02     9s\n"
     ]
    },
    {
     "name": "stderr",
     "output_type": "stream",
     "text": [
      "INFO:gurobipy:   9   4.69547481e+08  2.22923557e+08  4.17e-06 7.96e-12  1.10e+02     9s\n"
     ]
    },
    {
     "name": "stdout",
     "output_type": "stream",
     "text": [
      "  10   4.35512234e+08  2.42416146e+08  5.07e-06 0.00e+00  8.57e+01    10s\n"
     ]
    },
    {
     "name": "stderr",
     "output_type": "stream",
     "text": [
      "INFO:gurobipy:  10   4.35512234e+08  2.42416146e+08  5.07e-06 0.00e+00  8.57e+01    10s\n"
     ]
    },
    {
     "name": "stdout",
     "output_type": "stream",
     "text": [
      "  11   4.17270786e+08  2.60001971e+08  1.22e-05 0.00e+00  6.98e+01    11s\n"
     ]
    },
    {
     "name": "stderr",
     "output_type": "stream",
     "text": [
      "INFO:gurobipy:  11   4.17270786e+08  2.60001971e+08  1.22e-05 0.00e+00  6.98e+01    11s\n"
     ]
    },
    {
     "name": "stdout",
     "output_type": "stream",
     "text": [
      "  12   3.87053389e+08  3.02118102e+08  2.33e-05 2.73e-12  3.77e+01    11s\n"
     ]
    },
    {
     "name": "stderr",
     "output_type": "stream",
     "text": [
      "INFO:gurobipy:  12   3.87053389e+08  3.02118102e+08  2.33e-05 2.73e-12  3.77e+01    11s\n"
     ]
    },
    {
     "name": "stdout",
     "output_type": "stream",
     "text": [
      "  13   3.76268571e+08  3.47260955e+08  2.81e-05 0.00e+00  1.28e+01    12s\n"
     ]
    },
    {
     "name": "stderr",
     "output_type": "stream",
     "text": [
      "INFO:gurobipy:  13   3.76268571e+08  3.47260955e+08  2.81e-05 0.00e+00  1.28e+01    12s\n"
     ]
    },
    {
     "name": "stdout",
     "output_type": "stream",
     "text": [
      "  14   3.74343464e+08  3.52241528e+08  2.56e-05 1.02e-11  9.77e+00    13s\n"
     ]
    },
    {
     "name": "stderr",
     "output_type": "stream",
     "text": [
      "INFO:gurobipy:  14   3.74343464e+08  3.52241528e+08  2.56e-05 1.02e-11  9.77e+00    13s\n"
     ]
    },
    {
     "name": "stdout",
     "output_type": "stream",
     "text": [
      "  15   3.71457708e+08  3.54403725e+08  2.17e-05 8.13e-12  7.53e+00    14s\n"
     ]
    },
    {
     "name": "stderr",
     "output_type": "stream",
     "text": [
      "INFO:gurobipy:  15   3.71457708e+08  3.54403725e+08  2.17e-05 8.13e-12  7.53e+00    14s\n"
     ]
    },
    {
     "name": "stdout",
     "output_type": "stream",
     "text": [
      "  16   3.63016617e+08  3.54637384e+08  1.00e-05 1.28e-11  3.70e+00    14s\n"
     ]
    },
    {
     "name": "stderr",
     "output_type": "stream",
     "text": [
      "INFO:gurobipy:  16   3.63016617e+08  3.54637384e+08  1.00e-05 1.28e-11  3.70e+00    14s\n"
     ]
    },
    {
     "name": "stdout",
     "output_type": "stream",
     "text": [
      "  17   3.60750773e+08  3.55080223e+08  6.75e-06 2.42e-11  2.50e+00    15s\n"
     ]
    },
    {
     "name": "stderr",
     "output_type": "stream",
     "text": [
      "INFO:gurobipy:  17   3.60750773e+08  3.55080223e+08  6.75e-06 2.42e-11  2.50e+00    15s\n"
     ]
    },
    {
     "name": "stdout",
     "output_type": "stream",
     "text": [
      "  18   3.58566952e+08  3.55407486e+08  3.80e-06 2.20e-11  1.40e+00    15s\n"
     ]
    },
    {
     "name": "stderr",
     "output_type": "stream",
     "text": [
      "INFO:gurobipy:  18   3.58566952e+08  3.55407486e+08  3.80e-06 2.20e-11  1.40e+00    15s\n"
     ]
    },
    {
     "name": "stdout",
     "output_type": "stream",
     "text": [
      "  19   3.57680207e+08  3.55530589e+08  2.61e-06 6.82e-13  9.49e-01    16s\n"
     ]
    },
    {
     "name": "stderr",
     "output_type": "stream",
     "text": [
      "INFO:gurobipy:  19   3.57680207e+08  3.55530589e+08  2.61e-06 6.82e-13  9.49e-01    16s\n"
     ]
    },
    {
     "name": "stdout",
     "output_type": "stream",
     "text": [
      "  20   3.57300994e+08  3.55571737e+08  2.10e-06 1.83e-11  7.64e-01    16s\n"
     ]
    },
    {
     "name": "stderr",
     "output_type": "stream",
     "text": [
      "INFO:gurobipy:  20   3.57300994e+08  3.55571737e+08  2.10e-06 1.83e-11  7.64e-01    16s\n"
     ]
    },
    {
     "name": "stdout",
     "output_type": "stream",
     "text": [
      "  21   3.57007312e+08  3.55603391e+08  1.70e-06 5.68e-13  6.20e-01    17s\n"
     ]
    },
    {
     "name": "stderr",
     "output_type": "stream",
     "text": [
      "INFO:gurobipy:  21   3.57007312e+08  3.55603391e+08  1.70e-06 5.68e-13  6.20e-01    17s\n"
     ]
    },
    {
     "name": "stdout",
     "output_type": "stream",
     "text": [
      "  22   3.56822320e+08  3.55637839e+08  1.46e-06 4.60e-12  5.23e-01    17s\n"
     ]
    },
    {
     "name": "stderr",
     "output_type": "stream",
     "text": [
      "INFO:gurobipy:  22   3.56822320e+08  3.55637839e+08  1.46e-06 4.60e-12  5.23e-01    17s\n"
     ]
    },
    {
     "name": "stdout",
     "output_type": "stream",
     "text": [
      "  23   3.56587468e+08  3.55663674e+08  1.14e-06 1.42e-11  4.08e-01    18s\n"
     ]
    },
    {
     "name": "stderr",
     "output_type": "stream",
     "text": [
      "INFO:gurobipy:  23   3.56587468e+08  3.55663674e+08  1.14e-06 1.42e-11  4.08e-01    18s\n"
     ]
    },
    {
     "name": "stdout",
     "output_type": "stream",
     "text": [
      "  24   3.56494420e+08  3.55685742e+08  1.01e-06 9.55e-12  3.57e-01    19s\n"
     ]
    },
    {
     "name": "stderr",
     "output_type": "stream",
     "text": [
      "INFO:gurobipy:  24   3.56494420e+08  3.55685742e+08  1.01e-06 9.55e-12  3.57e-01    19s\n"
     ]
    },
    {
     "name": "stdout",
     "output_type": "stream",
     "text": [
      "  25   3.56236678e+08  3.55696981e+08  6.65e-07 0.00e+00  2.38e-01    20s\n"
     ]
    },
    {
     "name": "stderr",
     "output_type": "stream",
     "text": [
      "INFO:gurobipy:  25   3.56236678e+08  3.55696981e+08  6.65e-07 0.00e+00  2.38e-01    20s\n"
     ]
    },
    {
     "name": "stdout",
     "output_type": "stream",
     "text": [
      "  26   3.56172603e+08  3.55707004e+08  5.81e-07 1.55e-11  2.06e-01    20s\n"
     ]
    },
    {
     "name": "stderr",
     "output_type": "stream",
     "text": [
      "INFO:gurobipy:  26   3.56172603e+08  3.55707004e+08  5.81e-07 1.55e-11  2.06e-01    20s\n"
     ]
    },
    {
     "name": "stdout",
     "output_type": "stream",
     "text": [
      "  27   3.56102659e+08  3.55708921e+08  4.88e-07 2.16e-11  1.74e-01    21s\n"
     ]
    },
    {
     "name": "stderr",
     "output_type": "stream",
     "text": [
      "INFO:gurobipy:  27   3.56102659e+08  3.55708921e+08  4.88e-07 2.16e-11  1.74e-01    21s\n"
     ]
    },
    {
     "name": "stdout",
     "output_type": "stream",
     "text": [
      "  28   3.55944154e+08  3.55712202e+08  2.96e-07 3.75e-12  1.02e-01    22s\n"
     ]
    },
    {
     "name": "stderr",
     "output_type": "stream",
     "text": [
      "INFO:gurobipy:  28   3.55944154e+08  3.55712202e+08  2.96e-07 3.75e-12  1.02e-01    22s\n"
     ]
    },
    {
     "name": "stdout",
     "output_type": "stream",
     "text": [
      "  29   3.55766160e+08  3.55722424e+08  5.06e-08 1.04e-10  1.93e-02    24s\n"
     ]
    },
    {
     "name": "stderr",
     "output_type": "stream",
     "text": [
      "INFO:gurobipy:  29   3.55766160e+08  3.55722424e+08  5.06e-08 1.04e-10  1.93e-02    24s\n"
     ]
    },
    {
     "name": "stdout",
     "output_type": "stream",
     "text": [
      "  30   3.55734030e+08  3.55726536e+08  1.09e-08 1.00e-10  3.31e-03    25s\n"
     ]
    },
    {
     "name": "stderr",
     "output_type": "stream",
     "text": [
      "INFO:gurobipy:  30   3.55734030e+08  3.55726536e+08  1.09e-08 1.00e-10  3.31e-03    25s\n"
     ]
    },
    {
     "name": "stdout",
     "output_type": "stream",
     "text": [
      "  31   3.55728140e+08  3.55726849e+08  3.32e-09 2.06e-11  5.70e-04    26s\n"
     ]
    },
    {
     "name": "stderr",
     "output_type": "stream",
     "text": [
      "INFO:gurobipy:  31   3.55728140e+08  3.55726849e+08  3.32e-09 2.06e-11  5.70e-04    26s\n"
     ]
    },
    {
     "name": "stdout",
     "output_type": "stream",
     "text": [
      "  32   3.55727247e+08  3.55727054e+08  1.41e-08 1.23e-11  8.55e-05    28s\n"
     ]
    },
    {
     "name": "stderr",
     "output_type": "stream",
     "text": [
      "INFO:gurobipy:  32   3.55727247e+08  3.55727054e+08  1.41e-08 1.23e-11  8.55e-05    28s\n"
     ]
    },
    {
     "name": "stdout",
     "output_type": "stream",
     "text": [
      "  33   3.55727121e+08  3.55727105e+08  5.74e-05 2.65e-09  6.95e-06    28s\n"
     ]
    },
    {
     "name": "stderr",
     "output_type": "stream",
     "text": [
      "INFO:gurobipy:  33   3.55727121e+08  3.55727105e+08  5.74e-05 2.65e-09  6.95e-06    28s\n"
     ]
    },
    {
     "name": "stdout",
     "output_type": "stream",
     "text": [
      "  34   3.55727111e+08  3.55727111e+08  1.89e-07 1.59e-09  1.39e-08    29s\n"
     ]
    },
    {
     "name": "stderr",
     "output_type": "stream",
     "text": [
      "INFO:gurobipy:  34   3.55727111e+08  3.55727111e+08  1.89e-07 1.59e-09  1.39e-08    29s\n"
     ]
    },
    {
     "name": "stdout",
     "output_type": "stream",
     "text": [
      "  35   3.55727111e+08  3.55727111e+08  3.09e-09 1.37e-09  6.46e-12    29s\n"
     ]
    },
    {
     "name": "stderr",
     "output_type": "stream",
     "text": [
      "INFO:gurobipy:  35   3.55727111e+08  3.55727111e+08  3.09e-09 1.37e-09  6.46e-12    29s\n"
     ]
    },
    {
     "name": "stdout",
     "output_type": "stream",
     "text": [
      "\n"
     ]
    },
    {
     "name": "stderr",
     "output_type": "stream",
     "text": [
      "INFO:gurobipy:\n"
     ]
    },
    {
     "name": "stdout",
     "output_type": "stream",
     "text": [
      "Barrier solved model in 35 iterations and 29.18 seconds (38.46 work units)\n"
     ]
    },
    {
     "name": "stderr",
     "output_type": "stream",
     "text": [
      "INFO:gurobipy:Barrier solved model in 35 iterations and 29.18 seconds (38.46 work units)\n"
     ]
    },
    {
     "name": "stdout",
     "output_type": "stream",
     "text": [
      "Optimal objective 3.55727111e+08\n"
     ]
    },
    {
     "name": "stderr",
     "output_type": "stream",
     "text": [
      "INFO:gurobipy:Optimal objective 3.55727111e+08\n"
     ]
    },
    {
     "name": "stdout",
     "output_type": "stream",
     "text": [
      "\n"
     ]
    },
    {
     "name": "stderr",
     "output_type": "stream",
     "text": [
      "INFO:gurobipy:\n"
     ]
    },
    {
     "name": "stdout",
     "output_type": "stream",
     "text": [
      "Crossover log...\n"
     ]
    },
    {
     "name": "stderr",
     "output_type": "stream",
     "text": [
      "INFO:gurobipy:Crossover log...\n"
     ]
    },
    {
     "name": "stdout",
     "output_type": "stream",
     "text": [
      "\n"
     ]
    },
    {
     "name": "stderr",
     "output_type": "stream",
     "text": [
      "INFO:gurobipy:\n"
     ]
    },
    {
     "name": "stdout",
     "output_type": "stream",
     "text": [
      "  175377 DPushes remaining with DInf 0.0000000e+00                30s\n"
     ]
    },
    {
     "name": "stderr",
     "output_type": "stream",
     "text": [
      "INFO:gurobipy:  175377 DPushes remaining with DInf 0.0000000e+00                30s\n"
     ]
    },
    {
     "name": "stdout",
     "output_type": "stream",
     "text": [
      "   46146 DPushes remaining with DInf 0.0000000e+00                30s\n"
     ]
    },
    {
     "name": "stderr",
     "output_type": "stream",
     "text": [
      "INFO:gurobipy:   46146 DPushes remaining with DInf 0.0000000e+00                30s\n"
     ]
    },
    {
     "name": "stdout",
     "output_type": "stream",
     "text": [
      "       0 DPushes remaining with DInf 0.0000000e+00                31s\n"
     ]
    },
    {
     "name": "stderr",
     "output_type": "stream",
     "text": [
      "INFO:gurobipy:       0 DPushes remaining with DInf 0.0000000e+00                31s\n"
     ]
    },
    {
     "name": "stdout",
     "output_type": "stream",
     "text": [
      "\n"
     ]
    },
    {
     "name": "stderr",
     "output_type": "stream",
     "text": [
      "INFO:gurobipy:\n"
     ]
    },
    {
     "name": "stdout",
     "output_type": "stream",
     "text": [
      "  176806 PPushes remaining with PInf 0.0000000e+00                31s\n"
     ]
    },
    {
     "name": "stderr",
     "output_type": "stream",
     "text": [
      "INFO:gurobipy:  176806 PPushes remaining with PInf 0.0000000e+00                31s\n"
     ]
    },
    {
     "name": "stdout",
     "output_type": "stream",
     "text": [
      "       0 PPushes remaining with PInf 0.0000000e+00                32s\n"
     ]
    },
    {
     "name": "stderr",
     "output_type": "stream",
     "text": [
      "INFO:gurobipy:       0 PPushes remaining with PInf 0.0000000e+00                32s\n"
     ]
    },
    {
     "name": "stdout",
     "output_type": "stream",
     "text": [
      "\n"
     ]
    },
    {
     "name": "stderr",
     "output_type": "stream",
     "text": [
      "INFO:gurobipy:\n"
     ]
    },
    {
     "name": "stdout",
     "output_type": "stream",
     "text": [
      "  Push phase complete: Pinf 0.0000000e+00, Dinf 4.2647604e-12     32s\n"
     ]
    },
    {
     "name": "stderr",
     "output_type": "stream",
     "text": [
      "INFO:gurobipy:  Push phase complete: Pinf 0.0000000e+00, Dinf 4.2647604e-12     32s\n"
     ]
    },
    {
     "name": "stdout",
     "output_type": "stream",
     "text": [
      "\n"
     ]
    },
    {
     "name": "stderr",
     "output_type": "stream",
     "text": [
      "INFO:gurobipy:\n"
     ]
    },
    {
     "name": "stdout",
     "output_type": "stream",
     "text": [
      "\n"
     ]
    },
    {
     "name": "stderr",
     "output_type": "stream",
     "text": [
      "INFO:gurobipy:\n"
     ]
    },
    {
     "name": "stdout",
     "output_type": "stream",
     "text": [
      "Solved with barrier\n"
     ]
    },
    {
     "name": "stderr",
     "output_type": "stream",
     "text": [
      "INFO:gurobipy:Solved with barrier\n"
     ]
    },
    {
     "name": "stdout",
     "output_type": "stream",
     "text": [
      "Iteration    Objective       Primal Inf.    Dual Inf.      Time\n"
     ]
    },
    {
     "name": "stderr",
     "output_type": "stream",
     "text": [
      "INFO:gurobipy:Iteration    Objective       Primal Inf.    Dual Inf.      Time\n"
     ]
    },
    {
     "name": "stdout",
     "output_type": "stream",
     "text": [
      "  352186    3.5572711e+08   0.000000e+00   0.000000e+00     33s\n"
     ]
    },
    {
     "name": "stderr",
     "output_type": "stream",
     "text": [
      "INFO:gurobipy:  352186    3.5572711e+08   0.000000e+00   0.000000e+00     33s\n"
     ]
    },
    {
     "name": "stdout",
     "output_type": "stream",
     "text": [
      "\n"
     ]
    },
    {
     "name": "stderr",
     "output_type": "stream",
     "text": [
      "INFO:gurobipy:\n"
     ]
    },
    {
     "name": "stdout",
     "output_type": "stream",
     "text": [
      "Solved in 352186 iterations and 33.26 seconds (45.32 work units)\n"
     ]
    },
    {
     "name": "stderr",
     "output_type": "stream",
     "text": [
      "INFO:gurobipy:Solved in 352186 iterations and 33.26 seconds (45.32 work units)\n"
     ]
    },
    {
     "name": "stdout",
     "output_type": "stream",
     "text": [
      "Optimal objective  3.557271113e+08\n"
     ]
    },
    {
     "name": "stderr",
     "output_type": "stream",
     "text": [
      "INFO:gurobipy:Optimal objective  3.557271113e+08\n",
      "INFO:linopy.constants: Optimization successful: \n",
      "Status: ok\n",
      "Termination condition: optimal\n",
      "Solution: 1753206 primals, 4558326 duals\n",
      "Objective: 3.56e+08\n",
      "Solver model: available\n",
      "Solver message: 2\n",
      "\n",
      "INFO:pypsa.optimization.optimize:The shadow-prices of the constraints Generator-ext-p-lower, Generator-ext-p-upper, Link-ext-p-lower, Link-ext-p-upper, StorageUnit-ext-p_dispatch-lower, StorageUnit-ext-p_dispatch-upper, StorageUnit-ext-p_store-lower, StorageUnit-ext-p_store-upper, StorageUnit-ext-state_of_charge-lower, StorageUnit-ext-state_of_charge-upper, StorageUnit-energy_balance were not assigned to the network.\n"
     ]
    }
   ],
   "source": [
    "# Run initial optimization to get total generation potential\n",
    "print(\"Running initial optimization without constraints...\")\n",
    "initial_result = n.optimize(solver_name=\"gurobi\", log_fn=\"initial_solver_log.txt\")"
   ]
  },
  {
   "cell_type": "code",
   "execution_count": 49,
   "id": "46da1d82-a930-463c-bdae-7b9c409c9103",
   "metadata": {},
   "outputs": [
    {
     "name": "stdout",
     "output_type": "stream",
     "text": [
      "Installed Solar Capacity: 177270.11 MW\n",
      "Solar Capacity Limit (40%): 70908.05 MW\n"
     ]
    }
   ],
   "source": [
    "# Sum the optimal capacities of solar generators\n",
    "solar_installed_capacity = n.generators.loc[n.generators.carrier == \"solar\", \"p_nom_opt\"].sum()\n",
    "print(f\"Installed Solar Capacity: {solar_installed_capacity:.2f} MW\")\n",
    "\n",
    "# Calculate 40% of the installed solar capacity\n",
    "solar_capacity_limit = 0.4 * solar_installed_capacity\n",
    "print(f\"Solar Capacity Limit (40%): {solar_capacity_limit:.2f} MW\")"
   ]
  },
  {
   "cell_type": "code",
   "execution_count": null,
   "id": "1d07a60b-247c-4e44-be9e-69f0144cf4a3",
   "metadata": {},
   "outputs": [],
   "source": [
    "solar_capacity_limit = 70908.05"
   ]
  },
  {
   "cell_type": "code",
   "execution_count": 65,
   "id": "8517c8d9-5361-44a4-ad78-cb916d0a00bd",
   "metadata": {},
   "outputs": [
    {
     "name": "stderr",
     "output_type": "stream",
     "text": [
      "INFO:pypsa.io:Imported network network.nc has buses, carriers, generators, links, loads, storage_units\n"
     ]
    },
    {
     "data": {
      "text/html": [
       "<div>\n",
       "<style scoped>\n",
       "    .dataframe tbody tr th:only-of-type {\n",
       "        vertical-align: middle;\n",
       "    }\n",
       "\n",
       "    .dataframe tbody tr th {\n",
       "        vertical-align: top;\n",
       "    }\n",
       "\n",
       "    .dataframe thead th {\n",
       "        text-align: right;\n",
       "    }\n",
       "</style>\n",
       "<table border=\"1\" class=\"dataframe\">\n",
       "  <thead>\n",
       "    <tr style=\"text-align: right;\">\n",
       "      <th></th>\n",
       "      <th>bus</th>\n",
       "      <th>control</th>\n",
       "      <th>type</th>\n",
       "      <th>p_nom</th>\n",
       "      <th>p_nom_mod</th>\n",
       "      <th>p_nom_extendable</th>\n",
       "      <th>p_nom_min</th>\n",
       "      <th>p_nom_max</th>\n",
       "      <th>p_min_pu</th>\n",
       "      <th>p_max_pu</th>\n",
       "      <th>...</th>\n",
       "      <th>min_up_time</th>\n",
       "      <th>min_down_time</th>\n",
       "      <th>up_time_before</th>\n",
       "      <th>down_time_before</th>\n",
       "      <th>ramp_limit_up</th>\n",
       "      <th>ramp_limit_down</th>\n",
       "      <th>ramp_limit_start_up</th>\n",
       "      <th>ramp_limit_shut_down</th>\n",
       "      <th>weight</th>\n",
       "      <th>p_nom_opt</th>\n",
       "    </tr>\n",
       "    <tr>\n",
       "      <th>Generator</th>\n",
       "      <th></th>\n",
       "      <th></th>\n",
       "      <th></th>\n",
       "      <th></th>\n",
       "      <th></th>\n",
       "      <th></th>\n",
       "      <th></th>\n",
       "      <th></th>\n",
       "      <th></th>\n",
       "      <th></th>\n",
       "      <th></th>\n",
       "      <th></th>\n",
       "      <th></th>\n",
       "      <th></th>\n",
       "      <th></th>\n",
       "      <th></th>\n",
       "      <th></th>\n",
       "      <th></th>\n",
       "      <th></th>\n",
       "      <th></th>\n",
       "      <th></th>\n",
       "    </tr>\n",
       "  </thead>\n",
       "  <tbody>\n",
       "    <tr>\n",
       "      <th>Solar PV</th>\n",
       "      <td>electricity</td>\n",
       "      <td>PQ</td>\n",
       "      <td></td>\n",
       "      <td>0.0</td>\n",
       "      <td>0.0</td>\n",
       "      <td>True</td>\n",
       "      <td>0.0</td>\n",
       "      <td>70908.045927</td>\n",
       "      <td>0.0</td>\n",
       "      <td>1.0</td>\n",
       "      <td>...</td>\n",
       "      <td>0</td>\n",
       "      <td>0</td>\n",
       "      <td>1</td>\n",
       "      <td>0</td>\n",
       "      <td>NaN</td>\n",
       "      <td>NaN</td>\n",
       "      <td>1.0</td>\n",
       "      <td>1.0</td>\n",
       "      <td>1.0</td>\n",
       "      <td>0.0</td>\n",
       "    </tr>\n",
       "  </tbody>\n",
       "</table>\n",
       "<p>1 rows × 37 columns</p>\n",
       "</div>"
      ],
      "text/plain": [
       "                   bus control type  p_nom  p_nom_mod  p_nom_extendable  \\\n",
       "Generator                                                                 \n",
       "Solar PV   electricity      PQ         0.0        0.0              True   \n",
       "\n",
       "           p_nom_min     p_nom_max  p_min_pu  p_max_pu  ...  min_up_time  \\\n",
       "Generator                                               ...                \n",
       "Solar PV         0.0  70908.045927       0.0       1.0  ...            0   \n",
       "\n",
       "           min_down_time  up_time_before  down_time_before  ramp_limit_up  \\\n",
       "Generator                                                                   \n",
       "Solar PV               0               1                 0            NaN   \n",
       "\n",
       "          ramp_limit_down  ramp_limit_start_up  ramp_limit_shut_down  weight  \\\n",
       "Generator                                                                      \n",
       "Solar PV              NaN                  1.0                   1.0     1.0   \n",
       "\n",
       "           p_nom_opt  \n",
       "Generator             \n",
       "Solar PV         0.0  \n",
       "\n",
       "[1 rows x 37 columns]"
      ]
     },
     "execution_count": 65,
     "metadata": {},
     "output_type": "execute_result"
    }
   ],
   "source": [
    "# Step 4: Remove previous solar generators\n",
    "n = pypsa.Network(\"network.nc\")\n",
    "n.generators = n.generators[n.generators.carrier != \"solar\"]\n",
    "\n",
    "# Add a new solar generator with the `p_nom_max` constraint\n",
    "n.add(\"Generator\",\n",
    "      name=\"Solar PV\",\n",
    "      bus=\"electricity\",\n",
    "      carrier=\"solar\",\n",
    "      p_nom_extendable=True,\n",
    "      p_nom_max=solar_capacity_limit)\n",
    "\n",
    "n.generators"
   ]
  },
  {
   "cell_type": "code",
   "execution_count": 66,
   "id": "b78654ad-5414-4ea1-a2df-dfcc181f25cb",
   "metadata": {},
   "outputs": [
    {
     "name": "stderr",
     "output_type": "stream",
     "text": [
      "WARNING:pypsa.consistency:The following buses have carriers which are not defined:\n",
      "Index(['electricity', 'heat', 'nuclear', 'geothermal'], dtype='object', name='Bus')\n",
      "WARNING:pypsa.consistency:The following buses have carriers which are not defined:\n",
      "Index(['electricity', 'heat', 'nuclear', 'geothermal'], dtype='object', name='Bus')\n"
     ]
    },
    {
     "name": "stdout",
     "output_type": "stream",
     "text": [
      "Running final optimization with solar capacity constraint...\n"
     ]
    },
    {
     "name": "stderr",
     "output_type": "stream",
     "text": [
      "INFO:linopy.model: Solve problem using Gurobi solver\n",
      "INFO:linopy.model:Solver logs written to `final_solver_log.txt`.\n",
      "INFO:linopy.io:Writing objective.\n",
      "Writing constraints.: 100%|\u001b[38;2;128;191;255m█████████████████████\u001b[0m| 20/20 [00:09<00:00,  2.14it/s]\u001b[0m\n",
      "Writing continuous variables.: 100%|\u001b[38;2;128;191;255m██████████████\u001b[0m| 8/8 [00:01<00:00,  5.51it/s]\u001b[0m\n",
      "INFO:linopy.io: Writing time: 11.14s\n"
     ]
    },
    {
     "name": "stdout",
     "output_type": "stream",
     "text": [
      "Set parameter Username\n"
     ]
    },
    {
     "name": "stderr",
     "output_type": "stream",
     "text": [
      "INFO:gurobipy:Set parameter Username\n"
     ]
    },
    {
     "name": "stdout",
     "output_type": "stream",
     "text": [
      "Academic license - for non-commercial use only - expires 2025-11-18\n"
     ]
    },
    {
     "name": "stderr",
     "output_type": "stream",
     "text": [
      "INFO:gurobipy:Academic license - for non-commercial use only - expires 2025-11-18\n"
     ]
    },
    {
     "name": "stdout",
     "output_type": "stream",
     "text": [
      "Read LP format model from file /private/var/folders/4n/6ydjnj8d16x_m4by160ndjw80000gn/T/linopy-problem-tju4gljo.lp\n"
     ]
    },
    {
     "name": "stderr",
     "output_type": "stream",
     "text": [
      "INFO:gurobipy:Read LP format model from file /private/var/folders/4n/6ydjnj8d16x_m4by160ndjw80000gn/T/linopy-problem-tju4gljo.lp\n"
     ]
    },
    {
     "name": "stdout",
     "output_type": "stream",
     "text": [
      "Reading time = 4.27 seconds\n"
     ]
    },
    {
     "name": "stderr",
     "output_type": "stream",
     "text": [
      "INFO:gurobipy:Reading time = 4.27 seconds\n"
     ]
    },
    {
     "name": "stdout",
     "output_type": "stream",
     "text": [
      "obj: 5259607 rows, 2103846 columns, 9898282 nonzeros\n"
     ]
    },
    {
     "name": "stderr",
     "output_type": "stream",
     "text": [
      "INFO:gurobipy:obj: 5259607 rows, 2103846 columns, 9898282 nonzeros\n"
     ]
    },
    {
     "name": "stdout",
     "output_type": "stream",
     "text": [
      "Set parameter LogFile to value \"/Users/kian/GitHub/Mars-Electricity-Planning/notebooks/final_solver_log.txt\"\n"
     ]
    },
    {
     "name": "stderr",
     "output_type": "stream",
     "text": [
      "INFO:gurobipy:Set parameter LogFile to value \"/Users/kian/GitHub/Mars-Electricity-Planning/notebooks/final_solver_log.txt\"\n"
     ]
    },
    {
     "name": "stdout",
     "output_type": "stream",
     "text": [
      "Gurobi Optimizer version 12.0.0 build v12.0.0rc1 (mac64[arm] - Darwin 24.2.0 24C101)\n"
     ]
    },
    {
     "name": "stderr",
     "output_type": "stream",
     "text": [
      "INFO:gurobipy:Gurobi Optimizer version 12.0.0 build v12.0.0rc1 (mac64[arm] - Darwin 24.2.0 24C101)\n"
     ]
    },
    {
     "name": "stdout",
     "output_type": "stream",
     "text": [
      "\n"
     ]
    },
    {
     "name": "stderr",
     "output_type": "stream",
     "text": [
      "INFO:gurobipy:\n"
     ]
    },
    {
     "name": "stdout",
     "output_type": "stream",
     "text": [
      "CPU model: Apple M3\n"
     ]
    },
    {
     "name": "stderr",
     "output_type": "stream",
     "text": [
      "INFO:gurobipy:CPU model: Apple M3\n"
     ]
    },
    {
     "name": "stdout",
     "output_type": "stream",
     "text": [
      "Thread count: 8 physical cores, 8 logical processors, using up to 8 threads\n"
     ]
    },
    {
     "name": "stderr",
     "output_type": "stream",
     "text": [
      "INFO:gurobipy:Thread count: 8 physical cores, 8 logical processors, using up to 8 threads\n"
     ]
    },
    {
     "name": "stdout",
     "output_type": "stream",
     "text": [
      "\n"
     ]
    },
    {
     "name": "stderr",
     "output_type": "stream",
     "text": [
      "INFO:gurobipy:\n"
     ]
    },
    {
     "name": "stdout",
     "output_type": "stream",
     "text": [
      "Optimize a model with 5259607 rows, 2103846 columns and 9898282 nonzeros\n"
     ]
    },
    {
     "name": "stderr",
     "output_type": "stream",
     "text": [
      "INFO:gurobipy:Optimize a model with 5259607 rows, 2103846 columns and 9898282 nonzeros\n"
     ]
    },
    {
     "name": "stdout",
     "output_type": "stream",
     "text": [
      "Model fingerprint: 0xc218af48\n"
     ]
    },
    {
     "name": "stderr",
     "output_type": "stream",
     "text": [
      "INFO:gurobipy:Model fingerprint: 0xc218af48\n"
     ]
    },
    {
     "name": "stdout",
     "output_type": "stream",
     "text": [
      "Coefficient statistics:\n"
     ]
    },
    {
     "name": "stderr",
     "output_type": "stream",
     "text": [
      "INFO:gurobipy:Coefficient statistics:\n"
     ]
    },
    {
     "name": "stdout",
     "output_type": "stream",
     "text": [
      "  Matrix range     [2e-01, 2e+02]\n"
     ]
    },
    {
     "name": "stderr",
     "output_type": "stream",
     "text": [
      "INFO:gurobipy:  Matrix range     [2e-01, 2e+02]\n"
     ]
    },
    {
     "name": "stdout",
     "output_type": "stream",
     "text": [
      "  Objective range  [3e-03, 6e+04]\n"
     ]
    },
    {
     "name": "stderr",
     "output_type": "stream",
     "text": [
      "INFO:gurobipy:  Objective range  [3e-03, 6e+04]\n"
     ]
    },
    {
     "name": "stdout",
     "output_type": "stream",
     "text": [
      "  Bounds range     [0e+00, 0e+00]\n"
     ]
    },
    {
     "name": "stderr",
     "output_type": "stream",
     "text": [
      "INFO:gurobipy:  Bounds range     [0e+00, 0e+00]\n"
     ]
    },
    {
     "name": "stdout",
     "output_type": "stream",
     "text": [
      "  RHS range        [4e+01, 1e+09]\n"
     ]
    },
    {
     "name": "stderr",
     "output_type": "stream",
     "text": [
      "INFO:gurobipy:  RHS range        [4e+01, 1e+09]\n"
     ]
    },
    {
     "name": "stdout",
     "output_type": "stream",
     "text": [
      "Presolve removed 2980447 rows and 445606 columns\n"
     ]
    },
    {
     "name": "stderr",
     "output_type": "stream",
     "text": [
      "INFO:gurobipy:Presolve removed 2980447 rows and 445606 columns\n"
     ]
    },
    {
     "name": "stdout",
     "output_type": "stream",
     "text": [
      "Presolve time: 2.08s\n"
     ]
    },
    {
     "name": "stderr",
     "output_type": "stream",
     "text": [
      "INFO:gurobipy:Presolve time: 2.08s\n"
     ]
    },
    {
     "name": "stdout",
     "output_type": "stream",
     "text": [
      "Presolved: 2279160 rows, 1658240 columns, 6391875 nonzeros\n"
     ]
    },
    {
     "name": "stderr",
     "output_type": "stream",
     "text": [
      "INFO:gurobipy:Presolved: 2279160 rows, 1658240 columns, 6391875 nonzeros\n"
     ]
    },
    {
     "name": "stdout",
     "output_type": "stream",
     "text": [
      "\n"
     ]
    },
    {
     "name": "stderr",
     "output_type": "stream",
     "text": [
      "INFO:gurobipy:\n"
     ]
    },
    {
     "name": "stdout",
     "output_type": "stream",
     "text": [
      "Concurrent LP optimizer: primal simplex, dual simplex, and barrier\n"
     ]
    },
    {
     "name": "stderr",
     "output_type": "stream",
     "text": [
      "INFO:gurobipy:Concurrent LP optimizer: primal simplex, dual simplex, and barrier\n"
     ]
    },
    {
     "name": "stdout",
     "output_type": "stream",
     "text": [
      "Showing barrier log only...\n"
     ]
    },
    {
     "name": "stderr",
     "output_type": "stream",
     "text": [
      "INFO:gurobipy:Showing barrier log only...\n"
     ]
    },
    {
     "name": "stdout",
     "output_type": "stream",
     "text": [
      "\n"
     ]
    },
    {
     "name": "stderr",
     "output_type": "stream",
     "text": [
      "INFO:gurobipy:\n"
     ]
    },
    {
     "name": "stdout",
     "output_type": "stream",
     "text": [
      "\n",
      "Interrupt request received\n",
      "Ordering time: 0.83s\n"
     ]
    },
    {
     "name": "stderr",
     "output_type": "stream",
     "text": [
      "INFO:gurobipy:Ordering time: 0.83s\n"
     ]
    },
    {
     "name": "stdout",
     "output_type": "stream",
     "text": [
      "\n"
     ]
    },
    {
     "name": "stderr",
     "output_type": "stream",
     "text": [
      "INFO:gurobipy:\n"
     ]
    },
    {
     "name": "stdout",
     "output_type": "stream",
     "text": [
      "Barrier statistics:\n"
     ]
    },
    {
     "name": "stderr",
     "output_type": "stream",
     "text": [
      "INFO:gurobipy:Barrier statistics:\n"
     ]
    },
    {
     "name": "stdout",
     "output_type": "stream",
     "text": [
      " Dense cols : 5\n"
     ]
    },
    {
     "name": "stderr",
     "output_type": "stream",
     "text": [
      "INFO:gurobipy: Dense cols : 5\n"
     ]
    },
    {
     "name": "stdout",
     "output_type": "stream",
     "text": [
      " AA' NZ     : 5.610e+06\n"
     ]
    },
    {
     "name": "stderr",
     "output_type": "stream",
     "text": [
      "INFO:gurobipy: AA' NZ     : 5.610e+06\n"
     ]
    },
    {
     "name": "stdout",
     "output_type": "stream",
     "text": [
      " Factor NZ  : 3.647e+07 (roughly 2.0 GB of memory)\n"
     ]
    },
    {
     "name": "stderr",
     "output_type": "stream",
     "text": [
      "INFO:gurobipy: Factor NZ  : 3.647e+07 (roughly 2.0 GB of memory)\n"
     ]
    },
    {
     "name": "stdout",
     "output_type": "stream",
     "text": [
      " Factor Ops : 6.154e+08 (less than 1 second per iteration)\n"
     ]
    },
    {
     "name": "stderr",
     "output_type": "stream",
     "text": [
      "INFO:gurobipy: Factor Ops : 6.154e+08 (less than 1 second per iteration)\n"
     ]
    },
    {
     "name": "stdout",
     "output_type": "stream",
     "text": [
      " Threads    : 1\n"
     ]
    },
    {
     "name": "stderr",
     "output_type": "stream",
     "text": [
      "INFO:gurobipy: Threads    : 1\n"
     ]
    },
    {
     "name": "stdout",
     "output_type": "stream",
     "text": [
      "\n"
     ]
    },
    {
     "name": "stderr",
     "output_type": "stream",
     "text": [
      "INFO:gurobipy:\n"
     ]
    },
    {
     "name": "stdout",
     "output_type": "stream",
     "text": [
      "                  Objective                Residual\n"
     ]
    },
    {
     "name": "stderr",
     "output_type": "stream",
     "text": [
      "INFO:gurobipy:                  Objective                Residual\n"
     ]
    },
    {
     "name": "stdout",
     "output_type": "stream",
     "text": [
      "Iter       Primal          Dual         Primal    Dual     Compl     Time\n"
     ]
    },
    {
     "name": "stderr",
     "output_type": "stream",
     "text": [
      "INFO:gurobipy:Iter       Primal          Dual         Primal    Dual     Compl     Time\n"
     ]
    },
    {
     "name": "stdout",
     "output_type": "stream",
     "text": [
      "   0   3.22056959e+09 -1.84004585e+11  7.71e+04 0.00e+00  8.31e+05     6s\n"
     ]
    },
    {
     "name": "stderr",
     "output_type": "stream",
     "text": [
      "INFO:gurobipy:   0   3.22056959e+09 -1.84004585e+11  7.71e+04 0.00e+00  8.31e+05     6s\n"
     ]
    },
    {
     "name": "stdout",
     "output_type": "stream",
     "text": [
      "   1   5.52936934e+09 -7.92912180e+10  1.14e+04 6.38e+00  1.90e+05     7s\n"
     ]
    },
    {
     "name": "stderr",
     "output_type": "stream",
     "text": [
      "INFO:gurobipy:   1   5.52936934e+09 -7.92912180e+10  1.14e+04 6.38e+00  1.90e+05     7s\n"
     ]
    },
    {
     "name": "stdout",
     "output_type": "stream",
     "text": [
      "   2   5.20720041e+09 -1.99307578e+10  1.54e+03 8.97e-01  2.86e+04     8s\n"
     ]
    },
    {
     "name": "stderr",
     "output_type": "stream",
     "text": [
      "INFO:gurobipy:   2   5.20720041e+09 -1.99307578e+10  1.54e+03 8.97e-01  2.86e+04     8s\n"
     ]
    },
    {
     "name": "stdout",
     "output_type": "stream",
     "text": [
      "   3   2.28642534e+09 -1.96264057e+09  6.79e+01 7.62e-02  2.79e+03     9s\n"
     ]
    },
    {
     "name": "stderr",
     "output_type": "stream",
     "text": [
      "INFO:gurobipy:   3   2.28642534e+09 -1.96264057e+09  6.79e+01 7.62e-02  2.79e+03     9s\n"
     ]
    },
    {
     "name": "stdout",
     "output_type": "stream",
     "text": [
      "   4   1.05248184e+09 -6.12393577e+07  1.24e+01 6.05e-03  4.53e+02    10s\n"
     ]
    },
    {
     "name": "stderr",
     "output_type": "stream",
     "text": [
      "INFO:gurobipy:   4   1.05248184e+09 -6.12393577e+07  1.24e+01 6.05e-03  4.53e+02    10s\n"
     ]
    },
    {
     "name": "stdout",
     "output_type": "stream",
     "text": [
      "   5   9.40356555e+08 -2.98993613e+07  9.20e+00 6.21e-03  3.97e+02    10s\n"
     ]
    },
    {
     "name": "stderr",
     "output_type": "stream",
     "text": [
      "INFO:gurobipy:   5   9.40356555e+08 -2.98993613e+07  9.20e+00 6.21e-03  3.97e+02    10s\n"
     ]
    },
    {
     "name": "stdout",
     "output_type": "stream",
     "text": [
      "   6   8.19289338e+08  1.17416988e+08  6.63e+00 4.32e-03  2.73e+02    11s\n"
     ]
    },
    {
     "name": "stderr",
     "output_type": "stream",
     "text": [
      "INFO:gurobipy:   6   8.19289338e+08  1.17416988e+08  6.63e+00 4.32e-03  2.73e+02    11s\n"
     ]
    },
    {
     "name": "stdout",
     "output_type": "stream",
     "text": [
      "   7   8.00137208e+08  1.47380458e+08  6.13e+00 3.94e-03  2.50e+02    12s\n"
     ]
    },
    {
     "name": "stderr",
     "output_type": "stream",
     "text": [
      "INFO:gurobipy:   7   8.00137208e+08  1.47380458e+08  6.13e+00 3.94e-03  2.50e+02    12s\n"
     ]
    },
    {
     "name": "stdout",
     "output_type": "stream",
     "text": [
      "   8   7.58912004e+08  2.08616120e+08  5.11e+00 3.43e-03  2.06e+02    12s\n"
     ]
    },
    {
     "name": "stderr",
     "output_type": "stream",
     "text": [
      "INFO:gurobipy:   8   7.58912004e+08  2.08616120e+08  5.11e+00 3.43e-03  2.06e+02    12s\n"
     ]
    },
    {
     "name": "stdout",
     "output_type": "stream",
     "text": [
      "   9   7.15404217e+08  3.24246761e+08  4.09e+00 2.16e-03  1.38e+02    13s\n"
     ]
    },
    {
     "name": "stderr",
     "output_type": "stream",
     "text": [
      "INFO:gurobipy:   9   7.15404217e+08  3.24246761e+08  4.09e+00 2.16e-03  1.38e+02    13s\n"
     ]
    },
    {
     "name": "stdout",
     "output_type": "stream",
     "text": [
      "  10   6.57929636e+08  4.31869499e+08  2.85e+00 8.47e-04  7.21e+01    14s\n"
     ]
    },
    {
     "name": "stderr",
     "output_type": "stream",
     "text": [
      "INFO:gurobipy:  10   6.57929636e+08  4.31869499e+08  2.85e+00 8.47e-04  7.21e+01    14s\n"
     ]
    },
    {
     "name": "stdout",
     "output_type": "stream",
     "text": [
      "  11   6.37785756e+08  4.53181762e+08  2.40e+00 6.29e-04  5.76e+01    15s\n"
     ]
    },
    {
     "name": "stderr",
     "output_type": "stream",
     "text": [
      "INFO:gurobipy:  11   6.37785756e+08  4.53181762e+08  2.40e+00 6.29e-04  5.76e+01    15s\n"
     ]
    },
    {
     "name": "stdout",
     "output_type": "stream",
     "text": [
      "  12   6.24044064e+08  4.68142918e+08  2.09e+00 4.85e-04  4.80e+01    16s\n"
     ]
    },
    {
     "name": "stderr",
     "output_type": "stream",
     "text": [
      "INFO:gurobipy:  12   6.24044064e+08  4.68142918e+08  2.09e+00 4.85e-04  4.80e+01    16s\n"
     ]
    },
    {
     "name": "stdout",
     "output_type": "stream",
     "text": [
      "  13   6.04960360e+08  4.79947806e+08  1.68e+00 3.66e-04  3.82e+01    17s\n"
     ]
    },
    {
     "name": "stderr",
     "output_type": "stream",
     "text": [
      "INFO:gurobipy:  13   6.04960360e+08  4.79947806e+08  1.68e+00 3.66e-04  3.82e+01    17s\n"
     ]
    },
    {
     "name": "stdout",
     "output_type": "stream",
     "text": [
      "  14   5.98827863e+08  4.97978090e+08  1.52e+00 2.25e-04  2.98e+01    18s\n"
     ]
    },
    {
     "name": "stderr",
     "output_type": "stream",
     "text": [
      "INFO:gurobipy:  14   5.98827863e+08  4.97978090e+08  1.52e+00 2.25e-04  2.98e+01    18s\n"
     ]
    },
    {
     "name": "stdout",
     "output_type": "stream",
     "text": [
      "  15   5.93350929e+08  5.03455263e+08  1.34e+00 1.99e-04  2.65e+01    19s\n"
     ]
    },
    {
     "name": "stderr",
     "output_type": "stream",
     "text": [
      "INFO:gurobipy:  15   5.93350929e+08  5.03455263e+08  1.34e+00 1.99e-04  2.65e+01    19s\n"
     ]
    },
    {
     "name": "stdout",
     "output_type": "stream",
     "text": [
      "  16   5.90591605e+08  5.10167607e+08  1.26e+00 1.72e-04  2.35e+01    20s\n"
     ]
    },
    {
     "name": "stderr",
     "output_type": "stream",
     "text": [
      "INFO:gurobipy:  16   5.90591605e+08  5.10167607e+08  1.26e+00 1.72e-04  2.35e+01    20s\n"
     ]
    },
    {
     "name": "stdout",
     "output_type": "stream",
     "text": [
      "  17   5.86350475e+08  5.14342558e+08  1.14e+00 1.56e-04  2.10e+01    21s\n"
     ]
    },
    {
     "name": "stderr",
     "output_type": "stream",
     "text": [
      "INFO:gurobipy:  17   5.86350475e+08  5.14342558e+08  1.14e+00 1.56e-04  2.10e+01    21s\n"
     ]
    },
    {
     "name": "stdout",
     "output_type": "stream",
     "text": [
      "  18   5.83254105e+08  5.19490242e+08  1.06e+00 1.35e-04  1.85e+01    22s\n"
     ]
    },
    {
     "name": "stderr",
     "output_type": "stream",
     "text": [
      "INFO:gurobipy:  18   5.83254105e+08  5.19490242e+08  1.06e+00 1.35e-04  1.85e+01    22s\n"
     ]
    },
    {
     "name": "stdout",
     "output_type": "stream",
     "text": [
      "  19   5.79462383e+08  5.27839333e+08  9.58e-01 9.33e-05  1.47e+01    23s\n"
     ]
    },
    {
     "name": "stderr",
     "output_type": "stream",
     "text": [
      "INFO:gurobipy:  19   5.79462383e+08  5.27839333e+08  9.58e-01 9.33e-05  1.47e+01    23s\n"
     ]
    },
    {
     "name": "stdout",
     "output_type": "stream",
     "text": [
      "  20   5.70415705e+08  5.31398909e+08  7.70e-01 5.56e-05  1.10e+01    24s\n"
     ]
    },
    {
     "name": "stderr",
     "output_type": "stream",
     "text": [
      "INFO:gurobipy:  20   5.70415705e+08  5.31398909e+08  7.70e-01 5.56e-05  1.10e+01    24s\n"
     ]
    },
    {
     "name": "stdout",
     "output_type": "stream",
     "text": [
      "  21   5.58587556e+08  5.34319046e+08  4.84e-01 3.32e-05  6.81e+00    25s\n"
     ]
    },
    {
     "name": "stderr",
     "output_type": "stream",
     "text": [
      "INFO:gurobipy:  21   5.58587556e+08  5.34319046e+08  4.84e-01 3.32e-05  6.81e+00    25s\n"
     ]
    },
    {
     "name": "stdout",
     "output_type": "stream",
     "text": [
      "  22   5.53471440e+08  5.35325171e+08  3.54e-01 2.59e-05  5.10e+00    25s\n"
     ]
    },
    {
     "name": "stderr",
     "output_type": "stream",
     "text": [
      "INFO:gurobipy:  22   5.53471440e+08  5.35325171e+08  3.54e-01 2.59e-05  5.10e+00    25s\n"
     ]
    },
    {
     "name": "stdout",
     "output_type": "stream",
     "text": [
      "  23   5.49635635e+08  5.36870756e+08  2.59e-01 1.47e-05  3.53e+00    27s\n"
     ]
    },
    {
     "name": "stderr",
     "output_type": "stream",
     "text": [
      "INFO:gurobipy:  23   5.49635635e+08  5.36870756e+08  2.59e-01 1.47e-05  3.53e+00    27s\n"
     ]
    },
    {
     "name": "stdout",
     "output_type": "stream",
     "text": [
      "  24   5.46483705e+08  5.37835092e+08  1.84e-01 8.59e-06  2.37e+00    28s\n"
     ]
    },
    {
     "name": "stderr",
     "output_type": "stream",
     "text": [
      "INFO:gurobipy:  24   5.46483705e+08  5.37835092e+08  1.84e-01 8.59e-06  2.37e+00    28s\n"
     ]
    },
    {
     "name": "stdout",
     "output_type": "stream",
     "text": [
      "  25   5.45057477e+08  5.38332882e+08  1.49e-01 5.53e-06  1.83e+00    29s\n"
     ]
    },
    {
     "name": "stderr",
     "output_type": "stream",
     "text": [
      "INFO:gurobipy:  25   5.45057477e+08  5.38332882e+08  1.49e-01 5.53e-06  1.83e+00    29s\n"
     ]
    },
    {
     "name": "stdout",
     "output_type": "stream",
     "text": [
      "  26   5.44186014e+08  5.38580795e+08  1.26e-01 4.06e-06  1.51e+00    29s\n"
     ]
    },
    {
     "name": "stderr",
     "output_type": "stream",
     "text": [
      "INFO:gurobipy:  26   5.44186014e+08  5.38580795e+08  1.26e-01 4.06e-06  1.51e+00    29s\n"
     ]
    },
    {
     "name": "stdout",
     "output_type": "stream",
     "text": [
      "  27   5.43651789e+08  5.38664651e+08  1.12e-01 3.57e-06  1.35e+00    30s\n"
     ]
    },
    {
     "name": "stderr",
     "output_type": "stream",
     "text": [
      "INFO:gurobipy:  27   5.43651789e+08  5.38664651e+08  1.12e-01 3.57e-06  1.35e+00    30s\n"
     ]
    },
    {
     "name": "stdout",
     "output_type": "stream",
     "text": [
      "  28   5.43526606e+08  5.38756716e+08  1.08e-01 3.05e-06  1.28e+00    31s\n"
     ]
    },
    {
     "name": "stderr",
     "output_type": "stream",
     "text": [
      "INFO:gurobipy:  28   5.43526606e+08  5.38756716e+08  1.08e-01 3.05e-06  1.28e+00    31s\n"
     ]
    },
    {
     "name": "stdout",
     "output_type": "stream",
     "text": [
      "  29   5.43223569e+08  5.38789753e+08  1.00e-01 2.86e-06  1.19e+00    31s\n"
     ]
    },
    {
     "name": "stderr",
     "output_type": "stream",
     "text": [
      "INFO:gurobipy:  29   5.43223569e+08  5.38789753e+08  1.00e-01 2.86e-06  1.19e+00    31s\n"
     ]
    },
    {
     "name": "stdout",
     "output_type": "stream",
     "text": [
      "  30   5.43058829e+08  5.38833536e+08  9.61e-02 2.61e-06  1.13e+00    32s\n"
     ]
    },
    {
     "name": "stderr",
     "output_type": "stream",
     "text": [
      "INFO:gurobipy:  30   5.43058829e+08  5.38833536e+08  9.61e-02 2.61e-06  1.13e+00    32s\n"
     ]
    },
    {
     "name": "stdout",
     "output_type": "stream",
     "text": [
      "  31   5.42519187e+08  5.38947012e+08  8.27e-02 1.98e-06  9.57e-01    32s\n"
     ]
    },
    {
     "name": "stderr",
     "output_type": "stream",
     "text": [
      "INFO:gurobipy:  31   5.42519187e+08  5.38947012e+08  8.27e-02 1.98e-06  9.57e-01    32s\n"
     ]
    },
    {
     "name": "stdout",
     "output_type": "stream",
     "text": [
      "  32   5.42148436e+08  5.39053330e+08  7.33e-02 1.40e-06  8.25e-01    33s\n"
     ]
    },
    {
     "name": "stderr",
     "output_type": "stream",
     "text": [
      "INFO:gurobipy:  32   5.42148436e+08  5.39053330e+08  7.33e-02 1.40e-06  8.25e-01    33s\n"
     ]
    },
    {
     "name": "stdout",
     "output_type": "stream",
     "text": [
      "  33   5.41753246e+08  5.39079541e+08  6.34e-02 1.23e-06  7.13e-01    34s\n"
     ]
    },
    {
     "name": "stderr",
     "output_type": "stream",
     "text": [
      "INFO:gurobipy:  33   5.41753246e+08  5.39079541e+08  6.34e-02 1.23e-06  7.13e-01    34s\n"
     ]
    },
    {
     "name": "stdout",
     "output_type": "stream",
     "text": [
      "  34   5.41386800e+08  5.39134528e+08  5.42e-02 9.55e-07  6.00e-01    35s\n"
     ]
    },
    {
     "name": "stderr",
     "output_type": "stream",
     "text": [
      "INFO:gurobipy:  34   5.41386800e+08  5.39134528e+08  5.42e-02 9.55e-07  6.00e-01    35s\n"
     ]
    },
    {
     "name": "stdout",
     "output_type": "stream",
     "text": [
      "  35   5.41181856e+08  5.39159824e+08  4.89e-02 8.04e-07  5.38e-01    37s\n"
     ]
    },
    {
     "name": "stderr",
     "output_type": "stream",
     "text": [
      "INFO:gurobipy:  35   5.41181856e+08  5.39159824e+08  4.89e-02 8.04e-07  5.38e-01    37s\n"
     ]
    },
    {
     "name": "stdout",
     "output_type": "stream",
     "text": [
      "  36   5.40955205e+08  5.39212934e+08  4.28e-02 5.59e-07  4.62e-01    38s\n"
     ]
    },
    {
     "name": "stderr",
     "output_type": "stream",
     "text": [
      "INFO:gurobipy:  36   5.40955205e+08  5.39212934e+08  4.28e-02 5.59e-07  4.62e-01    38s\n"
     ]
    },
    {
     "name": "stdout",
     "output_type": "stream",
     "text": [
      "  37   5.40763740e+08  5.39222570e+08  3.77e-02 5.04e-07  4.09e-01    39s\n"
     ]
    },
    {
     "name": "stderr",
     "output_type": "stream",
     "text": [
      "INFO:gurobipy:  37   5.40763740e+08  5.39222570e+08  3.77e-02 5.04e-07  4.09e-01    39s\n"
     ]
    },
    {
     "name": "stdout",
     "output_type": "stream",
     "text": [
      "  38   5.40642827e+08  5.39234143e+08  3.45e-02 4.42e-07  3.73e-01    40s\n"
     ]
    },
    {
     "name": "stderr",
     "output_type": "stream",
     "text": [
      "INFO:gurobipy:  38   5.40642827e+08  5.39234143e+08  3.45e-02 4.42e-07  3.73e-01    40s\n"
     ]
    },
    {
     "name": "stdout",
     "output_type": "stream",
     "text": [
      "  39   5.40464513e+08  5.39262479e+08  3.02e-02 3.30e-07  3.18e-01    41s\n"
     ]
    },
    {
     "name": "stderr",
     "output_type": "stream",
     "text": [
      "INFO:gurobipy:  39   5.40464513e+08  5.39262479e+08  3.02e-02 3.30e-07  3.18e-01    41s\n"
     ]
    },
    {
     "name": "stdout",
     "output_type": "stream",
     "text": [
      "  40   5.40242078e+08  5.39335828e+08  2.26e-02 2.51e-07  2.40e-01    42s\n"
     ]
    },
    {
     "name": "stderr",
     "output_type": "stream",
     "text": [
      "INFO:gurobipy:  40   5.40242078e+08  5.39335828e+08  2.26e-02 2.51e-07  2.40e-01    42s\n"
     ]
    },
    {
     "name": "stdout",
     "output_type": "stream",
     "text": [
      "  41   5.40177207e+08  5.39356333e+08  2.06e-02 2.20e-07  2.17e-01    43s\n"
     ]
    },
    {
     "name": "stderr",
     "output_type": "stream",
     "text": [
      "INFO:gurobipy:  41   5.40177207e+08  5.39356333e+08  2.06e-02 2.20e-07  2.17e-01    43s\n"
     ]
    },
    {
     "name": "stdout",
     "output_type": "stream",
     "text": [
      "  42   5.40055836e+08  5.39378825e+08  1.80e-02 1.42e-07  1.79e-01    44s\n"
     ]
    },
    {
     "name": "stderr",
     "output_type": "stream",
     "text": [
      "INFO:gurobipy:  42   5.40055836e+08  5.39378825e+08  1.80e-02 1.42e-07  1.79e-01    44s\n"
     ]
    },
    {
     "name": "stdout",
     "output_type": "stream",
     "text": [
      "  43   5.39985292e+08  5.39395622e+08  1.62e-02 1.02e-07  1.55e-01    45s\n"
     ]
    },
    {
     "name": "stderr",
     "output_type": "stream",
     "text": [
      "INFO:gurobipy:  43   5.39985292e+08  5.39395622e+08  1.62e-02 1.02e-07  1.55e-01    45s\n"
     ]
    },
    {
     "name": "stdout",
     "output_type": "stream",
     "text": [
      "  44   5.39932179e+08  5.39396541e+08  1.47e-02 1.00e-07  1.41e-01    46s\n"
     ]
    },
    {
     "name": "stderr",
     "output_type": "stream",
     "text": [
      "INFO:gurobipy:  44   5.39932179e+08  5.39396541e+08  1.47e-02 1.00e-07  1.41e-01    46s\n"
     ]
    },
    {
     "name": "stdout",
     "output_type": "stream",
     "text": [
      "  45   5.39918201e+08  5.39401018e+08  1.43e-02 8.83e-08  1.36e-01    47s\n"
     ]
    },
    {
     "name": "stderr",
     "output_type": "stream",
     "text": [
      "INFO:gurobipy:  45   5.39918201e+08  5.39401018e+08  1.43e-02 8.83e-08  1.36e-01    47s\n"
     ]
    },
    {
     "name": "stdout",
     "output_type": "stream",
     "text": [
      "  46   5.39879008e+08  5.39401540e+08  1.31e-02 8.72e-08  1.26e-01    47s\n"
     ]
    },
    {
     "name": "stderr",
     "output_type": "stream",
     "text": [
      "INFO:gurobipy:  46   5.39879008e+08  5.39401540e+08  1.31e-02 8.72e-08  1.26e-01    47s\n"
     ]
    },
    {
     "name": "stdout",
     "output_type": "stream",
     "text": [
      "  47   5.39869903e+08  5.39401775e+08  1.28e-02 8.69e-08  1.23e-01    48s\n"
     ]
    },
    {
     "name": "stderr",
     "output_type": "stream",
     "text": [
      "INFO:gurobipy:  47   5.39869903e+08  5.39401775e+08  1.28e-02 8.69e-08  1.23e-01    48s\n"
     ]
    },
    {
     "name": "stdout",
     "output_type": "stream",
     "text": [
      "  48   5.39854026e+08  5.39403766e+08  1.23e-02 8.20e-08  1.19e-01    49s\n"
     ]
    },
    {
     "name": "stderr",
     "output_type": "stream",
     "text": [
      "INFO:gurobipy:  48   5.39854026e+08  5.39403766e+08  1.23e-02 8.20e-08  1.19e-01    49s\n"
     ]
    },
    {
     "name": "stdout",
     "output_type": "stream",
     "text": [
      "  49   5.39844012e+08  5.39404708e+08  1.20e-02 7.99e-08  1.16e-01    50s\n"
     ]
    },
    {
     "name": "stderr",
     "output_type": "stream",
     "text": [
      "INFO:gurobipy:  49   5.39844012e+08  5.39404708e+08  1.20e-02 7.99e-08  1.16e-01    50s\n"
     ]
    },
    {
     "name": "stdout",
     "output_type": "stream",
     "text": [
      "  50   5.39822937e+08  5.39411363e+08  1.15e-02 6.17e-08  1.08e-01    51s\n"
     ]
    },
    {
     "name": "stderr",
     "output_type": "stream",
     "text": [
      "INFO:gurobipy:  50   5.39822937e+08  5.39411363e+08  1.15e-02 6.17e-08  1.08e-01    51s\n"
     ]
    },
    {
     "name": "stdout",
     "output_type": "stream",
     "text": [
      "  51   5.39781022e+08  5.39414313e+08  1.04e-02 9.07e-08  9.65e-02    52s\n"
     ]
    },
    {
     "name": "stderr",
     "output_type": "stream",
     "text": [
      "INFO:gurobipy:  51   5.39781022e+08  5.39414313e+08  1.04e-02 9.07e-08  9.65e-02    52s\n"
     ]
    },
    {
     "name": "stdout",
     "output_type": "stream",
     "text": [
      "  52   5.39758818e+08  5.39414505e+08  9.82e-03 9.05e-08  9.06e-02    53s\n"
     ]
    },
    {
     "name": "stderr",
     "output_type": "stream",
     "text": [
      "INFO:gurobipy:  52   5.39758818e+08  5.39414505e+08  9.82e-03 9.05e-08  9.06e-02    53s\n"
     ]
    },
    {
     "name": "stdout",
     "output_type": "stream",
     "text": [
      "  53   5.39739961e+08  5.39417917e+08  9.25e-03 1.14e-07  8.47e-02    54s\n"
     ]
    },
    {
     "name": "stderr",
     "output_type": "stream",
     "text": [
      "INFO:gurobipy:  53   5.39739961e+08  5.39417917e+08  9.25e-03 1.14e-07  8.47e-02    54s\n"
     ]
    },
    {
     "name": "stdout",
     "output_type": "stream",
     "text": [
      "  54   5.39731792e+08  5.39420912e+08  9.00e-03 6.71e-08  8.18e-02    55s\n"
     ]
    },
    {
     "name": "stderr",
     "output_type": "stream",
     "text": [
      "INFO:gurobipy:  54   5.39731792e+08  5.39420912e+08  9.00e-03 6.71e-08  8.18e-02    55s\n"
     ]
    },
    {
     "name": "stdout",
     "output_type": "stream",
     "text": [
      "  55   5.39725828e+08  5.39422080e+08  8.73e-03 6.85e-08  7.99e-02    56s\n"
     ]
    },
    {
     "name": "stderr",
     "output_type": "stream",
     "text": [
      "INFO:gurobipy:  55   5.39725828e+08  5.39422080e+08  8.73e-03 6.85e-08  7.99e-02    56s\n"
     ]
    },
    {
     "name": "stdout",
     "output_type": "stream",
     "text": [
      "  56   5.39697388e+08  5.39426266e+08  7.83e-03 5.34e-08  7.13e-02    57s\n"
     ]
    },
    {
     "name": "stderr",
     "output_type": "stream",
     "text": [
      "INFO:gurobipy:  56   5.39697388e+08  5.39426266e+08  7.83e-03 5.34e-08  7.13e-02    57s\n"
     ]
    },
    {
     "name": "stdout",
     "output_type": "stream",
     "text": [
      "  57   5.39690749e+08  5.39427117e+08  7.58e-03 5.79e-08  6.93e-02    58s\n"
     ]
    },
    {
     "name": "stderr",
     "output_type": "stream",
     "text": [
      "INFO:gurobipy:  57   5.39690749e+08  5.39427117e+08  7.58e-03 5.79e-08  6.93e-02    58s\n"
     ]
    },
    {
     "name": "stdout",
     "output_type": "stream",
     "text": [
      "  58   5.39664520e+08  5.39429262e+08  6.89e-03 5.95e-08  6.18e-02    59s\n"
     ]
    },
    {
     "name": "stderr",
     "output_type": "stream",
     "text": [
      "INFO:gurobipy:  58   5.39664520e+08  5.39429262e+08  6.89e-03 5.95e-08  6.18e-02    59s\n"
     ]
    },
    {
     "name": "stdout",
     "output_type": "stream",
     "text": [
      "  59   5.39654292e+08  5.39429668e+08  6.61e-03 5.41e-08  5.90e-02    60s\n"
     ]
    },
    {
     "name": "stderr",
     "output_type": "stream",
     "text": [
      "INFO:gurobipy:  59   5.39654292e+08  5.39429668e+08  6.61e-03 5.41e-08  5.90e-02    60s\n"
     ]
    },
    {
     "name": "stdout",
     "output_type": "stream",
     "text": [
      "  60   5.39643892e+08  5.39431316e+08  6.28e-03 3.39e-08  5.59e-02    61s\n"
     ]
    },
    {
     "name": "stderr",
     "output_type": "stream",
     "text": [
      "INFO:gurobipy:  60   5.39643892e+08  5.39431316e+08  6.28e-03 3.39e-08  5.59e-02    61s\n"
     ]
    },
    {
     "name": "stdout",
     "output_type": "stream",
     "text": [
      "  61   5.39637482e+08  5.39431815e+08  6.08e-03 3.22e-08  5.40e-02    62s\n"
     ]
    },
    {
     "name": "stderr",
     "output_type": "stream",
     "text": [
      "INFO:gurobipy:  61   5.39637482e+08  5.39431815e+08  6.08e-03 3.22e-08  5.40e-02    62s\n"
     ]
    },
    {
     "name": "stdout",
     "output_type": "stream",
     "text": [
      "  62   5.39635863e+08  5.39432078e+08  6.00e-03 3.22e-08  5.35e-02    62s\n"
     ]
    },
    {
     "name": "stderr",
     "output_type": "stream",
     "text": [
      "INFO:gurobipy:  62   5.39635863e+08  5.39432078e+08  6.00e-03 3.22e-08  5.35e-02    62s\n"
     ]
    },
    {
     "name": "stdout",
     "output_type": "stream",
     "text": [
      "  63   5.39626170e+08  5.39434695e+08  5.69e-03 1.86e-08  5.03e-02    63s\n"
     ]
    },
    {
     "name": "stderr",
     "output_type": "stream",
     "text": [
      "INFO:gurobipy:  63   5.39626170e+08  5.39434695e+08  5.69e-03 1.86e-08  5.03e-02    63s\n"
     ]
    },
    {
     "name": "stdout",
     "output_type": "stream",
     "text": [
      "  64   5.39609785e+08  5.39435826e+08  5.22e-03 4.75e-08  4.57e-02    64s\n"
     ]
    },
    {
     "name": "stderr",
     "output_type": "stream",
     "text": [
      "INFO:gurobipy:  64   5.39609785e+08  5.39435826e+08  5.22e-03 4.75e-08  4.57e-02    64s\n"
     ]
    },
    {
     "name": "stdout",
     "output_type": "stream",
     "text": [
      "  65   5.39607828e+08  5.39436116e+08  5.13e-03 5.18e-08  4.51e-02    65s\n"
     ]
    },
    {
     "name": "stderr",
     "output_type": "stream",
     "text": [
      "INFO:gurobipy:  65   5.39607828e+08  5.39436116e+08  5.13e-03 5.18e-08  4.51e-02    65s\n"
     ]
    },
    {
     "name": "stdout",
     "output_type": "stream",
     "text": [
      "  66   5.39604103e+08  5.39436476e+08  5.02e-03 5.55e-08  4.40e-02    66s\n"
     ]
    },
    {
     "name": "stderr",
     "output_type": "stream",
     "text": [
      "INFO:gurobipy:  66   5.39604103e+08  5.39436476e+08  5.02e-03 5.55e-08  4.40e-02    66s\n"
     ]
    },
    {
     "name": "stdout",
     "output_type": "stream",
     "text": [
      "  67   5.39598828e+08  5.39436696e+08  4.85e-03 5.61e-08  4.26e-02    67s\n"
     ]
    },
    {
     "name": "stderr",
     "output_type": "stream",
     "text": [
      "INFO:gurobipy:  67   5.39598828e+08  5.39436696e+08  4.85e-03 5.61e-08  4.26e-02    67s\n"
     ]
    },
    {
     "name": "stdout",
     "output_type": "stream",
     "text": [
      "  68   5.39595954e+08  5.39437010e+08  4.74e-03 5.63e-08  4.17e-02    68s\n"
     ]
    },
    {
     "name": "stderr",
     "output_type": "stream",
     "text": [
      "INFO:gurobipy:  68   5.39595954e+08  5.39437010e+08  4.74e-03 5.63e-08  4.17e-02    68s\n"
     ]
    },
    {
     "name": "stdout",
     "output_type": "stream",
     "text": [
      "  69   5.39592863e+08  5.39437361e+08  4.63e-03 5.59e-08  4.08e-02    69s\n"
     ]
    },
    {
     "name": "stderr",
     "output_type": "stream",
     "text": [
      "INFO:gurobipy:  69   5.39592863e+08  5.39437361e+08  4.63e-03 5.59e-08  4.08e-02    69s\n"
     ]
    },
    {
     "name": "stdout",
     "output_type": "stream",
     "text": [
      "  70   5.39585760e+08  5.39437622e+08  4.41e-03 5.28e-08  3.89e-02    70s\n"
     ]
    },
    {
     "name": "stderr",
     "output_type": "stream",
     "text": [
      "INFO:gurobipy:  70   5.39585760e+08  5.39437622e+08  4.41e-03 5.28e-08  3.89e-02    70s\n"
     ]
    },
    {
     "name": "stdout",
     "output_type": "stream",
     "text": [
      "  71   5.39578462e+08  5.39438029e+08  4.19e-03 4.74e-08  3.69e-02    71s\n"
     ]
    },
    {
     "name": "stderr",
     "output_type": "stream",
     "text": [
      "INFO:gurobipy:  71   5.39578462e+08  5.39438029e+08  4.19e-03 4.74e-08  3.69e-02    71s\n"
     ]
    },
    {
     "name": "stdout",
     "output_type": "stream",
     "text": [
      "  72   5.39576089e+08  5.39438508e+08  4.10e-03 4.15e-08  3.61e-02    72s\n"
     ]
    },
    {
     "name": "stderr",
     "output_type": "stream",
     "text": [
      "INFO:gurobipy:  72   5.39576089e+08  5.39438508e+08  4.10e-03 4.15e-08  3.61e-02    72s\n"
     ]
    },
    {
     "name": "stdout",
     "output_type": "stream",
     "text": [
      "  73   5.39573566e+08  5.39438895e+08  4.03e-03 3.41e-08  3.53e-02    73s\n"
     ]
    },
    {
     "name": "stderr",
     "output_type": "stream",
     "text": [
      "INFO:gurobipy:  73   5.39573566e+08  5.39438895e+08  4.03e-03 3.41e-08  3.53e-02    73s\n"
     ]
    },
    {
     "name": "stdout",
     "output_type": "stream",
     "text": [
      "  74   5.39571573e+08  5.39439056e+08  3.97e-03 3.05e-08  3.48e-02    74s\n"
     ]
    },
    {
     "name": "stderr",
     "output_type": "stream",
     "text": [
      "INFO:gurobipy:  74   5.39571573e+08  5.39439056e+08  3.97e-03 3.05e-08  3.48e-02    74s\n"
     ]
    },
    {
     "name": "stdout",
     "output_type": "stream",
     "text": [
      "  75   5.39567665e+08  5.39439461e+08  3.84e-03 2.19e-08  3.36e-02    75s\n"
     ]
    },
    {
     "name": "stderr",
     "output_type": "stream",
     "text": [
      "INFO:gurobipy:  75   5.39567665e+08  5.39439461e+08  3.84e-03 2.19e-08  3.36e-02    75s\n"
     ]
    },
    {
     "name": "stdout",
     "output_type": "stream",
     "text": [
      "  76   5.39560756e+08  5.39440215e+08  3.64e-03 5.61e-08  3.16e-02    76s\n"
     ]
    },
    {
     "name": "stderr",
     "output_type": "stream",
     "text": [
      "INFO:gurobipy:  76   5.39560756e+08  5.39440215e+08  3.64e-03 5.61e-08  3.16e-02    76s\n"
     ]
    },
    {
     "name": "stdout",
     "output_type": "stream",
     "text": [
      "  77   5.39556721e+08  5.39440757e+08  3.54e-03 7.69e-08  3.04e-02    77s\n"
     ]
    },
    {
     "name": "stderr",
     "output_type": "stream",
     "text": [
      "INFO:gurobipy:  77   5.39556721e+08  5.39440757e+08  3.54e-03 7.69e-08  3.04e-02    77s\n"
     ]
    },
    {
     "name": "stdout",
     "output_type": "stream",
     "text": [
      "  78   5.39551687e+08  5.39440827e+08  3.36e-03 7.65e-08  2.91e-02    79s\n"
     ]
    },
    {
     "name": "stderr",
     "output_type": "stream",
     "text": [
      "INFO:gurobipy:  78   5.39551687e+08  5.39440827e+08  3.36e-03 7.65e-08  2.91e-02    79s\n"
     ]
    },
    {
     "name": "stdout",
     "output_type": "stream",
     "text": [
      "  79   5.39550443e+08  5.39440859e+08  3.31e-03 7.74e-08  2.88e-02    80s\n"
     ]
    },
    {
     "name": "stderr",
     "output_type": "stream",
     "text": [
      "INFO:gurobipy:  79   5.39550443e+08  5.39440859e+08  3.31e-03 7.74e-08  2.88e-02    80s\n"
     ]
    },
    {
     "name": "stdout",
     "output_type": "stream",
     "text": [
      "  80   5.39547730e+08  5.39441257e+08  3.20e-03 8.99e-08  2.79e-02    81s\n"
     ]
    },
    {
     "name": "stderr",
     "output_type": "stream",
     "text": [
      "INFO:gurobipy:  80   5.39547730e+08  5.39441257e+08  3.20e-03 8.99e-08  2.79e-02    81s\n"
     ]
    },
    {
     "name": "stdout",
     "output_type": "stream",
     "text": [
      "  81   5.39545084e+08  5.39441912e+08  3.12e-03 1.31e-07  2.71e-02    82s\n"
     ]
    },
    {
     "name": "stderr",
     "output_type": "stream",
     "text": [
      "INFO:gurobipy:  81   5.39545084e+08  5.39441912e+08  3.12e-03 1.31e-07  2.71e-02    82s\n"
     ]
    },
    {
     "name": "stdout",
     "output_type": "stream",
     "text": [
      "  82   5.39542606e+08  5.39442316e+08  3.05e-03 1.44e-07  2.63e-02    83s\n"
     ]
    },
    {
     "name": "stderr",
     "output_type": "stream",
     "text": [
      "INFO:gurobipy:  82   5.39542606e+08  5.39442316e+08  3.05e-03 1.44e-07  2.63e-02    83s\n"
     ]
    },
    {
     "name": "stdout",
     "output_type": "stream",
     "text": [
      "  83   5.39540065e+08  5.39442645e+08  2.93e-03 1.58e-07  2.55e-02    84s\n"
     ]
    },
    {
     "name": "stderr",
     "output_type": "stream",
     "text": [
      "INFO:gurobipy:  83   5.39540065e+08  5.39442645e+08  2.93e-03 1.58e-07  2.55e-02    84s\n"
     ]
    },
    {
     "name": "stdout",
     "output_type": "stream",
     "text": [
      "  84   5.39533706e+08  5.39443134e+08  2.74e-03 1.74e-07  2.37e-02    85s\n"
     ]
    },
    {
     "name": "stderr",
     "output_type": "stream",
     "text": [
      "INFO:gurobipy:  84   5.39533706e+08  5.39443134e+08  2.74e-03 1.74e-07  2.37e-02    85s\n"
     ]
    },
    {
     "name": "stdout",
     "output_type": "stream",
     "text": [
      "  85   5.39530770e+08  5.39443484e+08  2.65e-03 1.89e-07  2.29e-02    86s\n"
     ]
    },
    {
     "name": "stderr",
     "output_type": "stream",
     "text": [
      "INFO:gurobipy:  85   5.39530770e+08  5.39443484e+08  2.65e-03 1.89e-07  2.29e-02    86s\n"
     ]
    },
    {
     "name": "stdout",
     "output_type": "stream",
     "text": [
      "  86   5.39527485e+08  5.39444052e+08  2.58e-03 2.16e-07  2.19e-02    87s\n"
     ]
    },
    {
     "name": "stderr",
     "output_type": "stream",
     "text": [
      "INFO:gurobipy:  86   5.39527485e+08  5.39444052e+08  2.58e-03 2.16e-07  2.19e-02    87s\n"
     ]
    },
    {
     "name": "stdout",
     "output_type": "stream",
     "text": [
      "  87   5.39522000e+08  5.39444596e+08  2.43e-03 2.29e-07  2.03e-02    88s\n"
     ]
    },
    {
     "name": "stderr",
     "output_type": "stream",
     "text": [
      "INFO:gurobipy:  87   5.39522000e+08  5.39444596e+08  2.43e-03 2.29e-07  2.03e-02    88s\n"
     ]
    },
    {
     "name": "stdout",
     "output_type": "stream",
     "text": [
      "  88   5.39520419e+08  5.39444816e+08  2.37e-03 2.27e-07  1.98e-02    89s\n"
     ]
    },
    {
     "name": "stderr",
     "output_type": "stream",
     "text": [
      "INFO:gurobipy:  88   5.39520419e+08  5.39444816e+08  2.37e-03 2.27e-07  1.98e-02    89s\n"
     ]
    },
    {
     "name": "stdout",
     "output_type": "stream",
     "text": [
      "  89   5.39516263e+08  5.39445213e+08  2.27e-03 2.33e-07  1.86e-02    90s\n"
     ]
    },
    {
     "name": "stderr",
     "output_type": "stream",
     "text": [
      "INFO:gurobipy:  89   5.39516263e+08  5.39445213e+08  2.27e-03 2.33e-07  1.86e-02    90s\n"
     ]
    },
    {
     "name": "stdout",
     "output_type": "stream",
     "text": [
      "  90   5.39513035e+08  5.39445442e+08  2.39e-03 2.37e-07  1.77e-02    91s\n"
     ]
    },
    {
     "name": "stderr",
     "output_type": "stream",
     "text": [
      "INFO:gurobipy:  90   5.39513035e+08  5.39445442e+08  2.39e-03 2.37e-07  1.77e-02    91s\n"
     ]
    },
    {
     "name": "stdout",
     "output_type": "stream",
     "text": [
      "  91   5.39509993e+08  5.39445843e+08  2.44e-03 2.43e-07  1.68e-02    93s\n"
     ]
    },
    {
     "name": "stderr",
     "output_type": "stream",
     "text": [
      "INFO:gurobipy:  91   5.39509993e+08  5.39445843e+08  2.44e-03 2.43e-07  1.68e-02    93s\n"
     ]
    },
    {
     "name": "stdout",
     "output_type": "stream",
     "text": [
      "  92   5.39508636e+08  5.39446001e+08  2.43e-03 2.41e-07  1.64e-02    94s\n"
     ]
    },
    {
     "name": "stderr",
     "output_type": "stream",
     "text": [
      "INFO:gurobipy:  92   5.39508636e+08  5.39446001e+08  2.43e-03 2.41e-07  1.64e-02    94s\n"
     ]
    },
    {
     "name": "stdout",
     "output_type": "stream",
     "text": [
      "  93   5.39506078e+08  5.39446118e+08  2.35e-03 2.41e-07  1.57e-02    95s\n"
     ]
    },
    {
     "name": "stderr",
     "output_type": "stream",
     "text": [
      "INFO:gurobipy:  93   5.39506078e+08  5.39446118e+08  2.35e-03 2.41e-07  1.57e-02    95s\n"
     ]
    },
    {
     "name": "stdout",
     "output_type": "stream",
     "text": [
      "  94   5.39504950e+08  5.39446228e+08  2.29e-03 2.38e-07  1.54e-02    96s\n"
     ]
    },
    {
     "name": "stderr",
     "output_type": "stream",
     "text": [
      "INFO:gurobipy:  94   5.39504950e+08  5.39446228e+08  2.29e-03 2.38e-07  1.54e-02    96s\n"
     ]
    },
    {
     "name": "stdout",
     "output_type": "stream",
     "text": [
      "  95   5.39502603e+08  5.39446458e+08  2.15e-03 2.38e-07  1.47e-02    97s\n"
     ]
    },
    {
     "name": "stderr",
     "output_type": "stream",
     "text": [
      "INFO:gurobipy:  95   5.39502603e+08  5.39446458e+08  2.15e-03 2.38e-07  1.47e-02    97s\n"
     ]
    },
    {
     "name": "stdout",
     "output_type": "stream",
     "text": [
      "  96   5.39501725e+08  5.39446653e+08  2.01e-03 2.35e-07  1.44e-02    98s\n"
     ]
    },
    {
     "name": "stderr",
     "output_type": "stream",
     "text": [
      "INFO:gurobipy:  96   5.39501725e+08  5.39446653e+08  2.01e-03 2.35e-07  1.44e-02    98s\n"
     ]
    },
    {
     "name": "stdout",
     "output_type": "stream",
     "text": [
      "  97   5.39499877e+08  5.39446828e+08  1.88e-03 2.30e-07  1.39e-02    99s\n"
     ]
    },
    {
     "name": "stderr",
     "output_type": "stream",
     "text": [
      "INFO:gurobipy:  97   5.39499877e+08  5.39446828e+08  1.88e-03 2.30e-07  1.39e-02    99s\n"
     ]
    },
    {
     "name": "stdout",
     "output_type": "stream",
     "text": [
      "  98   5.39498668e+08  5.39447082e+08  1.81e-03 2.20e-07  1.35e-02   100s\n"
     ]
    },
    {
     "name": "stderr",
     "output_type": "stream",
     "text": [
      "INFO:gurobipy:  98   5.39498668e+08  5.39447082e+08  1.81e-03 2.20e-07  1.35e-02   100s\n"
     ]
    },
    {
     "name": "stdout",
     "output_type": "stream",
     "text": [
      "  99   5.39497470e+08  5.39447179e+08  1.84e-03 2.18e-07  1.32e-02   101s\n"
     ]
    },
    {
     "name": "stderr",
     "output_type": "stream",
     "text": [
      "INFO:gurobipy:  99   5.39497470e+08  5.39447179e+08  1.84e-03 2.18e-07  1.32e-02   101s\n"
     ]
    },
    {
     "name": "stdout",
     "output_type": "stream",
     "text": [
      " 100   5.39496020e+08  5.39447344e+08  1.78e-03 2.13e-07  1.28e-02   103s\n"
     ]
    },
    {
     "name": "stderr",
     "output_type": "stream",
     "text": [
      "INFO:gurobipy: 100   5.39496020e+08  5.39447344e+08  1.78e-03 2.13e-07  1.28e-02   103s\n"
     ]
    },
    {
     "name": "stdout",
     "output_type": "stream",
     "text": [
      " 101   5.39494751e+08  5.39447592e+08  1.84e-03 2.05e-07  1.24e-02   104s\n"
     ]
    },
    {
     "name": "stderr",
     "output_type": "stream",
     "text": [
      "INFO:gurobipy: 101   5.39494751e+08  5.39447592e+08  1.84e-03 2.05e-07  1.24e-02   104s\n"
     ]
    },
    {
     "name": "stdout",
     "output_type": "stream",
     "text": [
      " 102   5.39494161e+08  5.39447761e+08  1.95e-03 2.03e-07  1.22e-02   105s\n"
     ]
    },
    {
     "name": "stderr",
     "output_type": "stream",
     "text": [
      "INFO:gurobipy: 102   5.39494161e+08  5.39447761e+08  1.95e-03 2.03e-07  1.22e-02   105s\n"
     ]
    },
    {
     "name": "stdout",
     "output_type": "stream",
     "text": [
      " 103   5.39492786e+08  5.39447818e+08  1.88e-03 2.02e-07  1.18e-02   106s\n"
     ]
    },
    {
     "name": "stderr",
     "output_type": "stream",
     "text": [
      "INFO:gurobipy: 103   5.39492786e+08  5.39447818e+08  1.88e-03 2.02e-07  1.18e-02   106s\n"
     ]
    },
    {
     "name": "stdout",
     "output_type": "stream",
     "text": [
      " 104   5.39491183e+08  5.39448075e+08  1.96e-03 1.95e-07  1.13e-02   107s\n"
     ]
    },
    {
     "name": "stderr",
     "output_type": "stream",
     "text": [
      "INFO:gurobipy: 104   5.39491183e+08  5.39448075e+08  1.96e-03 1.95e-07  1.13e-02   107s\n"
     ]
    },
    {
     "name": "stdout",
     "output_type": "stream",
     "text": [
      " 105   5.39490101e+08  5.39448152e+08  1.90e-03 1.95e-07  1.10e-02   108s\n"
     ]
    },
    {
     "name": "stderr",
     "output_type": "stream",
     "text": [
      "INFO:gurobipy: 105   5.39490101e+08  5.39448152e+08  1.90e-03 1.95e-07  1.10e-02   108s\n"
     ]
    },
    {
     "name": "stdout",
     "output_type": "stream",
     "text": [
      " 106   5.39489290e+08  5.39448198e+08  1.85e-03 1.93e-07  1.08e-02   109s\n"
     ]
    },
    {
     "name": "stderr",
     "output_type": "stream",
     "text": [
      "INFO:gurobipy: 106   5.39489290e+08  5.39448198e+08  1.85e-03 1.93e-07  1.08e-02   109s\n"
     ]
    },
    {
     "name": "stdout",
     "output_type": "stream",
     "text": [
      " 107   5.39488547e+08  5.39448298e+08  1.81e-03 1.93e-07  1.05e-02   111s\n"
     ]
    },
    {
     "name": "stderr",
     "output_type": "stream",
     "text": [
      "INFO:gurobipy: 107   5.39488547e+08  5.39448298e+08  1.81e-03 1.93e-07  1.05e-02   111s\n"
     ]
    },
    {
     "name": "stdout",
     "output_type": "stream",
     "text": [
      " 108   5.39488245e+08  5.39448385e+08  1.82e-03 1.89e-07  1.04e-02   112s\n"
     ]
    },
    {
     "name": "stderr",
     "output_type": "stream",
     "text": [
      "INFO:gurobipy: 108   5.39488245e+08  5.39448385e+08  1.82e-03 1.89e-07  1.04e-02   112s\n"
     ]
    },
    {
     "name": "stdout",
     "output_type": "stream",
     "text": [
      " 109   5.39486832e+08  5.39448510e+08  1.61e-03 1.87e-07  1.00e-02   113s\n"
     ]
    },
    {
     "name": "stderr",
     "output_type": "stream",
     "text": [
      "INFO:gurobipy: 109   5.39486832e+08  5.39448510e+08  1.61e-03 1.87e-07  1.00e-02   113s\n"
     ]
    },
    {
     "name": "stdout",
     "output_type": "stream",
     "text": [
      " 110   5.39485248e+08  5.39448730e+08  1.49e-03 1.80e-07  9.56e-03   114s\n"
     ]
    },
    {
     "name": "stderr",
     "output_type": "stream",
     "text": [
      "INFO:gurobipy: 110   5.39485248e+08  5.39448730e+08  1.49e-03 1.80e-07  9.56e-03   114s\n"
     ]
    },
    {
     "name": "stdout",
     "output_type": "stream",
     "text": [
      " 111   5.39484645e+08  5.39448834e+08  1.46e-03 1.75e-07  9.38e-03   115s\n"
     ]
    },
    {
     "name": "stderr",
     "output_type": "stream",
     "text": [
      "INFO:gurobipy: 111   5.39484645e+08  5.39448834e+08  1.46e-03 1.75e-07  9.38e-03   115s\n"
     ]
    },
    {
     "name": "stdout",
     "output_type": "stream",
     "text": [
      " 112   5.39484037e+08  5.39448860e+08  1.46e-03 1.78e-07  9.21e-03   116s\n"
     ]
    },
    {
     "name": "stderr",
     "output_type": "stream",
     "text": [
      "INFO:gurobipy: 112   5.39484037e+08  5.39448860e+08  1.46e-03 1.78e-07  9.21e-03   116s\n"
     ]
    },
    {
     "name": "stdout",
     "output_type": "stream",
     "text": [
      " 113   5.39482724e+08  5.39449068e+08  1.37e-03 1.63e-07  8.82e-03   118s\n"
     ]
    },
    {
     "name": "stderr",
     "output_type": "stream",
     "text": [
      "INFO:gurobipy: 113   5.39482724e+08  5.39449068e+08  1.37e-03 1.63e-07  8.82e-03   118s\n"
     ]
    },
    {
     "name": "stdout",
     "output_type": "stream",
     "text": [
      " 114   5.39482013e+08  5.39449210e+08  1.37e-03 1.54e-07  8.59e-03   119s\n"
     ]
    },
    {
     "name": "stderr",
     "output_type": "stream",
     "text": [
      "INFO:gurobipy: 114   5.39482013e+08  5.39449210e+08  1.37e-03 1.54e-07  8.59e-03   119s\n"
     ]
    },
    {
     "name": "stdout",
     "output_type": "stream",
     "text": [
      " 115   5.39480984e+08  5.39449321e+08  1.32e-03 1.51e-07  8.29e-03   120s\n"
     ]
    },
    {
     "name": "stderr",
     "output_type": "stream",
     "text": [
      "INFO:gurobipy: 115   5.39480984e+08  5.39449321e+08  1.32e-03 1.51e-07  8.29e-03   120s\n"
     ]
    },
    {
     "name": "stdout",
     "output_type": "stream",
     "text": [
      " 116   5.39480315e+08  5.39449436e+08  1.41e-03 1.51e-07  8.09e-03   122s\n"
     ]
    },
    {
     "name": "stderr",
     "output_type": "stream",
     "text": [
      "INFO:gurobipy: 116   5.39480315e+08  5.39449436e+08  1.41e-03 1.51e-07  8.09e-03   122s\n"
     ]
    },
    {
     "name": "stdout",
     "output_type": "stream",
     "text": [
      " 117   5.39479379e+08  5.39449629e+08  1.40e-03 1.44e-07  7.79e-03   123s\n"
     ]
    },
    {
     "name": "stderr",
     "output_type": "stream",
     "text": [
      "INFO:gurobipy: 117   5.39479379e+08  5.39449629e+08  1.40e-03 1.44e-07  7.79e-03   123s\n"
     ]
    },
    {
     "name": "stdout",
     "output_type": "stream",
     "text": [
      " 118   5.39478286e+08  5.39449743e+08  1.35e-03 1.35e-07  7.47e-03   124s\n"
     ]
    },
    {
     "name": "stderr",
     "output_type": "stream",
     "text": [
      "INFO:gurobipy: 118   5.39478286e+08  5.39449743e+08  1.35e-03 1.35e-07  7.47e-03   124s\n"
     ]
    },
    {
     "name": "stdout",
     "output_type": "stream",
     "text": [
      " 119   5.39478053e+08  5.39449825e+08  1.33e-03 1.33e-07  7.39e-03   125s\n"
     ]
    },
    {
     "name": "stderr",
     "output_type": "stream",
     "text": [
      "INFO:gurobipy: 119   5.39478053e+08  5.39449825e+08  1.33e-03 1.33e-07  7.39e-03   125s\n"
     ]
    },
    {
     "name": "stdout",
     "output_type": "stream",
     "text": [
      " 120   5.39477473e+08  5.39449926e+08  1.30e-03 1.28e-07  7.21e-03   126s\n"
     ]
    },
    {
     "name": "stderr",
     "output_type": "stream",
     "text": [
      "INFO:gurobipy: 120   5.39477473e+08  5.39449926e+08  1.30e-03 1.28e-07  7.21e-03   126s\n"
     ]
    },
    {
     "name": "stdout",
     "output_type": "stream",
     "text": [
      " 121   5.39476877e+08  5.39450075e+08  1.27e-03 1.22e-07  7.02e-03   128s\n"
     ]
    },
    {
     "name": "stderr",
     "output_type": "stream",
     "text": [
      "INFO:gurobipy: 121   5.39476877e+08  5.39450075e+08  1.27e-03 1.22e-07  7.02e-03   128s\n"
     ]
    },
    {
     "name": "stdout",
     "output_type": "stream",
     "text": [
      " 122   5.39475951e+08  5.39450185e+08  1.22e-03 1.19e-07  6.75e-03   129s\n"
     ]
    },
    {
     "name": "stderr",
     "output_type": "stream",
     "text": [
      "INFO:gurobipy: 122   5.39475951e+08  5.39450185e+08  1.22e-03 1.19e-07  6.75e-03   129s\n"
     ]
    },
    {
     "name": "stdout",
     "output_type": "stream",
     "text": [
      " 123   5.39475465e+08  5.39450262e+08  1.20e-03 1.16e-07  6.60e-03   131s\n"
     ]
    },
    {
     "name": "stderr",
     "output_type": "stream",
     "text": [
      "INFO:gurobipy: 123   5.39475465e+08  5.39450262e+08  1.20e-03 1.16e-07  6.60e-03   131s\n"
     ]
    },
    {
     "name": "stdout",
     "output_type": "stream",
     "text": [
      " 124   5.39475062e+08  5.39450333e+08  1.18e-03 1.12e-07  6.47e-03   132s\n"
     ]
    },
    {
     "name": "stderr",
     "output_type": "stream",
     "text": [
      "INFO:gurobipy: 124   5.39475062e+08  5.39450333e+08  1.18e-03 1.12e-07  6.47e-03   132s\n"
     ]
    },
    {
     "name": "stdout",
     "output_type": "stream",
     "text": [
      " 125   5.39475032e+08  5.39450386e+08  1.18e-03 1.09e-07  6.45e-03   133s\n"
     ]
    },
    {
     "name": "stderr",
     "output_type": "stream",
     "text": [
      "INFO:gurobipy: 125   5.39475032e+08  5.39450386e+08  1.18e-03 1.09e-07  6.45e-03   133s\n"
     ]
    },
    {
     "name": "stdout",
     "output_type": "stream",
     "text": [
      " 126   5.39474415e+08  5.39450506e+08  1.18e-03 1.03e-07  6.26e-03   134s\n"
     ]
    },
    {
     "name": "stderr",
     "output_type": "stream",
     "text": [
      "INFO:gurobipy: 126   5.39474415e+08  5.39450506e+08  1.18e-03 1.03e-07  6.26e-03   134s\n"
     ]
    },
    {
     "name": "stdout",
     "output_type": "stream",
     "text": [
      " 127   5.39473628e+08  5.39450629e+08  1.14e-03 9.69e-08  6.02e-03   136s\n"
     ]
    },
    {
     "name": "stderr",
     "output_type": "stream",
     "text": [
      "INFO:gurobipy: 127   5.39473628e+08  5.39450629e+08  1.14e-03 9.69e-08  6.02e-03   136s\n"
     ]
    },
    {
     "name": "stdout",
     "output_type": "stream",
     "text": [
      " 128   5.39473114e+08  5.39450747e+08  1.11e-03 9.27e-08  5.85e-03   137s\n"
     ]
    },
    {
     "name": "stderr",
     "output_type": "stream",
     "text": [
      "INFO:gurobipy: 128   5.39473114e+08  5.39450747e+08  1.11e-03 9.27e-08  5.85e-03   137s\n"
     ]
    },
    {
     "name": "stdout",
     "output_type": "stream",
     "text": [
      " 129   5.39472344e+08  5.39450808e+08  1.06e-03 9.05e-08  5.64e-03   138s\n"
     ]
    },
    {
     "name": "stderr",
     "output_type": "stream",
     "text": [
      "INFO:gurobipy: 129   5.39472344e+08  5.39450808e+08  1.06e-03 9.05e-08  5.64e-03   138s\n"
     ]
    },
    {
     "name": "stdout",
     "output_type": "stream",
     "text": [
      " 130   5.39471616e+08  5.39450948e+08  1.02e-03 8.17e-08  5.41e-03   140s\n"
     ]
    },
    {
     "name": "stderr",
     "output_type": "stream",
     "text": [
      "INFO:gurobipy: 130   5.39471616e+08  5.39450948e+08  1.02e-03 8.17e-08  5.41e-03   140s\n"
     ]
    },
    {
     "name": "stdout",
     "output_type": "stream",
     "text": [
      " 131   5.39471275e+08  5.39451008e+08  1.00e-03 8.29e-08  5.30e-03   141s\n"
     ]
    },
    {
     "name": "stderr",
     "output_type": "stream",
     "text": [
      "INFO:gurobipy: 131   5.39471275e+08  5.39451008e+08  1.00e-03 8.29e-08  5.30e-03   141s\n"
     ]
    },
    {
     "name": "stdout",
     "output_type": "stream",
     "text": [
      " 132   5.39470923e+08  5.39451107e+08  9.83e-04 7.95e-08  5.18e-03   142s\n"
     ]
    },
    {
     "name": "stderr",
     "output_type": "stream",
     "text": [
      "INFO:gurobipy: 132   5.39470923e+08  5.39451107e+08  9.83e-04 7.95e-08  5.18e-03   142s\n"
     ]
    },
    {
     "name": "stdout",
     "output_type": "stream",
     "text": [
      " 133   5.39470913e+08  5.39451133e+08  9.59e-04 8.08e-08  5.18e-03   143s\n"
     ]
    },
    {
     "name": "stderr",
     "output_type": "stream",
     "text": [
      "INFO:gurobipy: 133   5.39470913e+08  5.39451133e+08  9.59e-04 8.08e-08  5.18e-03   143s\n"
     ]
    },
    {
     "name": "stdout",
     "output_type": "stream",
     "text": [
      " 134   5.39470242e+08  5.39451180e+08  9.40e-04 7.33e-08  4.99e-03   144s\n"
     ]
    },
    {
     "name": "stderr",
     "output_type": "stream",
     "text": [
      "INFO:gurobipy: 134   5.39470242e+08  5.39451180e+08  9.40e-04 7.33e-08  4.99e-03   144s\n"
     ]
    },
    {
     "name": "stdout",
     "output_type": "stream",
     "text": [
      " 135   5.39469545e+08  5.39451222e+08  8.86e-04 7.56e-08  4.79e-03   145s\n"
     ]
    },
    {
     "name": "stderr",
     "output_type": "stream",
     "text": [
      "INFO:gurobipy: 135   5.39469545e+08  5.39451222e+08  8.86e-04 7.56e-08  4.79e-03   145s\n"
     ]
    },
    {
     "name": "stdout",
     "output_type": "stream",
     "text": [
      " 136   5.39469331e+08  5.39451284e+08  8.74e-04 7.31e-08  4.72e-03   146s\n"
     ]
    },
    {
     "name": "stderr",
     "output_type": "stream",
     "text": [
      "INFO:gurobipy: 136   5.39469331e+08  5.39451284e+08  8.74e-04 7.31e-08  4.72e-03   146s\n"
     ]
    },
    {
     "name": "stdout",
     "output_type": "stream",
     "text": [
      " 137   5.39469207e+08  5.39451312e+08  8.65e-04 7.41e-08  4.68e-03   147s\n"
     ]
    },
    {
     "name": "stderr",
     "output_type": "stream",
     "text": [
      "INFO:gurobipy: 137   5.39469207e+08  5.39451312e+08  8.65e-04 7.41e-08  4.68e-03   147s\n"
     ]
    },
    {
     "name": "stdout",
     "output_type": "stream",
     "text": [
      " 138   5.39469051e+08  5.39451338e+08  8.58e-04 7.10e-08  4.63e-03   149s\n"
     ]
    },
    {
     "name": "stderr",
     "output_type": "stream",
     "text": [
      "INFO:gurobipy: 138   5.39469051e+08  5.39451338e+08  8.58e-04 7.10e-08  4.63e-03   149s\n"
     ]
    },
    {
     "name": "stdout",
     "output_type": "stream",
     "text": [
      " 139   5.39468493e+08  5.39451408e+08  8.28e-04 7.11e-08  4.47e-03   150s\n"
     ]
    },
    {
     "name": "stderr",
     "output_type": "stream",
     "text": [
      "INFO:gurobipy: 139   5.39468493e+08  5.39451408e+08  8.28e-04 7.11e-08  4.47e-03   150s\n"
     ]
    },
    {
     "name": "stdout",
     "output_type": "stream",
     "text": [
      " 140   5.39468293e+08  5.39451457e+08  8.15e-04 6.90e-08  4.41e-03   151s\n"
     ]
    },
    {
     "name": "stderr",
     "output_type": "stream",
     "text": [
      "INFO:gurobipy: 140   5.39468293e+08  5.39451457e+08  8.15e-04 6.90e-08  4.41e-03   151s\n"
     ]
    },
    {
     "name": "stdout",
     "output_type": "stream",
     "text": [
      " 141   5.39467683e+08  5.39451516e+08  7.73e-04 6.61e-08  4.23e-03   153s\n"
     ]
    },
    {
     "name": "stderr",
     "output_type": "stream",
     "text": [
      "INFO:gurobipy: 141   5.39467683e+08  5.39451516e+08  7.73e-04 6.61e-08  4.23e-03   153s\n"
     ]
    },
    {
     "name": "stdout",
     "output_type": "stream",
     "text": [
      " 142   5.39467862e+08  5.39451538e+08  7.68e-04 6.89e-08  4.27e-03   154s\n"
     ]
    },
    {
     "name": "stderr",
     "output_type": "stream",
     "text": [
      "INFO:gurobipy: 142   5.39467862e+08  5.39451538e+08  7.68e-04 6.89e-08  4.27e-03   154s\n"
     ]
    },
    {
     "name": "stdout",
     "output_type": "stream",
     "text": [
      " 143   5.39467458e+08  5.39451596e+08  7.46e-04 6.87e-08  4.15e-03   155s\n"
     ]
    },
    {
     "name": "stderr",
     "output_type": "stream",
     "text": [
      "INFO:gurobipy: 143   5.39467458e+08  5.39451596e+08  7.46e-04 6.87e-08  4.15e-03   155s\n"
     ]
    },
    {
     "name": "stdout",
     "output_type": "stream",
     "text": [
      " 144   5.39467218e+08  5.39451620e+08  7.29e-04 6.87e-08  4.08e-03   156s\n"
     ]
    },
    {
     "name": "stderr",
     "output_type": "stream",
     "text": [
      "INFO:gurobipy: 144   5.39467218e+08  5.39451620e+08  7.29e-04 6.87e-08  4.08e-03   156s\n"
     ]
    },
    {
     "name": "stdout",
     "output_type": "stream",
     "text": [
      " 145   5.39467082e+08  5.39451649e+08  7.23e-04 1.05e-07  4.04e-03   158s\n"
     ]
    },
    {
     "name": "stderr",
     "output_type": "stream",
     "text": [
      "INFO:gurobipy: 145   5.39467082e+08  5.39451649e+08  7.23e-04 1.05e-07  4.04e-03   158s\n"
     ]
    },
    {
     "name": "stdout",
     "output_type": "stream",
     "text": [
      " 146   5.39466643e+08  5.39451718e+08  6.90e-04 1.41e-07  3.90e-03   159s\n"
     ]
    },
    {
     "name": "stderr",
     "output_type": "stream",
     "text": [
      "INFO:gurobipy: 146   5.39466643e+08  5.39451718e+08  6.90e-04 1.41e-07  3.90e-03   159s\n"
     ]
    },
    {
     "name": "stdout",
     "output_type": "stream",
     "text": [
      " 147   5.39466126e+08  5.39451775e+08  6.63e-04 1.36e-07  3.75e-03   160s\n"
     ]
    },
    {
     "name": "stderr",
     "output_type": "stream",
     "text": [
      "INFO:gurobipy: 147   5.39466126e+08  5.39451775e+08  6.63e-04 1.36e-07  3.75e-03   160s\n"
     ]
    },
    {
     "name": "stdout",
     "output_type": "stream",
     "text": [
      " 148   5.39465939e+08  5.39451821e+08  6.50e-04 1.35e-07  3.69e-03   163s\n"
     ]
    },
    {
     "name": "stderr",
     "output_type": "stream",
     "text": [
      "INFO:gurobipy: 148   5.39465939e+08  5.39451821e+08  6.50e-04 1.35e-07  3.69e-03   163s\n"
     ]
    },
    {
     "name": "stdout",
     "output_type": "stream",
     "text": [
      " 149   5.39465914e+08  5.39451828e+08  6.47e-04 1.36e-07  3.69e-03   164s\n"
     ]
    },
    {
     "name": "stderr",
     "output_type": "stream",
     "text": [
      "INFO:gurobipy: 149   5.39465914e+08  5.39451828e+08  6.47e-04 1.36e-07  3.69e-03   164s\n"
     ]
    },
    {
     "name": "stdout",
     "output_type": "stream",
     "text": [
      " 150   5.39465813e+08  5.39451900e+08  6.38e-04 1.32e-07  3.64e-03   165s\n"
     ]
    },
    {
     "name": "stderr",
     "output_type": "stream",
     "text": [
      "INFO:gurobipy: 150   5.39465813e+08  5.39451900e+08  6.38e-04 1.32e-07  3.64e-03   165s\n"
     ]
    },
    {
     "name": "stdout",
     "output_type": "stream",
     "text": [
      " 151   5.39465609e+08  5.39451932e+08  6.29e-04 8.63e-08  3.58e-03   166s\n"
     ]
    },
    {
     "name": "stderr",
     "output_type": "stream",
     "text": [
      "INFO:gurobipy: 151   5.39465609e+08  5.39451932e+08  6.29e-04 8.63e-08  3.58e-03   166s\n"
     ]
    },
    {
     "name": "stdout",
     "output_type": "stream",
     "text": [
      " 152   5.39465224e+08  5.39452041e+08  6.07e-04 8.07e-08  3.45e-03   168s\n"
     ]
    },
    {
     "name": "stderr",
     "output_type": "stream",
     "text": [
      "INFO:gurobipy: 152   5.39465224e+08  5.39452041e+08  6.07e-04 8.07e-08  3.45e-03   168s\n"
     ]
    },
    {
     "name": "stdout",
     "output_type": "stream",
     "text": [
      " 153   5.39465029e+08  5.39452177e+08  5.93e-04 7.50e-08  3.36e-03   169s\n"
     ]
    },
    {
     "name": "stderr",
     "output_type": "stream",
     "text": [
      "INFO:gurobipy: 153   5.39465029e+08  5.39452177e+08  5.93e-04 7.50e-08  3.36e-03   169s\n"
     ]
    },
    {
     "name": "stdout",
     "output_type": "stream",
     "text": [
      " 154   5.39464511e+08  5.39452239e+08  5.69e-04 7.53e-08  3.21e-03   171s\n"
     ]
    },
    {
     "name": "stderr",
     "output_type": "stream",
     "text": [
      "INFO:gurobipy: 154   5.39464511e+08  5.39452239e+08  5.69e-04 7.53e-08  3.21e-03   171s\n"
     ]
    },
    {
     "name": "stdout",
     "output_type": "stream",
     "text": [
      " 155   5.39464251e+08  5.39452325e+08  5.55e-04 7.15e-08  3.12e-03   172s\n"
     ]
    },
    {
     "name": "stderr",
     "output_type": "stream",
     "text": [
      "INFO:gurobipy: 155   5.39464251e+08  5.39452325e+08  5.55e-04 7.15e-08  3.12e-03   172s\n"
     ]
    },
    {
     "name": "stdout",
     "output_type": "stream",
     "text": [
      " 156   5.39463950e+08  5.39452343e+08  5.40e-04 6.75e-08  3.03e-03   173s\n"
     ]
    },
    {
     "name": "stderr",
     "output_type": "stream",
     "text": [
      "INFO:gurobipy: 156   5.39463950e+08  5.39452343e+08  5.40e-04 6.75e-08  3.03e-03   173s\n"
     ]
    },
    {
     "name": "stdout",
     "output_type": "stream",
     "text": [
      " 157   5.39463843e+08  5.39452370e+08  5.35e-04 6.71e-08  3.00e-03   174s\n"
     ]
    },
    {
     "name": "stderr",
     "output_type": "stream",
     "text": [
      "INFO:gurobipy: 157   5.39463843e+08  5.39452370e+08  5.35e-04 6.71e-08  3.00e-03   174s\n"
     ]
    },
    {
     "name": "stdout",
     "output_type": "stream",
     "text": [
      " 158   5.39463599e+08  5.39452402e+08  5.20e-04 6.53e-08  2.93e-03   175s\n"
     ]
    },
    {
     "name": "stderr",
     "output_type": "stream",
     "text": [
      "INFO:gurobipy: 158   5.39463599e+08  5.39452402e+08  5.20e-04 6.53e-08  2.93e-03   175s\n"
     ]
    },
    {
     "name": "stdout",
     "output_type": "stream",
     "text": [
      " 159   5.39463500e+08  5.39452432e+08  5.13e-04 6.60e-08  2.89e-03   176s\n"
     ]
    },
    {
     "name": "stderr",
     "output_type": "stream",
     "text": [
      "INFO:gurobipy: 159   5.39463500e+08  5.39452432e+08  5.13e-04 6.60e-08  2.89e-03   176s\n"
     ]
    },
    {
     "name": "stdout",
     "output_type": "stream",
     "text": [
      " 160   5.39463402e+08  5.39452450e+08  5.06e-04 6.61e-08  2.86e-03   178s\n"
     ]
    },
    {
     "name": "stderr",
     "output_type": "stream",
     "text": [
      "INFO:gurobipy: 160   5.39463402e+08  5.39452450e+08  5.06e-04 6.61e-08  2.86e-03   178s\n"
     ]
    },
    {
     "name": "stdout",
     "output_type": "stream",
     "text": [
      " 161   5.39463175e+08  5.39452491e+08  4.95e-04 6.52e-08  2.79e-03   179s\n"
     ]
    },
    {
     "name": "stderr",
     "output_type": "stream",
     "text": [
      "INFO:gurobipy: 161   5.39463175e+08  5.39452491e+08  4.95e-04 6.52e-08  2.79e-03   179s\n"
     ]
    },
    {
     "name": "stdout",
     "output_type": "stream",
     "text": [
      " 162   5.39463134e+08  5.39452502e+08  4.90e-04 6.27e-08  2.78e-03   180s\n"
     ]
    },
    {
     "name": "stderr",
     "output_type": "stream",
     "text": [
      "INFO:gurobipy: 162   5.39463134e+08  5.39452502e+08  4.90e-04 6.27e-08  2.78e-03   180s\n"
     ]
    },
    {
     "name": "stdout",
     "output_type": "stream",
     "text": [
      " 163   5.39463079e+08  5.39452521e+08  4.82e-04 6.10e-08  2.76e-03   182s\n"
     ]
    },
    {
     "name": "stderr",
     "output_type": "stream",
     "text": [
      "INFO:gurobipy: 163   5.39463079e+08  5.39452521e+08  4.82e-04 6.10e-08  2.76e-03   182s\n"
     ]
    },
    {
     "name": "stdout",
     "output_type": "stream",
     "text": [
      " 164   5.39462731e+08  5.39452600e+08  4.61e-04 6.24e-08  2.65e-03   183s\n"
     ]
    },
    {
     "name": "stderr",
     "output_type": "stream",
     "text": [
      "INFO:gurobipy: 164   5.39462731e+08  5.39452600e+08  4.61e-04 6.24e-08  2.65e-03   183s\n"
     ]
    },
    {
     "name": "stdout",
     "output_type": "stream",
     "text": [
      " 165   5.39462411e+08  5.39452671e+08  4.42e-04 6.02e-08  2.55e-03   185s\n"
     ]
    },
    {
     "name": "stderr",
     "output_type": "stream",
     "text": [
      "INFO:gurobipy: 165   5.39462411e+08  5.39452671e+08  4.42e-04 6.02e-08  2.55e-03   185s\n"
     ]
    },
    {
     "name": "stdout",
     "output_type": "stream",
     "text": [
      " 166   5.39462162e+08  5.39452760e+08  4.27e-04 5.47e-08  2.46e-03   186s\n"
     ]
    },
    {
     "name": "stderr",
     "output_type": "stream",
     "text": [
      "INFO:gurobipy: 166   5.39462162e+08  5.39452760e+08  4.27e-04 5.47e-08  2.46e-03   186s\n"
     ]
    },
    {
     "name": "stdout",
     "output_type": "stream",
     "text": [
      " 167   5.39462033e+08  5.39452804e+08  4.17e-04 5.23e-08  2.41e-03   187s\n"
     ]
    },
    {
     "name": "stderr",
     "output_type": "stream",
     "text": [
      "INFO:gurobipy: 167   5.39462033e+08  5.39452804e+08  4.17e-04 5.23e-08  2.41e-03   187s\n"
     ]
    },
    {
     "name": "stdout",
     "output_type": "stream",
     "text": [
      " 168   5.39461686e+08  5.39452823e+08  4.00e-04 5.32e-08  2.32e-03   189s\n"
     ]
    },
    {
     "name": "stderr",
     "output_type": "stream",
     "text": [
      "INFO:gurobipy: 168   5.39461686e+08  5.39452823e+08  4.00e-04 5.32e-08  2.32e-03   189s\n"
     ]
    },
    {
     "name": "stdout",
     "output_type": "stream",
     "text": [
      " 169   5.39461508e+08  5.39452875e+08  3.87e-04 5.28e-08  2.26e-03   190s\n"
     ]
    },
    {
     "name": "stderr",
     "output_type": "stream",
     "text": [
      "INFO:gurobipy: 169   5.39461508e+08  5.39452875e+08  3.87e-04 5.28e-08  2.26e-03   190s\n"
     ]
    },
    {
     "name": "stdout",
     "output_type": "stream",
     "text": [
      " 170   5.39461396e+08  5.39452913e+08  3.81e-04 5.29e-08  2.22e-03   192s\n"
     ]
    },
    {
     "name": "stderr",
     "output_type": "stream",
     "text": [
      "INFO:gurobipy: 170   5.39461396e+08  5.39452913e+08  3.81e-04 5.29e-08  2.22e-03   192s\n"
     ]
    },
    {
     "name": "stdout",
     "output_type": "stream",
     "text": [
      " 171   5.39461204e+08  5.39452930e+08  3.69e-04 4.55e-08  2.16e-03   193s\n"
     ]
    },
    {
     "name": "stderr",
     "output_type": "stream",
     "text": [
      "INFO:gurobipy: 171   5.39461204e+08  5.39452930e+08  3.69e-04 4.55e-08  2.16e-03   193s\n"
     ]
    },
    {
     "name": "stdout",
     "output_type": "stream",
     "text": [
      " 172   5.39461008e+08  5.39452961e+08  3.55e-04 4.72e-08  2.10e-03   194s\n"
     ]
    },
    {
     "name": "stderr",
     "output_type": "stream",
     "text": [
      "INFO:gurobipy: 172   5.39461008e+08  5.39452961e+08  3.55e-04 4.72e-08  2.10e-03   194s\n"
     ]
    },
    {
     "name": "stdout",
     "output_type": "stream",
     "text": [
      " 173   5.39460813e+08  5.39453009e+08  3.42e-04 4.47e-08  2.04e-03   196s\n"
     ]
    },
    {
     "name": "stderr",
     "output_type": "stream",
     "text": [
      "INFO:gurobipy: 173   5.39460813e+08  5.39453009e+08  3.42e-04 4.47e-08  2.04e-03   196s\n"
     ]
    },
    {
     "name": "stdout",
     "output_type": "stream",
     "text": [
      " 174   5.39460652e+08  5.39453034e+08  3.61e-04 4.67e-08  1.99e-03   197s\n"
     ]
    },
    {
     "name": "stderr",
     "output_type": "stream",
     "text": [
      "INFO:gurobipy: 174   5.39460652e+08  5.39453034e+08  3.61e-04 4.67e-08  1.99e-03   197s\n"
     ]
    },
    {
     "name": "stdout",
     "output_type": "stream",
     "text": [
      " 175   5.39460641e+08  5.39453060e+08  3.58e-04 4.63e-08  1.98e-03   198s\n"
     ]
    },
    {
     "name": "stderr",
     "output_type": "stream",
     "text": [
      "INFO:gurobipy: 175   5.39460641e+08  5.39453060e+08  3.58e-04 4.63e-08  1.98e-03   198s\n"
     ]
    },
    {
     "name": "stdout",
     "output_type": "stream",
     "text": [
      " 176   5.39460518e+08  5.39453082e+08  3.71e-04 4.63e-08  1.94e-03   200s\n"
     ]
    },
    {
     "name": "stderr",
     "output_type": "stream",
     "text": [
      "INFO:gurobipy: 176   5.39460518e+08  5.39453082e+08  3.71e-04 4.63e-08  1.94e-03   200s\n"
     ]
    },
    {
     "name": "stdout",
     "output_type": "stream",
     "text": [
      " 177   5.39460315e+08  5.39453113e+08  3.60e-04 4.33e-08  1.88e-03   201s\n"
     ]
    },
    {
     "name": "stderr",
     "output_type": "stream",
     "text": [
      "INFO:gurobipy: 177   5.39460315e+08  5.39453113e+08  3.60e-04 4.33e-08  1.88e-03   201s\n"
     ]
    },
    {
     "name": "stdout",
     "output_type": "stream",
     "text": [
      " 178   5.39460237e+08  5.39453155e+08  3.55e-04 4.37e-08  1.85e-03   202s\n"
     ]
    },
    {
     "name": "stderr",
     "output_type": "stream",
     "text": [
      "INFO:gurobipy: 178   5.39460237e+08  5.39453155e+08  3.55e-04 4.37e-08  1.85e-03   202s\n"
     ]
    },
    {
     "name": "stdout",
     "output_type": "stream",
     "text": [
      " 179   5.39460133e+08  5.39453178e+08  4.64e-04 4.51e-08  1.82e-03   203s\n"
     ]
    },
    {
     "name": "stderr",
     "output_type": "stream",
     "text": [
      "INFO:gurobipy: 179   5.39460133e+08  5.39453178e+08  4.64e-04 4.51e-08  1.82e-03   203s\n"
     ]
    },
    {
     "name": "stdout",
     "output_type": "stream",
     "text": [
      " 180   5.39460118e+08  5.39453197e+08  4.53e-04 4.42e-08  1.81e-03   205s\n"
     ]
    },
    {
     "name": "stderr",
     "output_type": "stream",
     "text": [
      "INFO:gurobipy: 180   5.39460118e+08  5.39453197e+08  4.53e-04 4.42e-08  1.81e-03   205s\n"
     ]
    },
    {
     "name": "stdout",
     "output_type": "stream",
     "text": [
      " 181   5.39459932e+08  5.39453276e+08  4.35e-04 6.78e-08  1.74e-03   206s\n"
     ]
    },
    {
     "name": "stderr",
     "output_type": "stream",
     "text": [
      "INFO:gurobipy: 181   5.39459932e+08  5.39453276e+08  4.35e-04 6.78e-08  1.74e-03   206s\n"
     ]
    },
    {
     "name": "stdout",
     "output_type": "stream",
     "text": [
      " 182   5.39459690e+08  5.39453312e+08  4.27e-04 6.43e-08  1.67e-03   208s\n"
     ]
    },
    {
     "name": "stderr",
     "output_type": "stream",
     "text": [
      "INFO:gurobipy: 182   5.39459690e+08  5.39453312e+08  4.27e-04 6.43e-08  1.67e-03   208s\n"
     ]
    },
    {
     "name": "stdout",
     "output_type": "stream",
     "text": [
      " 183   5.39459579e+08  5.39453349e+08  4.02e-04 6.23e-08  1.63e-03   209s\n"
     ]
    },
    {
     "name": "stderr",
     "output_type": "stream",
     "text": [
      "INFO:gurobipy: 183   5.39459579e+08  5.39453349e+08  4.02e-04 6.23e-08  1.63e-03   209s\n"
     ]
    },
    {
     "name": "stdout",
     "output_type": "stream",
     "text": [
      " 184   5.39459466e+08  5.39453396e+08  3.94e-04 5.87e-08  1.59e-03   211s\n"
     ]
    },
    {
     "name": "stderr",
     "output_type": "stream",
     "text": [
      "INFO:gurobipy: 184   5.39459466e+08  5.39453396e+08  3.94e-04 5.87e-08  1.59e-03   211s\n"
     ]
    },
    {
     "name": "stdout",
     "output_type": "stream",
     "text": [
      " 185   5.39459295e+08  5.39453396e+08  4.89e-04 5.29e-08  1.54e-03   212s\n"
     ]
    },
    {
     "name": "stderr",
     "output_type": "stream",
     "text": [
      "INFO:gurobipy: 185   5.39459295e+08  5.39453396e+08  4.89e-04 5.29e-08  1.54e-03   212s\n"
     ]
    },
    {
     "name": "stdout",
     "output_type": "stream",
     "text": [
      " 186   5.39459179e+08  5.39453462e+08  4.82e-04 4.76e-08  1.49e-03   213s\n"
     ]
    },
    {
     "name": "stderr",
     "output_type": "stream",
     "text": [
      "INFO:gurobipy: 186   5.39459179e+08  5.39453462e+08  4.82e-04 4.76e-08  1.49e-03   213s\n"
     ]
    },
    {
     "name": "stdout",
     "output_type": "stream",
     "text": [
      " 187   5.39459172e+08  5.39453476e+08  4.79e-04 5.02e-08  1.49e-03   214s\n"
     ]
    },
    {
     "name": "stderr",
     "output_type": "stream",
     "text": [
      "INFO:gurobipy: 187   5.39459172e+08  5.39453476e+08  4.79e-04 5.02e-08  1.49e-03   214s\n"
     ]
    },
    {
     "name": "stdout",
     "output_type": "stream",
     "text": [
      " 188   5.39459026e+08  5.39453496e+08  4.51e-04 4.65e-08  1.45e-03   216s\n"
     ]
    },
    {
     "name": "stderr",
     "output_type": "stream",
     "text": [
      "INFO:gurobipy: 188   5.39459026e+08  5.39453496e+08  4.51e-04 4.65e-08  1.45e-03   216s\n"
     ]
    },
    {
     "name": "stdout",
     "output_type": "stream",
     "text": [
      " 189   5.39458969e+08  5.39453511e+08  5.66e-04 4.64e-08  1.43e-03   217s\n"
     ]
    },
    {
     "name": "stderr",
     "output_type": "stream",
     "text": [
      "INFO:gurobipy: 189   5.39458969e+08  5.39453511e+08  5.66e-04 4.64e-08  1.43e-03   217s\n"
     ]
    },
    {
     "name": "stdout",
     "output_type": "stream",
     "text": [
      " 190   5.39458950e+08  5.39453529e+08  4.74e-03 4.51e-08  1.42e-03   218s\n"
     ]
    },
    {
     "name": "stderr",
     "output_type": "stream",
     "text": [
      "INFO:gurobipy: 190   5.39458950e+08  5.39453529e+08  4.74e-03 4.51e-08  1.42e-03   218s\n"
     ]
    },
    {
     "name": "stdout",
     "output_type": "stream",
     "text": [
      " 191   5.39458738e+08  5.39453544e+08  4.50e-03 4.38e-08  1.36e-03   220s\n"
     ]
    },
    {
     "name": "stderr",
     "output_type": "stream",
     "text": [
      "INFO:gurobipy: 191   5.39458738e+08  5.39453544e+08  4.50e-03 4.38e-08  1.36e-03   220s\n"
     ]
    },
    {
     "name": "stdout",
     "output_type": "stream",
     "text": [
      " 192   5.39458723e+08  5.39453555e+08  4.49e-03 4.20e-08  1.35e-03   221s\n"
     ]
    },
    {
     "name": "stderr",
     "output_type": "stream",
     "text": [
      "INFO:gurobipy: 192   5.39458723e+08  5.39453555e+08  4.49e-03 4.20e-08  1.35e-03   221s\n"
     ]
    },
    {
     "name": "stdout",
     "output_type": "stream",
     "text": [
      " 193   5.39458750e+08  5.39453557e+08  4.46e-03 4.22e-08  1.36e-03   222s\n"
     ]
    },
    {
     "name": "stderr",
     "output_type": "stream",
     "text": [
      "INFO:gurobipy: 193   5.39458750e+08  5.39453557e+08  4.46e-03 4.22e-08  1.36e-03   222s\n"
     ]
    },
    {
     "name": "stdout",
     "output_type": "stream",
     "text": [
      " 194   5.39458601e+08  5.39453586e+08  4.29e-03 3.86e-08  1.31e-03   224s\n"
     ]
    },
    {
     "name": "stderr",
     "output_type": "stream",
     "text": [
      "INFO:gurobipy: 194   5.39458601e+08  5.39453586e+08  4.29e-03 3.86e-08  1.31e-03   224s\n"
     ]
    },
    {
     "name": "stdout",
     "output_type": "stream",
     "text": [
      " 195   5.39458543e+08  5.39453619e+08  4.21e-03 3.53e-08  1.29e-03   225s\n"
     ]
    },
    {
     "name": "stderr",
     "output_type": "stream",
     "text": [
      "INFO:gurobipy: 195   5.39458543e+08  5.39453619e+08  4.21e-03 3.53e-08  1.29e-03   225s\n"
     ]
    },
    {
     "name": "stdout",
     "output_type": "stream",
     "text": [
      " 196   5.39458357e+08  5.39453656e+08  3.84e-03 4.19e-08  1.23e-03   227s\n"
     ]
    },
    {
     "name": "stderr",
     "output_type": "stream",
     "text": [
      "INFO:gurobipy: 196   5.39458357e+08  5.39453656e+08  3.84e-03 4.19e-08  1.23e-03   227s\n"
     ]
    },
    {
     "name": "stdout",
     "output_type": "stream",
     "text": [
      " 197   5.39458287e+08  5.39453706e+08  3.76e-03 3.81e-08  1.20e-03   229s\n"
     ]
    },
    {
     "name": "stderr",
     "output_type": "stream",
     "text": [
      "INFO:gurobipy: 197   5.39458287e+08  5.39453706e+08  3.76e-03 3.81e-08  1.20e-03   229s\n"
     ]
    },
    {
     "name": "stdout",
     "output_type": "stream",
     "text": [
      " 198   5.39458208e+08  5.39453713e+08  3.68e-03 3.48e-08  1.17e-03   230s\n"
     ]
    },
    {
     "name": "stderr",
     "output_type": "stream",
     "text": [
      "INFO:gurobipy: 198   5.39458208e+08  5.39453713e+08  3.68e-03 3.48e-08  1.17e-03   230s\n"
     ]
    },
    {
     "name": "stdout",
     "output_type": "stream",
     "text": [
      " 199   5.39458152e+08  5.39453736e+08  3.49e-03 4.04e-08  1.15e-03   232s\n"
     ]
    },
    {
     "name": "stderr",
     "output_type": "stream",
     "text": [
      "INFO:gurobipy: 199   5.39458152e+08  5.39453736e+08  3.49e-03 4.04e-08  1.15e-03   232s\n"
     ]
    },
    {
     "name": "stdout",
     "output_type": "stream",
     "text": [
      " 200   5.39458080e+08  5.39453751e+08  3.42e-03 4.11e-08  1.13e-03   233s\n"
     ]
    },
    {
     "name": "stderr",
     "output_type": "stream",
     "text": [
      "INFO:gurobipy: 200   5.39458080e+08  5.39453751e+08  3.42e-03 4.11e-08  1.13e-03   233s\n"
     ]
    },
    {
     "name": "stdout",
     "output_type": "stream",
     "text": [
      " 201   5.39458088e+08  5.39453770e+08  3.40e-03 3.45e-08  1.13e-03   234s\n"
     ]
    },
    {
     "name": "stderr",
     "output_type": "stream",
     "text": [
      "INFO:gurobipy: 201   5.39458088e+08  5.39453770e+08  3.40e-03 3.45e-08  1.13e-03   234s\n"
     ]
    },
    {
     "name": "stdout",
     "output_type": "stream",
     "text": [
      " 202   5.39458005e+08  5.39453813e+08  3.30e-03 3.93e-08  1.10e-03   236s\n"
     ]
    },
    {
     "name": "stderr",
     "output_type": "stream",
     "text": [
      "INFO:gurobipy: 202   5.39458005e+08  5.39453813e+08  3.30e-03 3.93e-08  1.10e-03   236s\n"
     ]
    },
    {
     "name": "stdout",
     "output_type": "stream",
     "text": [
      " 203   5.39457893e+08  5.39453815e+08  3.20e-03 3.11e-08  1.07e-03   238s\n"
     ]
    },
    {
     "name": "stderr",
     "output_type": "stream",
     "text": [
      "INFO:gurobipy: 203   5.39457893e+08  5.39453815e+08  3.20e-03 3.11e-08  1.07e-03   238s\n"
     ]
    },
    {
     "name": "stdout",
     "output_type": "stream",
     "text": [
      " 204   5.39457817e+08  5.39453843e+08  3.07e-03 3.25e-08  1.04e-03   239s\n"
     ]
    },
    {
     "name": "stderr",
     "output_type": "stream",
     "text": [
      "INFO:gurobipy: 204   5.39457817e+08  5.39453843e+08  3.07e-03 3.25e-08  1.04e-03   239s\n"
     ]
    },
    {
     "name": "stdout",
     "output_type": "stream",
     "text": [
      " 205   5.39457766e+08  5.39453876e+08  3.03e-03 3.82e-08  1.02e-03   240s\n"
     ]
    },
    {
     "name": "stderr",
     "output_type": "stream",
     "text": [
      "INFO:gurobipy: 205   5.39457766e+08  5.39453876e+08  3.03e-03 3.82e-08  1.02e-03   240s\n"
     ]
    },
    {
     "name": "stdout",
     "output_type": "stream",
     "text": [
      " 206   5.39457710e+08  5.39453897e+08  2.98e-03 3.56e-08  9.96e-04   241s\n"
     ]
    },
    {
     "name": "stderr",
     "output_type": "stream",
     "text": [
      "INFO:gurobipy: 206   5.39457710e+08  5.39453897e+08  2.98e-03 3.56e-08  9.96e-04   241s\n"
     ]
    },
    {
     "name": "stdout",
     "output_type": "stream",
     "text": [
      " 207   5.39457675e+08  5.39453911e+08  2.91e-03 3.44e-08  9.83e-04   243s\n"
     ]
    },
    {
     "name": "stderr",
     "output_type": "stream",
     "text": [
      "INFO:gurobipy: 207   5.39457675e+08  5.39453911e+08  2.91e-03 3.44e-08  9.83e-04   243s\n"
     ]
    },
    {
     "name": "stdout",
     "output_type": "stream",
     "text": [
      " 208   5.39457596e+08  5.39453922e+08  2.85e-03 3.32e-08  9.60e-04   244s\n"
     ]
    },
    {
     "name": "stderr",
     "output_type": "stream",
     "text": [
      "INFO:gurobipy: 208   5.39457596e+08  5.39453922e+08  2.85e-03 3.32e-08  9.60e-04   244s\n"
     ]
    },
    {
     "name": "stdout",
     "output_type": "stream",
     "text": [
      " 209   5.39457509e+08  5.39453939e+08  2.41e-03 2.98e-08  9.33e-04   246s\n"
     ]
    },
    {
     "name": "stderr",
     "output_type": "stream",
     "text": [
      "INFO:gurobipy: 209   5.39457509e+08  5.39453939e+08  2.41e-03 2.98e-08  9.33e-04   246s\n"
     ]
    },
    {
     "name": "stdout",
     "output_type": "stream",
     "text": [
      " 210   5.39457463e+08  5.39453944e+08  2.34e-03 3.29e-08  9.20e-04   246s\n"
     ]
    },
    {
     "name": "stderr",
     "output_type": "stream",
     "text": [
      "INFO:gurobipy: 210   5.39457463e+08  5.39453944e+08  2.34e-03 3.29e-08  9.20e-04   246s\n"
     ]
    },
    {
     "name": "stdout",
     "output_type": "stream",
     "text": [
      " 211   5.39457371e+08  5.39453964e+08  2.29e-03 2.99e-08  8.90e-04   248s\n"
     ]
    },
    {
     "name": "stderr",
     "output_type": "stream",
     "text": [
      "INFO:gurobipy: 211   5.39457371e+08  5.39453964e+08  2.29e-03 2.99e-08  8.90e-04   248s\n"
     ]
    },
    {
     "name": "stdout",
     "output_type": "stream",
     "text": [
      " 212   5.39457311e+08  5.39453975e+08  2.24e-03 2.86e-08  8.72e-04   249s\n"
     ]
    },
    {
     "name": "stderr",
     "output_type": "stream",
     "text": [
      "INFO:gurobipy: 212   5.39457311e+08  5.39453975e+08  2.24e-03 2.86e-08  8.72e-04   249s\n"
     ]
    },
    {
     "name": "stdout",
     "output_type": "stream",
     "text": [
      " 213   5.39457319e+08  5.39453985e+08  2.23e-03 3.52e-08  8.71e-04   250s\n"
     ]
    },
    {
     "name": "stderr",
     "output_type": "stream",
     "text": [
      "INFO:gurobipy: 213   5.39457319e+08  5.39453985e+08  2.23e-03 3.52e-08  8.71e-04   250s\n"
     ]
    },
    {
     "name": "stdout",
     "output_type": "stream",
     "text": [
      " 214   5.39457257e+08  5.39453988e+08  2.15e-03 2.63e-08  8.54e-04   251s\n"
     ]
    },
    {
     "name": "stderr",
     "output_type": "stream",
     "text": [
      "INFO:gurobipy: 214   5.39457257e+08  5.39453988e+08  2.15e-03 2.63e-08  8.54e-04   251s\n"
     ]
    },
    {
     "name": "stdout",
     "output_type": "stream",
     "text": [
      " 215   5.39457197e+08  5.39454005e+08  2.04e-03 3.25e-08  8.34e-04   252s\n"
     ]
    },
    {
     "name": "stderr",
     "output_type": "stream",
     "text": [
      "INFO:gurobipy: 215   5.39457197e+08  5.39454005e+08  2.04e-03 3.25e-08  8.34e-04   252s\n"
     ]
    },
    {
     "name": "stdout",
     "output_type": "stream",
     "text": [
      " 216   5.39457043e+08  5.39454042e+08  1.72e-03 3.24e-08  7.85e-04   254s\n"
     ]
    },
    {
     "name": "stderr",
     "output_type": "stream",
     "text": [
      "INFO:gurobipy: 216   5.39457043e+08  5.39454042e+08  1.72e-03 3.24e-08  7.85e-04   254s\n"
     ]
    },
    {
     "name": "stdout",
     "output_type": "stream",
     "text": [
      " 217   5.39456965e+08  5.39454085e+08  1.63e-03 3.40e-08  7.53e-04   255s\n"
     ]
    },
    {
     "name": "stderr",
     "output_type": "stream",
     "text": [
      "INFO:gurobipy: 217   5.39456965e+08  5.39454085e+08  1.63e-03 3.40e-08  7.53e-04   255s\n"
     ]
    },
    {
     "name": "stdout",
     "output_type": "stream",
     "text": [
      " 218   5.39456872e+08  5.39454141e+08  1.53e-03 2.69e-08  7.14e-04   257s\n"
     ]
    },
    {
     "name": "stderr",
     "output_type": "stream",
     "text": [
      "INFO:gurobipy: 218   5.39456872e+08  5.39454141e+08  1.53e-03 2.69e-08  7.14e-04   257s\n"
     ]
    },
    {
     "name": "stdout",
     "output_type": "stream",
     "text": [
      " 219   5.39456842e+08  5.39454158e+08  1.47e-03 2.95e-08  7.02e-04   259s\n"
     ]
    },
    {
     "name": "stderr",
     "output_type": "stream",
     "text": [
      "INFO:gurobipy: 219   5.39456842e+08  5.39454158e+08  1.47e-03 2.95e-08  7.02e-04   259s\n"
     ]
    },
    {
     "name": "stdout",
     "output_type": "stream",
     "text": [
      " 220   5.39456802e+08  5.39454186e+08  1.42e-03 2.82e-08  6.84e-04   260s\n"
     ]
    },
    {
     "name": "stderr",
     "output_type": "stream",
     "text": [
      "INFO:gurobipy: 220   5.39456802e+08  5.39454186e+08  1.42e-03 2.82e-08  6.84e-04   260s\n"
     ]
    },
    {
     "name": "stdout",
     "output_type": "stream",
     "text": [
      " 221   5.39456776e+08  5.39454184e+08  1.44e-03 2.89e-08  6.78e-04   261s\n"
     ]
    },
    {
     "name": "stderr",
     "output_type": "stream",
     "text": [
      "INFO:gurobipy: 221   5.39456776e+08  5.39454184e+08  1.44e-03 2.89e-08  6.78e-04   261s\n"
     ]
    },
    {
     "name": "stdout",
     "output_type": "stream",
     "text": [
      " 222   5.39456733e+08  5.39454212e+08  2.17e-03 2.16e-08  6.59e-04   262s\n"
     ]
    },
    {
     "name": "stderr",
     "output_type": "stream",
     "text": [
      "INFO:gurobipy: 222   5.39456733e+08  5.39454212e+08  2.17e-03 2.16e-08  6.59e-04   262s\n"
     ]
    },
    {
     "name": "stdout",
     "output_type": "stream",
     "text": [
      " 223   5.39456691e+08  5.39454246e+08  2.12e-03 2.78e-08  6.39e-04   263s\n"
     ]
    },
    {
     "name": "stderr",
     "output_type": "stream",
     "text": [
      "INFO:gurobipy: 223   5.39456691e+08  5.39454246e+08  2.12e-03 2.78e-08  6.39e-04   263s\n"
     ]
    },
    {
     "name": "stdout",
     "output_type": "stream",
     "text": [
      " 224   5.39456638e+08  5.39454253e+08  2.05e-03 2.34e-08  6.23e-04   265s\n"
     ]
    },
    {
     "name": "stderr",
     "output_type": "stream",
     "text": [
      "INFO:gurobipy: 224   5.39456638e+08  5.39454253e+08  2.05e-03 2.34e-08  6.23e-04   265s\n"
     ]
    },
    {
     "name": "stdout",
     "output_type": "stream",
     "text": [
      " 225   5.39456582e+08  5.39454267e+08  1.96e-03 2.08e-08  6.05e-04   266s\n"
     ]
    },
    {
     "name": "stderr",
     "output_type": "stream",
     "text": [
      "INFO:gurobipy: 225   5.39456582e+08  5.39454267e+08  1.96e-03 2.08e-08  6.05e-04   266s\n"
     ]
    },
    {
     "name": "stdout",
     "output_type": "stream",
     "text": [
      " 226   5.39456614e+08  5.39454271e+08  1.94e-03 2.47e-08  6.12e-04   267s\n"
     ]
    },
    {
     "name": "stderr",
     "output_type": "stream",
     "text": [
      "INFO:gurobipy: 226   5.39456614e+08  5.39454271e+08  1.94e-03 2.47e-08  6.12e-04   267s\n"
     ]
    },
    {
     "name": "stdout",
     "output_type": "stream",
     "text": [
      " 227   5.39456537e+08  5.39454292e+08  1.85e-03 2.43e-08  5.87e-04   268s\n"
     ]
    },
    {
     "name": "stderr",
     "output_type": "stream",
     "text": [
      "INFO:gurobipy: 227   5.39456537e+08  5.39454292e+08  1.85e-03 2.43e-08  5.87e-04   268s\n"
     ]
    },
    {
     "name": "stdout",
     "output_type": "stream",
     "text": [
      " 228   5.39456518e+08  5.39454305e+08  1.82e-03 2.21e-08  5.78e-04   270s\n"
     ]
    },
    {
     "name": "stderr",
     "output_type": "stream",
     "text": [
      "INFO:gurobipy: 228   5.39456518e+08  5.39454305e+08  1.82e-03 2.21e-08  5.78e-04   270s\n"
     ]
    },
    {
     "name": "stdout",
     "output_type": "stream",
     "text": [
      " 229   5.39456477e+08  5.39454310e+08  1.78e-03 2.13e-08  5.66e-04   271s\n"
     ]
    },
    {
     "name": "stderr",
     "output_type": "stream",
     "text": [
      "INFO:gurobipy: 229   5.39456477e+08  5.39454310e+08  1.78e-03 2.13e-08  5.66e-04   271s\n"
     ]
    },
    {
     "name": "stdout",
     "output_type": "stream",
     "text": [
      " 230   5.39456421e+08  5.39454323e+08  1.68e-03 2.18e-08  5.48e-04   273s\n"
     ]
    },
    {
     "name": "stderr",
     "output_type": "stream",
     "text": [
      "INFO:gurobipy: 230   5.39456421e+08  5.39454323e+08  1.68e-03 2.18e-08  5.48e-04   273s\n"
     ]
    },
    {
     "name": "stdout",
     "output_type": "stream",
     "text": [
      " 231   5.39456380e+08  5.39454329e+08  1.61e-03 2.25e-08  5.36e-04   275s\n"
     ]
    },
    {
     "name": "stderr",
     "output_type": "stream",
     "text": [
      "INFO:gurobipy: 231   5.39456380e+08  5.39454329e+08  1.61e-03 2.25e-08  5.36e-04   275s\n"
     ]
    },
    {
     "name": "stdout",
     "output_type": "stream",
     "text": [
      " 232   5.39456362e+08  5.39454357e+08  1.57e-03 2.24e-08  5.24e-04   276s\n"
     ]
    },
    {
     "name": "stderr",
     "output_type": "stream",
     "text": [
      "INFO:gurobipy: 232   5.39456362e+08  5.39454357e+08  1.57e-03 2.24e-08  5.24e-04   276s\n"
     ]
    },
    {
     "name": "stdout",
     "output_type": "stream",
     "text": [
      " 233   5.39456328e+08  5.39454363e+08  2.16e-03 1.37e-08  5.14e-04   277s\n"
     ]
    },
    {
     "name": "stderr",
     "output_type": "stream",
     "text": [
      "INFO:gurobipy: 233   5.39456328e+08  5.39454363e+08  2.16e-03 1.37e-08  5.14e-04   277s\n"
     ]
    },
    {
     "name": "stdout",
     "output_type": "stream",
     "text": [
      " 234   5.39456273e+08  5.39454419e+08  2.02e-03 1.91e-08  4.84e-04   279s\n"
     ]
    },
    {
     "name": "stderr",
     "output_type": "stream",
     "text": [
      "INFO:gurobipy: 234   5.39456273e+08  5.39454419e+08  2.02e-03 1.91e-08  4.84e-04   279s\n"
     ]
    },
    {
     "name": "stdout",
     "output_type": "stream",
     "text": [
      " 235   5.39456223e+08  5.39454433e+08  1.90e-03 1.66e-08  4.68e-04   280s\n"
     ]
    },
    {
     "name": "stderr",
     "output_type": "stream",
     "text": [
      "INFO:gurobipy: 235   5.39456223e+08  5.39454433e+08  1.90e-03 1.66e-08  4.68e-04   280s\n"
     ]
    },
    {
     "name": "stdout",
     "output_type": "stream",
     "text": [
      " 236   5.39456153e+08  5.39454452e+08  1.70e-03 1.18e-08  4.45e-04   282s\n"
     ]
    },
    {
     "name": "stderr",
     "output_type": "stream",
     "text": [
      "INFO:gurobipy: 236   5.39456153e+08  5.39454452e+08  1.70e-03 1.18e-08  4.45e-04   282s\n"
     ]
    },
    {
     "name": "stdout",
     "output_type": "stream",
     "text": [
      " 237   5.39456136e+08  5.39454478e+08  1.65e-03 1.92e-08  4.34e-04   283s\n"
     ]
    },
    {
     "name": "stderr",
     "output_type": "stream",
     "text": [
      "INFO:gurobipy: 237   5.39456136e+08  5.39454478e+08  1.65e-03 1.92e-08  4.34e-04   283s\n"
     ]
    },
    {
     "name": "stdout",
     "output_type": "stream",
     "text": [
      " 238   5.39456108e+08  5.39454505e+08  1.60e-03 1.38e-08  4.19e-04   285s\n"
     ]
    },
    {
     "name": "stderr",
     "output_type": "stream",
     "text": [
      "INFO:gurobipy: 238   5.39456108e+08  5.39454505e+08  1.60e-03 1.38e-08  4.19e-04   285s\n"
     ]
    },
    {
     "name": "stdout",
     "output_type": "stream",
     "text": [
      " 239   5.39456087e+08  5.39454524e+08  1.56e-03 1.72e-08  4.09e-04   286s\n"
     ]
    },
    {
     "name": "stderr",
     "output_type": "stream",
     "text": [
      "INFO:gurobipy: 239   5.39456087e+08  5.39454524e+08  1.56e-03 1.72e-08  4.09e-04   286s\n"
     ]
    },
    {
     "name": "stdout",
     "output_type": "stream",
     "text": [
      " 240   5.39456057e+08  5.39454539e+08  1.48e-03 1.95e-08  3.97e-04   287s\n"
     ]
    },
    {
     "name": "stderr",
     "output_type": "stream",
     "text": [
      "INFO:gurobipy: 240   5.39456057e+08  5.39454539e+08  1.48e-03 1.95e-08  3.97e-04   287s\n"
     ]
    },
    {
     "name": "stdout",
     "output_type": "stream",
     "text": [
      " 241   5.39456026e+08  5.39454547e+08  1.45e-03 1.75e-08  3.87e-04   289s\n"
     ]
    },
    {
     "name": "stderr",
     "output_type": "stream",
     "text": [
      "INFO:gurobipy: 241   5.39456026e+08  5.39454547e+08  1.45e-03 1.75e-08  3.87e-04   289s\n"
     ]
    },
    {
     "name": "stdout",
     "output_type": "stream",
     "text": [
      " 242   5.39456008e+08  5.39454554e+08  1.38e-03 1.20e-08  3.80e-04   290s\n"
     ]
    },
    {
     "name": "stderr",
     "output_type": "stream",
     "text": [
      "INFO:gurobipy: 242   5.39456008e+08  5.39454554e+08  1.38e-03 1.20e-08  3.80e-04   290s\n"
     ]
    },
    {
     "name": "stdout",
     "output_type": "stream",
     "text": [
      " 243   5.39456001e+08  5.39454565e+08  1.37e-03 1.73e-08  3.75e-04   291s\n"
     ]
    },
    {
     "name": "stderr",
     "output_type": "stream",
     "text": [
      "INFO:gurobipy: 243   5.39456001e+08  5.39454565e+08  1.37e-03 1.73e-08  3.75e-04   291s\n"
     ]
    },
    {
     "name": "stdout",
     "output_type": "stream",
     "text": [
      " 244   5.39455978e+08  5.39454574e+08  1.34e-03 6.97e-09  3.67e-04   293s\n"
     ]
    },
    {
     "name": "stderr",
     "output_type": "stream",
     "text": [
      "INFO:gurobipy: 244   5.39455978e+08  5.39454574e+08  1.34e-03 6.97e-09  3.67e-04   293s\n"
     ]
    },
    {
     "name": "stdout",
     "output_type": "stream",
     "text": [
      " 245   5.39455956e+08  5.39454580e+08  1.27e-03 1.49e-08  3.60e-04   295s\n"
     ]
    },
    {
     "name": "stderr",
     "output_type": "stream",
     "text": [
      "INFO:gurobipy: 245   5.39455956e+08  5.39454580e+08  1.27e-03 1.49e-08  3.60e-04   295s\n"
     ]
    },
    {
     "name": "stdout",
     "output_type": "stream",
     "text": [
      " 246   5.39455881e+08  5.39454596e+08  1.07e-03 1.30e-08  3.36e-04   296s\n"
     ]
    },
    {
     "name": "stderr",
     "output_type": "stream",
     "text": [
      "INFO:gurobipy: 246   5.39455881e+08  5.39454596e+08  1.07e-03 1.30e-08  3.36e-04   296s\n"
     ]
    },
    {
     "name": "stdout",
     "output_type": "stream",
     "text": [
      " 247   5.39455850e+08  5.39454619e+08  1.01e-03 6.32e-09  3.22e-04   298s\n"
     ]
    },
    {
     "name": "stderr",
     "output_type": "stream",
     "text": [
      "INFO:gurobipy: 247   5.39455850e+08  5.39454619e+08  1.01e-03 6.32e-09  3.22e-04   298s\n"
     ]
    },
    {
     "name": "stdout",
     "output_type": "stream",
     "text": [
      " 248   5.39455832e+08  5.39454627e+08  1.00e-03 7.51e-09  3.15e-04   299s\n"
     ]
    },
    {
     "name": "stderr",
     "output_type": "stream",
     "text": [
      "INFO:gurobipy: 248   5.39455832e+08  5.39454627e+08  1.00e-03 7.51e-09  3.15e-04   299s\n"
     ]
    },
    {
     "name": "stdout",
     "output_type": "stream",
     "text": [
      " 249   5.39455806e+08  5.39454630e+08  9.52e-04 1.39e-08  3.07e-04   300s\n"
     ]
    },
    {
     "name": "stderr",
     "output_type": "stream",
     "text": [
      "INFO:gurobipy: 249   5.39455806e+08  5.39454630e+08  9.52e-04 1.39e-08  3.07e-04   300s\n"
     ]
    },
    {
     "name": "stdout",
     "output_type": "stream",
     "text": [
      " 250   5.39455758e+08  5.39454652e+08  1.21e-03 6.91e-09  2.89e-04   302s\n"
     ]
    },
    {
     "name": "stderr",
     "output_type": "stream",
     "text": [
      "INFO:gurobipy: 250   5.39455758e+08  5.39454652e+08  1.21e-03 6.91e-09  2.89e-04   302s\n"
     ]
    },
    {
     "name": "stdout",
     "output_type": "stream",
     "text": [
      " 251   5.39455750e+08  5.39454657e+08  1.18e-03 1.22e-08  2.86e-04   303s\n"
     ]
    },
    {
     "name": "stderr",
     "output_type": "stream",
     "text": [
      "INFO:gurobipy: 251   5.39455750e+08  5.39454657e+08  1.18e-03 1.22e-08  2.86e-04   303s\n"
     ]
    },
    {
     "name": "stdout",
     "output_type": "stream",
     "text": [
      " 252   5.39455736e+08  5.39454660e+08  1.15e-03 1.81e-08  2.81e-04   304s\n"
     ]
    },
    {
     "name": "stderr",
     "output_type": "stream",
     "text": [
      "INFO:gurobipy: 252   5.39455736e+08  5.39454660e+08  1.15e-03 1.81e-08  2.81e-04   304s\n"
     ]
    },
    {
     "name": "stdout",
     "output_type": "stream",
     "text": [
      " 253   5.39455734e+08  5.39454667e+08  1.14e-03 1.42e-08  2.79e-04   306s\n"
     ]
    },
    {
     "name": "stderr",
     "output_type": "stream",
     "text": [
      "INFO:gurobipy: 253   5.39455734e+08  5.39454667e+08  1.14e-03 1.42e-08  2.79e-04   306s\n"
     ]
    },
    {
     "name": "stdout",
     "output_type": "stream",
     "text": [
      " 254   5.39455715e+08  5.39454670e+08  1.10e-03 8.90e-09  2.73e-04   307s\n"
     ]
    },
    {
     "name": "stderr",
     "output_type": "stream",
     "text": [
      "INFO:gurobipy: 254   5.39455715e+08  5.39454670e+08  1.10e-03 8.90e-09  2.73e-04   307s\n"
     ]
    },
    {
     "name": "stdout",
     "output_type": "stream",
     "text": [
      " 255   5.39455711e+08  5.39454687e+08  1.05e-03 1.67e-08  2.68e-04   309s\n"
     ]
    },
    {
     "name": "stderr",
     "output_type": "stream",
     "text": [
      "INFO:gurobipy: 255   5.39455711e+08  5.39454687e+08  1.05e-03 1.67e-08  2.68e-04   309s\n"
     ]
    },
    {
     "name": "stdout",
     "output_type": "stream",
     "text": [
      " 256   5.39455695e+08  5.39454701e+08  1.51e-03 7.65e-09  2.60e-04   310s\n"
     ]
    },
    {
     "name": "stderr",
     "output_type": "stream",
     "text": [
      "INFO:gurobipy: 256   5.39455695e+08  5.39454701e+08  1.51e-03 7.65e-09  2.60e-04   310s\n"
     ]
    },
    {
     "name": "stdout",
     "output_type": "stream",
     "text": [
      " 257   5.39455678e+08  5.39454714e+08  1.46e-03 6.08e-09  2.52e-04   312s\n"
     ]
    },
    {
     "name": "stderr",
     "output_type": "stream",
     "text": [
      "INFO:gurobipy: 257   5.39455678e+08  5.39454714e+08  1.46e-03 6.08e-09  2.52e-04   312s\n"
     ]
    },
    {
     "name": "stdout",
     "output_type": "stream",
     "text": [
      " 258   5.39455644e+08  5.39454728e+08  1.34e-03 1.82e-08  2.40e-04   314s\n"
     ]
    },
    {
     "name": "stderr",
     "output_type": "stream",
     "text": [
      "INFO:gurobipy: 258   5.39455644e+08  5.39454728e+08  1.34e-03 1.82e-08  2.40e-04   314s\n"
     ]
    },
    {
     "name": "stdout",
     "output_type": "stream",
     "text": [
      " 259   5.39455633e+08  5.39454748e+08  1.29e-03 1.69e-08  2.32e-04   315s\n"
     ]
    },
    {
     "name": "stderr",
     "output_type": "stream",
     "text": [
      "INFO:gurobipy: 259   5.39455633e+08  5.39454748e+08  1.29e-03 1.69e-08  2.32e-04   315s\n"
     ]
    },
    {
     "name": "stdout",
     "output_type": "stream",
     "text": [
      " 260   5.39455621e+08  5.39454759e+08  1.21e-03 5.69e-09  2.25e-04   317s\n"
     ]
    },
    {
     "name": "stderr",
     "output_type": "stream",
     "text": [
      "INFO:gurobipy: 260   5.39455621e+08  5.39454759e+08  1.21e-03 5.69e-09  2.25e-04   317s\n"
     ]
    },
    {
     "name": "stdout",
     "output_type": "stream",
     "text": [
      " 261   5.39455612e+08  5.39454784e+08  1.17e-03 1.82e-08  2.17e-04   318s\n"
     ]
    },
    {
     "name": "stderr",
     "output_type": "stream",
     "text": [
      "INFO:gurobipy: 261   5.39455612e+08  5.39454784e+08  1.17e-03 1.82e-08  2.17e-04   318s\n"
     ]
    },
    {
     "name": "stdout",
     "output_type": "stream",
     "text": [
      " 262   5.39455607e+08  5.39454787e+08  1.13e-03 1.83e-08  2.14e-04   319s\n"
     ]
    },
    {
     "name": "stderr",
     "output_type": "stream",
     "text": [
      "INFO:gurobipy: 262   5.39455607e+08  5.39454787e+08  1.13e-03 1.83e-08  2.14e-04   319s\n"
     ]
    },
    {
     "name": "stdout",
     "output_type": "stream",
     "text": [
      " 263   5.39455598e+08  5.39454795e+08  1.09e-03 5.18e-09  2.10e-04   321s\n"
     ]
    },
    {
     "name": "stderr",
     "output_type": "stream",
     "text": [
      "INFO:gurobipy: 263   5.39455598e+08  5.39454795e+08  1.09e-03 5.18e-09  2.10e-04   321s\n"
     ]
    },
    {
     "name": "stdout",
     "output_type": "stream",
     "text": [
      " 264   5.39455570e+08  5.39454807e+08  9.72e-04 4.98e-09  1.99e-04   323s\n"
     ]
    },
    {
     "name": "stderr",
     "output_type": "stream",
     "text": [
      "INFO:gurobipy: 264   5.39455570e+08  5.39454807e+08  9.72e-04 4.98e-09  1.99e-04   323s\n"
     ]
    },
    {
     "name": "stdout",
     "output_type": "stream",
     "text": [
      " 265   5.39455554e+08  5.39454813e+08  8.76e-04 1.34e-08  1.94e-04   325s\n"
     ]
    },
    {
     "name": "stderr",
     "output_type": "stream",
     "text": [
      "INFO:gurobipy: 265   5.39455554e+08  5.39454813e+08  8.76e-04 1.34e-08  1.94e-04   325s\n"
     ]
    },
    {
     "name": "stdout",
     "output_type": "stream",
     "text": [
      " 266   5.39455546e+08  5.39454828e+08  8.51e-04 1.71e-08  1.88e-04   326s\n"
     ]
    },
    {
     "name": "stderr",
     "output_type": "stream",
     "text": [
      "INFO:gurobipy: 266   5.39455546e+08  5.39454828e+08  8.51e-04 1.71e-08  1.88e-04   326s\n"
     ]
    },
    {
     "name": "stdout",
     "output_type": "stream",
     "text": [
      " 267   5.39455540e+08  5.39454833e+08  8.02e-04 5.52e-09  1.85e-04   328s\n"
     ]
    },
    {
     "name": "stderr",
     "output_type": "stream",
     "text": [
      "INFO:gurobipy: 267   5.39455540e+08  5.39454833e+08  8.02e-04 5.52e-09  1.85e-04   328s\n"
     ]
    },
    {
     "name": "stdout",
     "output_type": "stream",
     "text": [
      " 268   5.39455516e+08  5.39454855e+08  7.51e-04 1.23e-08  1.73e-04   330s\n"
     ]
    },
    {
     "name": "stderr",
     "output_type": "stream",
     "text": [
      "INFO:gurobipy: 268   5.39455516e+08  5.39454855e+08  7.51e-04 1.23e-08  1.73e-04   330s\n"
     ]
    },
    {
     "name": "stdout",
     "output_type": "stream",
     "text": [
      " 269   5.39455512e+08  5.39454860e+08  7.25e-04 7.12e-09  1.70e-04   331s\n"
     ]
    },
    {
     "name": "stderr",
     "output_type": "stream",
     "text": [
      "INFO:gurobipy: 269   5.39455512e+08  5.39454860e+08  7.25e-04 7.12e-09  1.70e-04   331s\n"
     ]
    },
    {
     "name": "stdout",
     "output_type": "stream",
     "text": [
      " 270   5.39455508e+08  5.39454862e+08  6.24e-04 7.04e-09  1.69e-04   332s\n"
     ]
    },
    {
     "name": "stderr",
     "output_type": "stream",
     "text": [
      "INFO:gurobipy: 270   5.39455508e+08  5.39454862e+08  6.24e-04 7.04e-09  1.69e-04   332s\n"
     ]
    },
    {
     "name": "stdout",
     "output_type": "stream",
     "text": [
      " 271   5.39455506e+08  5.39454865e+08  6.21e-04 7.36e-09  1.68e-04   333s\n"
     ]
    },
    {
     "name": "stderr",
     "output_type": "stream",
     "text": [
      "INFO:gurobipy: 271   5.39455506e+08  5.39454865e+08  6.21e-04 7.36e-09  1.68e-04   333s\n"
     ]
    },
    {
     "name": "stdout",
     "output_type": "stream",
     "text": [
      " 272   5.39455499e+08  5.39454884e+08  5.71e-04 8.45e-09  1.61e-04   335s\n"
     ]
    },
    {
     "name": "stderr",
     "output_type": "stream",
     "text": [
      "INFO:gurobipy: 272   5.39455499e+08  5.39454884e+08  5.71e-04 8.45e-09  1.61e-04   335s\n"
     ]
    },
    {
     "name": "stdout",
     "output_type": "stream",
     "text": [
      " 273   5.39455486e+08  5.39454899e+08  5.48e-04 8.44e-09  1.53e-04   337s\n"
     ]
    },
    {
     "name": "stderr",
     "output_type": "stream",
     "text": [
      "INFO:gurobipy: 273   5.39455486e+08  5.39454899e+08  5.48e-04 8.44e-09  1.53e-04   337s\n"
     ]
    },
    {
     "name": "stdout",
     "output_type": "stream",
     "text": [
      " 274   5.39455487e+08  5.39454909e+08  5.40e-04 8.05e-09  1.51e-04   338s\n"
     ]
    },
    {
     "name": "stderr",
     "output_type": "stream",
     "text": [
      "INFO:gurobipy: 274   5.39455487e+08  5.39454909e+08  5.40e-04 8.05e-09  1.51e-04   338s\n"
     ]
    },
    {
     "name": "stdout",
     "output_type": "stream",
     "text": [
      " 275   5.39455480e+08  5.39454918e+08  5.27e-04 8.05e-09  1.47e-04   339s\n"
     ]
    },
    {
     "name": "stderr",
     "output_type": "stream",
     "text": [
      "INFO:gurobipy: 275   5.39455480e+08  5.39454918e+08  5.27e-04 8.05e-09  1.47e-04   339s\n"
     ]
    },
    {
     "name": "stdout",
     "output_type": "stream",
     "text": [
      " 276   5.39455463e+08  5.39454942e+08  6.89e-04 8.12e-09  1.36e-04   340s\n"
     ]
    },
    {
     "name": "stderr",
     "output_type": "stream",
     "text": [
      "INFO:gurobipy: 276   5.39455463e+08  5.39454942e+08  6.89e-04 8.12e-09  1.36e-04   340s\n"
     ]
    },
    {
     "name": "stdout",
     "output_type": "stream",
     "text": [
      " 277   5.39455450e+08  5.39455012e+08  5.33e-04 5.97e-09  1.14e-04   342s\n"
     ]
    },
    {
     "name": "stderr",
     "output_type": "stream",
     "text": [
      "INFO:gurobipy: 277   5.39455450e+08  5.39455012e+08  5.33e-04 5.97e-09  1.14e-04   342s\n"
     ]
    },
    {
     "name": "stdout",
     "output_type": "stream",
     "text": [
      " 278   5.39455448e+08  5.39455021e+08  4.83e-04 6.00e-09  1.11e-04   343s\n"
     ]
    },
    {
     "name": "stderr",
     "output_type": "stream",
     "text": [
      "INFO:gurobipy: 278   5.39455448e+08  5.39455021e+08  4.83e-04 6.00e-09  1.11e-04   343s\n"
     ]
    },
    {
     "name": "stdout",
     "output_type": "stream",
     "text": [
      " 279   5.39455437e+08  5.39455107e+08  4.41e-04 8.20e-09  8.62e-05   345s\n"
     ]
    },
    {
     "name": "stderr",
     "output_type": "stream",
     "text": [
      "INFO:gurobipy: 279   5.39455437e+08  5.39455107e+08  4.41e-04 8.20e-09  8.62e-05   345s\n"
     ]
    },
    {
     "name": "stdout",
     "output_type": "stream",
     "text": [
      " 280   5.39455431e+08  5.39455186e+08  1.16e-03 1.85e-08  6.42e-05   347s\n"
     ]
    },
    {
     "name": "stderr",
     "output_type": "stream",
     "text": [
      "INFO:gurobipy: 280   5.39455431e+08  5.39455186e+08  1.16e-03 1.85e-08  6.42e-05   347s\n"
     ]
    },
    {
     "name": "stdout",
     "output_type": "stream",
     "text": [
      " 281   5.39455430e+08  5.39455192e+08  1.13e-03 9.39e-09  6.24e-05   348s\n"
     ]
    },
    {
     "name": "stderr",
     "output_type": "stream",
     "text": [
      "INFO:gurobipy: 281   5.39455430e+08  5.39455192e+08  1.13e-03 9.39e-09  6.24e-05   348s\n"
     ]
    },
    {
     "name": "stdout",
     "output_type": "stream",
     "text": [
      " 282   5.39455429e+08  5.39455196e+08  1.09e-03 2.89e-09  6.10e-05   349s\n"
     ]
    },
    {
     "name": "stderr",
     "output_type": "stream",
     "text": [
      "INFO:gurobipy: 282   5.39455429e+08  5.39455196e+08  1.09e-03 2.89e-09  6.10e-05   349s\n"
     ]
    },
    {
     "name": "stdout",
     "output_type": "stream",
     "text": [
      " 283   5.39455420e+08  5.39455318e+08  7.68e-04 2.73e-08  2.66e-05   350s\n"
     ]
    },
    {
     "name": "stderr",
     "output_type": "stream",
     "text": [
      "INFO:gurobipy: 283   5.39455420e+08  5.39455318e+08  7.68e-04 2.73e-08  2.66e-05   350s\n"
     ]
    },
    {
     "name": "stdout",
     "output_type": "stream",
     "text": [
      " 284   5.39455406e+08  5.39455324e+08  4.93e-04 2.56e-09  2.15e-05   352s\n"
     ]
    },
    {
     "name": "stderr",
     "output_type": "stream",
     "text": [
      "INFO:gurobipy: 284   5.39455406e+08  5.39455324e+08  4.93e-04 2.56e-09  2.15e-05   352s\n"
     ]
    },
    {
     "name": "stdout",
     "output_type": "stream",
     "text": [
      " 285   5.39455406e+08  5.39455326e+08  4.93e-04 2.04e-08  2.11e-05   353s\n"
     ]
    },
    {
     "name": "stderr",
     "output_type": "stream",
     "text": [
      "INFO:gurobipy: 285   5.39455406e+08  5.39455326e+08  4.93e-04 2.04e-08  2.11e-05   353s\n"
     ]
    },
    {
     "name": "stdout",
     "output_type": "stream",
     "text": [
      " 286   5.39455407e+08  5.39455331e+08  1.27e-03 1.59e-09  1.99e-05   354s\n"
     ]
    },
    {
     "name": "stderr",
     "output_type": "stream",
     "text": [
      "INFO:gurobipy: 286   5.39455407e+08  5.39455331e+08  1.27e-03 1.59e-09  1.99e-05   354s\n"
     ]
    },
    {
     "name": "stdout",
     "output_type": "stream",
     "text": [
      " 287   5.39455405e+08  5.39455335e+08  1.15e-03 1.31e-09  1.85e-05   355s\n"
     ]
    },
    {
     "name": "stderr",
     "output_type": "stream",
     "text": [
      "INFO:gurobipy: 287   5.39455405e+08  5.39455335e+08  1.15e-03 1.31e-09  1.85e-05   355s\n"
     ]
    },
    {
     "name": "stdout",
     "output_type": "stream",
     "text": [
      " 288   5.39455405e+08  5.39455335e+08  1.07e-03 8.66e-10  1.83e-05   356s\n"
     ]
    },
    {
     "name": "stderr",
     "output_type": "stream",
     "text": [
      "INFO:gurobipy: 288   5.39455405e+08  5.39455335e+08  1.07e-03 8.66e-10  1.83e-05   356s\n"
     ]
    },
    {
     "name": "stdout",
     "output_type": "stream",
     "text": [
      " 289   5.39455401e+08  5.39455379e+08  6.53e-04 1.54e-08  5.89e-06   358s\n"
     ]
    },
    {
     "name": "stderr",
     "output_type": "stream",
     "text": [
      "INFO:gurobipy: 289   5.39455401e+08  5.39455379e+08  6.53e-04 1.54e-08  5.89e-06   358s\n"
     ]
    },
    {
     "name": "stdout",
     "output_type": "stream",
     "text": [
      " 290   5.39455399e+08  5.39455384e+08  4.26e-04 4.08e-08  3.98e-06   359s\n"
     ]
    },
    {
     "name": "stderr",
     "output_type": "stream",
     "text": [
      "INFO:gurobipy: 290   5.39455399e+08  5.39455384e+08  4.26e-04 4.08e-08  3.98e-06   359s\n"
     ]
    },
    {
     "name": "stdout",
     "output_type": "stream",
     "text": [
      " 291   5.39455398e+08  5.39455385e+08  3.80e-04 5.75e-10  3.60e-06   360s\n"
     ]
    },
    {
     "name": "stderr",
     "output_type": "stream",
     "text": [
      "INFO:gurobipy: 291   5.39455398e+08  5.39455385e+08  3.80e-04 5.75e-10  3.60e-06   360s\n"
     ]
    },
    {
     "name": "stdout",
     "output_type": "stream",
     "text": [
      " 292   5.39455398e+08  5.39455388e+08  3.53e-04 1.85e-08  2.70e-06   361s\n"
     ]
    },
    {
     "name": "stderr",
     "output_type": "stream",
     "text": [
      "INFO:gurobipy: 292   5.39455398e+08  5.39455388e+08  3.53e-04 1.85e-08  2.70e-06   361s\n"
     ]
    },
    {
     "name": "stdout",
     "output_type": "stream",
     "text": [
      " 293   5.39455397e+08  5.39455391e+08  2.18e-04 6.04e-08  1.57e-06   362s\n"
     ]
    },
    {
     "name": "stderr",
     "output_type": "stream",
     "text": [
      "INFO:gurobipy: 293   5.39455397e+08  5.39455391e+08  2.18e-04 6.04e-08  1.57e-06   362s\n"
     ]
    },
    {
     "name": "stdout",
     "output_type": "stream",
     "text": [
      " 294   5.39455397e+08  5.39455392e+08  1.95e-04 3.27e-09  1.28e-06   363s\n"
     ]
    },
    {
     "name": "stderr",
     "output_type": "stream",
     "text": [
      "INFO:gurobipy: 294   5.39455397e+08  5.39455392e+08  1.95e-04 3.27e-09  1.28e-06   363s\n"
     ]
    },
    {
     "name": "stdout",
     "output_type": "stream",
     "text": [
      "\n"
     ]
    },
    {
     "name": "stderr",
     "output_type": "stream",
     "text": [
      "INFO:gurobipy:\n"
     ]
    },
    {
     "name": "stdout",
     "output_type": "stream",
     "text": [
      "Barrier solved model in 294 iterations and 362.91 seconds (534.36 work units)\n"
     ]
    },
    {
     "name": "stderr",
     "output_type": "stream",
     "text": [
      "INFO:gurobipy:Barrier solved model in 294 iterations and 362.91 seconds (534.36 work units)\n"
     ]
    },
    {
     "name": "stdout",
     "output_type": "stream",
     "text": [
      "Optimal objective 5.39455397e+08\n"
     ]
    },
    {
     "name": "stderr",
     "output_type": "stream",
     "text": [
      "INFO:gurobipy:Optimal objective 5.39455397e+08\n"
     ]
    },
    {
     "name": "stdout",
     "output_type": "stream",
     "text": [
      "\n"
     ]
    },
    {
     "name": "stderr",
     "output_type": "stream",
     "text": [
      "INFO:gurobipy:\n"
     ]
    },
    {
     "name": "stdout",
     "output_type": "stream",
     "text": [
      "Crossover log...\n"
     ]
    },
    {
     "name": "stderr",
     "output_type": "stream",
     "text": [
      "INFO:gurobipy:Crossover log...\n"
     ]
    },
    {
     "name": "stdout",
     "output_type": "stream",
     "text": [
      "\n"
     ]
    },
    {
     "name": "stderr",
     "output_type": "stream",
     "text": [
      "INFO:gurobipy:\n"
     ]
    },
    {
     "name": "stdout",
     "output_type": "stream",
     "text": [
      "\n"
     ]
    },
    {
     "name": "stderr",
     "output_type": "stream",
     "text": [
      "INFO:gurobipy:\n"
     ]
    },
    {
     "name": "stdout",
     "output_type": "stream",
     "text": [
      "Restart crossover...\n"
     ]
    },
    {
     "name": "stderr",
     "output_type": "stream",
     "text": [
      "INFO:gurobipy:Restart crossover...\n"
     ]
    },
    {
     "name": "stdout",
     "output_type": "stream",
     "text": [
      "\n"
     ]
    },
    {
     "name": "stderr",
     "output_type": "stream",
     "text": [
      "INFO:gurobipy:\n"
     ]
    },
    {
     "name": "stdout",
     "output_type": "stream",
     "text": [
      "  Push phase complete: Pinf 6.5626927e-04, Dinf 4.7331052e-09    364s\n"
     ]
    },
    {
     "name": "stderr",
     "output_type": "stream",
     "text": [
      "INFO:gurobipy:  Push phase complete: Pinf 6.5626927e-04, Dinf 4.7331052e-09    364s\n"
     ]
    },
    {
     "name": "stdout",
     "output_type": "stream",
     "text": [
      "\n"
     ]
    },
    {
     "name": "stderr",
     "output_type": "stream",
     "text": [
      "INFO:gurobipy:\n"
     ]
    },
    {
     "name": "stdout",
     "output_type": "stream",
     "text": [
      "Waiting for other threads to finish...         425s\n"
     ]
    },
    {
     "name": "stderr",
     "output_type": "stream",
     "text": [
      "INFO:gurobipy:Waiting for other threads to finish...         425s\n"
     ]
    },
    {
     "name": "stdout",
     "output_type": "stream",
     "text": [
      "Waiting for other threads to finish...         488s\n"
     ]
    },
    {
     "name": "stderr",
     "output_type": "stream",
     "text": [
      "INFO:gurobipy:Waiting for other threads to finish...         488s\n"
     ]
    },
    {
     "name": "stdout",
     "output_type": "stream",
     "text": [
      "Waiting for other threads to finish...         560s\n"
     ]
    },
    {
     "name": "stderr",
     "output_type": "stream",
     "text": [
      "INFO:gurobipy:Waiting for other threads to finish...         560s\n"
     ]
    },
    {
     "name": "stdout",
     "output_type": "stream",
     "text": [
      "Waiting for other threads to finish...         620s\n"
     ]
    },
    {
     "name": "stderr",
     "output_type": "stream",
     "text": [
      "INFO:gurobipy:Waiting for other threads to finish...         620s\n"
     ]
    },
    {
     "name": "stdout",
     "output_type": "stream",
     "text": [
      "Waiting for other threads to finish...         680s\n"
     ]
    },
    {
     "name": "stderr",
     "output_type": "stream",
     "text": [
      "INFO:gurobipy:Waiting for other threads to finish...         680s\n"
     ]
    },
    {
     "name": "stdout",
     "output_type": "stream",
     "text": [
      "Waiting for other threads to finish...         741s\n"
     ]
    },
    {
     "name": "stderr",
     "output_type": "stream",
     "text": [
      "INFO:gurobipy:Waiting for other threads to finish...         741s\n"
     ]
    },
    {
     "name": "stdout",
     "output_type": "stream",
     "text": [
      "Waiting for other threads to finish...         801s\n"
     ]
    },
    {
     "name": "stderr",
     "output_type": "stream",
     "text": [
      "INFO:gurobipy:Waiting for other threads to finish...         801s\n"
     ]
    },
    {
     "name": "stdout",
     "output_type": "stream",
     "text": [
      "Waiting for other threads to finish...         861s\n"
     ]
    },
    {
     "name": "stderr",
     "output_type": "stream",
     "text": [
      "INFO:gurobipy:Waiting for other threads to finish...         861s\n"
     ]
    },
    {
     "name": "stdout",
     "output_type": "stream",
     "text": [
      "Waiting for other threads to finish...         925s\n"
     ]
    },
    {
     "name": "stderr",
     "output_type": "stream",
     "text": [
      "INFO:gurobipy:Waiting for other threads to finish...         925s\n"
     ]
    },
    {
     "name": "stdout",
     "output_type": "stream",
     "text": [
      "Waiting for other threads to finish...         997s\n"
     ]
    },
    {
     "name": "stderr",
     "output_type": "stream",
     "text": [
      "INFO:gurobipy:Waiting for other threads to finish...         997s\n"
     ]
    },
    {
     "name": "stdout",
     "output_type": "stream",
     "text": [
      "Waiting for other threads to finish...        1070s\n"
     ]
    },
    {
     "name": "stderr",
     "output_type": "stream",
     "text": [
      "INFO:gurobipy:Waiting for other threads to finish...        1070s\n"
     ]
    },
    {
     "name": "stdout",
     "output_type": "stream",
     "text": [
      "\n"
     ]
    },
    {
     "name": "stderr",
     "output_type": "stream",
     "text": [
      "INFO:gurobipy:\n"
     ]
    },
    {
     "name": "stdout",
     "output_type": "stream",
     "text": [
      "Solved with primal simplex\n"
     ]
    },
    {
     "name": "stderr",
     "output_type": "stream",
     "text": [
      "INFO:gurobipy:Solved with primal simplex\n"
     ]
    },
    {
     "name": "stdout",
     "output_type": "stream",
     "text": [
      "Iteration    Objective       Primal Inf.    Dual Inf.      Time\n"
     ]
    },
    {
     "name": "stderr",
     "output_type": "stream",
     "text": [
      "INFO:gurobipy:Iteration    Objective       Primal Inf.    Dual Inf.      Time\n"
     ]
    },
    {
     "name": "stdout",
     "output_type": "stream",
     "text": [
      " 1959021    5.3945539e+08   0.000000e+00   0.000000e+00   1083s\n"
     ]
    },
    {
     "name": "stderr",
     "output_type": "stream",
     "text": [
      "INFO:gurobipy: 1959021    5.3945539e+08   0.000000e+00   0.000000e+00   1083s\n"
     ]
    },
    {
     "name": "stdout",
     "output_type": "stream",
     "text": [
      "\n"
     ]
    },
    {
     "name": "stderr",
     "output_type": "stream",
     "text": [
      "INFO:gurobipy:\n"
     ]
    },
    {
     "name": "stdout",
     "output_type": "stream",
     "text": [
      "Solved in 1959021 iterations and 1082.79 seconds (4221.33 work units)\n"
     ]
    },
    {
     "name": "stderr",
     "output_type": "stream",
     "text": [
      "INFO:gurobipy:Solved in 1959021 iterations and 1082.79 seconds (4221.33 work units)\n"
     ]
    },
    {
     "name": "stdout",
     "output_type": "stream",
     "text": [
      "Optimal objective  5.394553949e+08\n"
     ]
    },
    {
     "name": "stderr",
     "output_type": "stream",
     "text": [
      "INFO:gurobipy:Optimal objective  5.394553949e+08\n",
      "INFO:linopy.constants: Optimization successful: \n",
      "Status: ok\n",
      "Termination condition: optimal\n",
      "Solution: 2103846 primals, 5259607 duals\n",
      "Objective: 5.39e+08\n",
      "Solver model: available\n",
      "Solver message: 2\n",
      "\n",
      "INFO:pypsa.optimization.optimize:The shadow-prices of the constraints Generator-fix-p-lower, Generator-fix-p-upper, Generator-ext-p-lower, Generator-ext-p-upper, Link-ext-p-lower, Link-ext-p-upper, StorageUnit-ext-p_dispatch-lower, StorageUnit-ext-p_dispatch-upper, StorageUnit-ext-p_store-lower, StorageUnit-ext-p_store-upper, StorageUnit-ext-state_of_charge-lower, StorageUnit-ext-state_of_charge-upper, StorageUnit-energy_balance were not assigned to the network.\n"
     ]
    }
   ],
   "source": [
    "n.add(\"Generator\",\n",
    "      name=\"Nuclear_Fuel_Supply\",\n",
    "      bus=\"nuclear\",\n",
    "      carrier=\"nuclear\",\n",
    "      p_nom=1e9,             # Initial capacity in MW\n",
    "      marginal_cost=0)        # Assuming no marginal cost for fuel supply\n",
    "\n",
    "n.add(\"Generator\",\n",
    "      name=\"Geothermal_Heat_Supply\",\n",
    "      bus=\"geothermal\",\n",
    "      carrier=\"geothermal\",\n",
    "      p_nom=1e9,              # Initial capacity in MW\n",
    "      marginal_cost=0)\n",
    "\n",
    "# Final optimization with the solar capacity constraint\n",
    "print(\"Running final optimization with solar capacity constraint...\")\n",
    "final_result = n.optimize(solver_name=\"gurobi\", log_fn=\"final_solver_log.txt\")"
   ]
  },
  {
   "cell_type": "code",
   "execution_count": 67,
   "id": "4acdb680-0003-45df-9128-fd69007865b3",
   "metadata": {},
   "outputs": [
    {
     "name": "stdout",
     "output_type": "stream",
     "text": [
      "                                bus     carrier         p_nom     p_nom_opt\n",
      "Generator                                                                  \n",
      "Solar PV                electricity       solar  0.000000e+00  7.090805e+04\n",
      "Nuclear_Fuel_Supply         nuclear     nuclear  1.000000e+09  1.000000e+09\n",
      "Geothermal_Heat_Supply   geothermal  geothermal  1.000000e+09  1.000000e+09\n"
     ]
    }
   ],
   "source": [
    "# Display installed capacities of all generators\n",
    "print(n.generators[[\"bus\", \"carrier\", \"p_nom\", \"p_nom_opt\"]])"
   ]
  },
  {
   "cell_type": "code",
   "execution_count": 68,
   "id": "627556c3-c936-44c6-b425-307aeeaf8703",
   "metadata": {},
   "outputs": [
    {
     "name": "stdout",
     "output_type": "stream",
     "text": [
      "                                                bus0         bus1     carrier  \\\n",
      "Link                                                                            \n",
      "Nuclear Power Plant + SuperCritical CO2      nuclear  electricity     nuclear   \n",
      "Geothermal Power Plant                    geothermal  electricity  geothermal   \n",
      "Regenerative Heater                      electricity         heat      heater   \n",
      "\n",
      "                                         p_nom     p_nom_opt  \n",
      "Link                                                          \n",
      "Nuclear Power Plant + SuperCritical CO2    0.0      0.000000  \n",
      "Geothermal Power Plant                     0.0  24703.783809  \n",
      "Regenerative Heater                        0.0   8827.573537  \n"
     ]
    }
   ],
   "source": [
    "# Display installed capacities of all links\n",
    "print(n.links[[\"bus0\", \"bus1\", \"carrier\", \"p_nom\", \"p_nom_opt\"]])"
   ]
  },
  {
   "cell_type": "code",
   "execution_count": 69,
   "id": "ff1218cf-9cab-4782-a342-a6efe3f1c4c3",
   "metadata": {},
   "outputs": [
    {
     "name": "stdout",
     "output_type": "stream",
     "text": [
      "Installed Geothermal Capacity: 24703.78 MW\n",
      "Solar Capacity Limit (40%): 12351.89 MW\n"
     ]
    }
   ],
   "source": [
    "# Sum the optimal capacities of geothermal power plants\n",
    "geothermal_installed_capacity = n.links.loc[n.links.carrier == \"geothermal\", \"p_nom_opt\"].sum()\n",
    "print(f\"Installed Geothermal Capacity: {geothermal_installed_capacity:.2f} MW\")\n",
    "\n",
    "# Calculate 50% of the installed solar capacity\n",
    "geothermal_capacity_limit = 0.5 * geothermal_installed_capacity\n",
    "print(f\"Solar Capacity Limit (50%): {geothermal_capacity_limit:.2f} MW\")"
   ]
  },
  {
   "cell_type": "code",
   "execution_count": 43,
   "id": "a8e61e2d-22e6-4660-aefc-b8d14cd8928f",
   "metadata": {},
   "outputs": [
    {
     "name": "stdout",
     "output_type": "stream",
     "text": [
      "                      bus carrier type  p_set  q_set  sign  active\n",
      "Load                                                              \n",
      "power demand  electricity                 0.0    0.0  -1.0    True\n",
      "heat demand          heat                 0.0    0.0  -1.0    True\n"
     ]
    }
   ],
   "source": [
    "geothermal_capacity_limit = 12351.89"
   ]
  },
  {
   "cell_type": "code",
   "execution_count": null,
   "id": "ae4cdc4e-9665-443a-a57e-9b974f6411ac",
   "metadata": {},
   "outputs": [],
   "source": []
  }
 ],
 "metadata": {
  "kernelspec": {
   "display_name": "Python 3 (ipykernel)",
   "language": "python",
   "name": "python3"
  },
  "language_info": {
   "codemirror_mode": {
    "name": "ipython",
    "version": 3
   },
   "file_extension": ".py",
   "mimetype": "text/x-python",
   "name": "python",
   "nbconvert_exporter": "python",
   "pygments_lexer": "ipython3",
   "version": "3.9.18"
  }
 },
 "nbformat": 4,
 "nbformat_minor": 5
}
